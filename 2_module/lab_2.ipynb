{
 "cells": [
  {
   "cell_type": "markdown",
   "metadata": {},
   "source": [
    "# Module 2 Lab - Probability"
   ]
  },
  {
   "cell_type": "markdown",
   "metadata": {},
   "source": [
    "## Directions\n",
    "\n",
    "**Failure to follow the directions will result in a \"0\"**\n",
    "\n",
    "The due dates for each are indicated in the Syllabus and the course calendar. If anything is unclear, please email the official email for the course or ask questions in the Lab discussion area on Blackboard.\n",
    "\n",
    "The Labs also present technical material that augments the lectures and \"book\".  You should read through the entire lab at the start of each module.\n",
    "\n",
    "### General Instructions\n",
    "\n",
    "1.  You will be submitting your assignment to Blackboard. If there are no accompanying files, you should submit *only* your notebook and it should be named using *only* your JHED id: fsmith79.ipynb for example if your JHED id were \"fsmith79\". If the assignment requires additional files, you should name the *folder/directory* your JHED id and put all items in that folder/directory, ZIP it up (only ZIP...no other compression), and submit it to Blackboard.\n",
    "    \n",
    "    * do **not** use absolute paths in your notebooks. All resources should appear in the same directory as the rest of your assignments.\n",
    "    * the directory **must** be named your JHED id and **only** your JHED id.\n",
    "    \n",
    "2. Data Science is as much about what you write (communicating) as the code you execute (researching). In many places, you will be required to execute code and discuss both the purpose and the result. Additionally, Data Science is about reproducibility and transparency. This includes good communication with your team and possibly with yourself. Therefore, you must show **all** work.\n",
    "\n",
    "3. Avail yourself of the Markdown/Codecell nature of the notebook. If you don't know about Markdown, look it up. Your notebooks should not look like ransom notes. Don't make everything bold. Clearly indicate what question you are answering.\n",
    "\n",
    "4. Submit a cleanly executed notebook. It should say `In [1]` for the first codecell and increase by 1 throughout."
   ]
  },
  {
   "cell_type": "markdown",
   "metadata": {},
   "source": [
    "## Manipulating and Interpreting Probability\n",
    "\n",
    "Given the following *joint probability distribution*, $P(A,B)$, for $A$ and $B$,\n"
   ]
  },
  {
   "cell_type": "markdown",
   "metadata": {},
   "source": [
    "|    | a1   | a2   |\n",
    "|----|------|------|\n",
    "| b1 | 0.37 | 0.16 |\n",
    "| b2 | 0.23 | ?    |"
   ]
  },
  {
   "cell_type": "markdown",
   "metadata": {},
   "source": [
    "\n",
    "Answer the following questions.\n",
    "\n",
    "**1\\. What is $P(A=a2, B=b2)$?**"
   ]
  },
  {
   "cell_type": "markdown",
   "metadata": {},
   "source": [
    "Because the values in the table represent all of the possible outcomes, the total probability must sum to 1. Using this knowledge, we can calculate that \n",
    "$$\n",
    "\\begin{aligned}\n",
    "P(A=a2, B=b2) &= 1 - (0.37 + 0.23 + 0.16) \\\\\n",
    "&= 0.24\n",
    "\\end{aligned}\n",
    "$$\n",
    "\n",
    "$$ \\fbox{$P(A=a2, B=b2) = 0.24$} $$"
   ]
  },
  {
   "cell_type": "markdown",
   "metadata": {},
   "source": [
    "---\n",
    "**2\\. If I observe events from this probability distribution, what is the probability of seeing (a1, b1) then (a2, b2)?**"
   ]
  },
  {
   "cell_type": "markdown",
   "metadata": {},
   "source": [
    "Assuming the events are independent and identically distributed:\n",
    "\n",
    "$$\n",
    "\\begin{aligned}\n",
    "P((a1, b1) \\text{ then } (a2,b2)) &= P(A=a1,B=b1) \\cdot P(A=a2,B=b2) \\\\\n",
    "&= 0.37 \\cdot 0.24 \\\\\n",
    "&= 0.0888\n",
    "\\end{aligned}\n",
    "$$\n",
    "\n",
    "$$ \\fbox{$P((a1, b1) \\text{ then } (a2,b2)) = 0.0888$} $$"
   ]
  },
  {
   "cell_type": "markdown",
   "metadata": {},
   "source": [
    "---\n",
    "**3\\. Calculate the marginal probability distribution, $P(A)$.**"
   ]
  },
  {
   "cell_type": "markdown",
   "metadata": {},
   "source": [
    "The marginal probability distribution of A, explained in terms of the table shown at the start, is the sum of each column.\n",
    "\n",
    "$$ \\fbox{$P(A=a1) = 0.37 + 0.23 = 0.6$} $$\n",
    "and\n",
    "$$ \\fbox{$P(A=a2) = 0.16 + 0.24 = 0.4$} $$"
   ]
  },
  {
   "cell_type": "markdown",
   "metadata": {},
   "source": [
    "---\n",
    "**4\\. Calculate the marginal probability distribution, $P(B)$.**"
   ]
  },
  {
   "cell_type": "markdown",
   "metadata": {},
   "source": [
    "The marginal probability distribution of B, explained in terms of the table shown at the start, is the sum of each row.\n",
    "\n",
    "$$ \\fbox{$P(B=b1) = 0.37 + 0.16 = 0.53$} $$\n",
    "and\n",
    "$$ \\fbox{$P(B=b2) = 0.23 + 0.24 = 0.47$} $$"
   ]
  },
  {
   "cell_type": "markdown",
   "metadata": {},
   "source": [
    "---\n",
    "**5\\. Calculate the conditional probability distribution, $P(A|B)$.**"
   ]
  },
  {
   "cell_type": "markdown",
   "metadata": {},
   "source": [
    "|    | a1   | a2   |P(B)  |\n",
    "|----|------|------|------|\n",
    "| b1 | 0.37 | 0.16 | 0.53 |\n",
    "| b2 | 0.23 | 0.24 | 0.47 |\n",
    "|P(A)| 0.60 | 0.40 | 1.00 |"
   ]
  },
  {
   "cell_type": "markdown",
   "metadata": {},
   "source": [
    "Let's use \n",
    "\n",
    "$$\n",
    "\\begin{aligned}\n",
    "P(A|B) &= \\frac{P(A,B)}{P(B)} \\\\\n",
    "&= \\begin{bmatrix}\n",
    "\\frac{0.37}{0.53} & \\frac{0.16}{0.53} \\\\\n",
    "\\frac{0.23}{0.47} & \\frac{0.24}{0.47}\n",
    "\\end{bmatrix} \\\\\n",
    "&= \\begin{bmatrix}\n",
    "0.698113 & 0.301887 \\\\\n",
    "0.489362 & 0.510638\n",
    "\\end{bmatrix}\n",
    "\\end{aligned}\n",
    "$$\n",
    "\n",
    "$$ \\fbox{$P(A|B) = \\begin{bmatrix}\n",
    "0.698113 & 0.301887 \\\\\n",
    "0.489362 & 0.510638\n",
    "\\end{bmatrix}$} $$"
   ]
  },
  {
   "cell_type": "markdown",
   "metadata": {},
   "source": [
    "---\n",
    "**6\\. Calculate the conditional probability distribution, $P(B|A)$.**"
   ]
  },
  {
   "cell_type": "markdown",
   "metadata": {},
   "source": [
    "|    | a1   | a2   |P(B)  |\n",
    "|----|------|------|------|\n",
    "| b1 | 0.37 | 0.16 | 0.53 |\n",
    "| b2 | 0.23 | 0.24 | 0.47 |\n",
    "|P(A)| 0.60 | 0.40 | 1.00 |"
   ]
  },
  {
   "cell_type": "markdown",
   "metadata": {},
   "source": [
    "Let's use \n",
    "\n",
    "$$\n",
    "\\begin{aligned}\n",
    "P(B|A) &= \\frac{P(B,A)}{P(A)} \\\\\n",
    "&= \\begin{bmatrix}\n",
    "\\frac{0.37}{0.60} & \\frac{0.16}{0.40} \\\\\n",
    "\\frac{0.23}{0.60} & \\frac{0.24}{0.40}\n",
    "\\end{bmatrix} \\\\\n",
    "&= \\begin{bmatrix}\n",
    " 0.616667 & 0.4 \\\\\n",
    " 0.383333 & 0.6\n",
    "\\end{bmatrix}\n",
    "\\end{aligned}\n",
    "$$\n",
    "\n",
    "$$ \\fbox{$P(B|A) = \\begin{bmatrix}\n",
    " 0.616667 & 0.4 \\\\\n",
    " 0.383333 & 0.6\n",
    "\\end{bmatrix}$} $$"
   ]
  },
  {
   "cell_type": "markdown",
   "metadata": {},
   "source": [
    "---\n",
    "**7\\. Does $P(A|B) = P(B|A)$? What do we call the belief that these are always equal?**"
   ]
  },
  {
   "cell_type": "markdown",
   "metadata": {},
   "source": [
    "In this case, we can clearly see that $P(A|B) \\ne P(B|A)$\n",
    "\n",
    "$P(A|B) = P(B|A)$ is only true when $P(A) = P(B)$. \n",
    "\n",
    "In general, we call this the Inverse Probability Fallacy"
   ]
  },
  {
   "cell_type": "markdown",
   "metadata": {},
   "source": [
    "---\n",
    "**8\\. Does $P(A) = P(A|B)$? What does that mean about the independence of $A$ and $B$?**"
   ]
  },
  {
   "cell_type": "markdown",
   "metadata": {},
   "source": [
    "In this case, $P(A) \\ne P(A|B)$. This means that $A$ and $B$ are not independent."
   ]
  },
  {
   "cell_type": "markdown",
   "metadata": {},
   "source": [
    "---\n",
    "**9\\. Using $P(A)$, $P(B|A)$, $P(B)$ from above, calculate,**\n",
    "\n",
    "$P(A|B) = \\frac{P(B|A)P(A)}{P(B)}$\n",
    "\n",
    "Does it match your previous calculation for $P(A|B)$?"
   ]
  },
  {
   "cell_type": "markdown",
   "metadata": {},
   "source": [
    "$$\n",
    "\\begin{aligned}\n",
    "P(A|B) &= \\frac{P(B|A)P(A)}{P(B)} \\\\\n",
    "&= \\frac{\\begin{bmatrix}\n",
    " 0.616667 & 0.4 \\\\\n",
    " 0.383333 & 0.6\n",
    "\\end{bmatrix} \\begin{bmatrix} 0.60 & 0.40 \\end{bmatrix}}\n",
    "{\\begin{bmatrix} 0.53 \\\\ 0.47 \\end{bmatrix}}  \\\\\n",
    "&= \\begin{bmatrix}\n",
    "0.698113 & 0.301887 \\\\\n",
    "0.489362 & 0.510638\n",
    "\\end{bmatrix}\n",
    "\\end{aligned}\n",
    "$$\n",
    "\n",
    "This does match the previous calculation for $P(A|B)$"
   ]
  },
  {
   "cell_type": "markdown",
   "metadata": {},
   "source": [
    "---\n",
    "**10\\. If we let A = H (some condition, characteristic, hypothesis) and B = D (some data, evidence, a test result), then how do we interpret each of the following: $P(H)$, $P(D)$, $P(H|D)$, $P(D|H)$, $P(H, D)$?**"
   ]
  },
  {
   "cell_type": "markdown",
   "metadata": {},
   "source": [
    "**$P(H)$:** This is the probability of each condition/characteristic/hypothesis \n",
    "\n",
    "**$P(D)$:** This is the relative frequency of each outcome of the data/evidence/test result\n",
    "\n",
    "**$P(H|D)$:** This is the probability of a particular hypothesis outcome given particular data\n",
    "\n",
    "**$P(D|H)$:** This is the probability of receiving particular data based on our hypothesis\n",
    "\n",
    "**$P(H,D)$:** This is the joint probability. In other words, it is the probability of some data outcome AND the probability of a hypothesis."
   ]
  },
  {
   "cell_type": "markdown",
   "metadata": {},
   "source": [
    "---\n",
    "---\n",
    "## Bayes Rule\n",
    "\n",
    "Bayes Rule will be an important part of our toolset in the weeks to come, especially in terms of Bayesian Inference. Work through the following problems in Bayes Rule."
   ]
  },
  {
   "cell_type": "markdown",
   "metadata": {},
   "source": [
    "### Problem 1\n",
    "\n",
    "You might be interested in finding out a patient’s probability of having liver disease if they are an alcoholic. “Being an alcoholic” is the test (kind of like a litmus test) for liver disease.\n",
    "\n",
    "Let `A` be the presence or absence of liver disease (`a` is that they have it; `~a`, \"not a\", is that they don't). Past data tells you that 10% of patients entering your clinic have liver disease.\n",
    "\n",
    "Let `B` be alcoholic (`b`) or not alcoholic (`~b`). Among those patients diagnosed with liver disease, 7% are alcoholics or `P(b|a)`. However, if someone is not an alcoholic, there is a 95.2% probability they don't have liver disease, `P(~b|~a)`.\n",
    "\n",
    "What is P(A|B)? (Remember this is a number of probability distributions, not just a probability)."
   ]
  },
  {
   "cell_type": "markdown",
   "metadata": {},
   "source": [
    "Let's start by trying to fill out a joint probability table"
   ]
  },
  {
   "cell_type": "markdown",
   "metadata": {},
   "source": [
    "|    | $a$  |$\\neg a$ |$P(B)$|\n",
    "|----:|:------:|:-----:|----|\n",
    "| $b$  | ?    |  ?     |  |\n",
    "| $\\neg b$ | ?    | ?  |  |\n",
    "|$P(A)$| 0.10 | 0.90   |  |"
   ]
  },
  {
   "cell_type": "markdown",
   "metadata": {},
   "source": [
    "Not much of it is filled out, but at least we have $P(A)$. \n",
    "\n",
    "Baye's Rule is \n",
    "$$ P(A|B) = \\frac{P(A,B)}{P(B)} $$\n",
    "With this, we can start filling out some of the squares because we know $P(b|a)$ and $P(\\neg b| \\neg a)$\n",
    "\n",
    "$$\n",
    "\\begin{aligned}\n",
    "P(b|a) &= \\frac{P(b,a)}{P(a)} \\\\\n",
    "P(b|a) \\cdot P(a) &= P(b,a) \\\\\n",
    "P(b,a) &= (0.07)(0.10) \\\\\n",
    "&= 0.007\n",
    "\\end{aligned}\n",
    "$$\n",
    "Now let's find $P(\\neg b,\\neg a)$\n",
    "$$\n",
    "\\begin{aligned}\n",
    "P(\\neg b|\\neg a) &= \\frac{P(\\neg b,\\neg a)}{P(\\neg a)} \\\\\n",
    "P(\\neg b|\\neg a) \\cdot P(\\neg a) &= P(\\neg b,\\neg a) \\\\\n",
    "P(\\neg b,\\neg a) &= (0.952)(0.90) \\\\\n",
    "&= 0.8568\n",
    "\\end{aligned}\n",
    "$$\n",
    "\n",
    "With these new values, let's fill out the table a little more"
   ]
  },
  {
   "cell_type": "markdown",
   "metadata": {},
   "source": [
    "|          | $a$  |$\\neg a$|$P(B)$|\n",
    "|----:     |:----:|:-----: |----  |\n",
    "| $b$      | 0.007|  ?     |      |\n",
    "| $\\neg b$ | ?    | 0.8568 |      |\n",
    "|$P(A)$    | 0.10 | 0.90   |      |"
   ]
  },
  {
   "cell_type": "markdown",
   "metadata": {},
   "source": [
    "Because we know that $P(a) = P(a,b) + P(a, \\neg b) $ we can calculate \n",
    "$$P(a, \\neg b) = 0.10 - 0.007 = 0.093$$\n",
    "and \n",
    "$$ P(\\neg a, b) =  0.90 - 0.8568 = 0.0432 $$"
   ]
  },
  {
   "cell_type": "markdown",
   "metadata": {},
   "source": [
    "|          | $a$  |$\\neg a$|$P(B)$|\n",
    "|----:     |:----:|:-----: |----  |\n",
    "| $b$      | 0.007| 0.0432 |      |\n",
    "| $\\neg b$ | 0.093| 0.8568 |      |\n",
    "|$P(A)$    | 0.100| 0.9000 |      |"
   ]
  },
  {
   "cell_type": "markdown",
   "metadata": {},
   "source": [
    "Now that we have all of $P(A,B)$ filled out, we can easily calculate $P(B) = \\sum_b P(A)$, or the sum of the rows to put it in terms of our table."
   ]
  },
  {
   "cell_type": "markdown",
   "metadata": {},
   "source": [
    "|          | $a$  |$\\neg a$|$P(B)$|\n",
    "|----:     |:----:|:-----: |----  |\n",
    "| $b$      | 0.007| 0.0432 |0.0502|\n",
    "| $\\neg b$ | 0.093| 0.8568 |0.9498|\n",
    "|$P(A)$    | 0.100| 0.9000 |  1.0|"
   ]
  },
  {
   "cell_type": "markdown",
   "metadata": {},
   "source": [
    "Finally, we can calculate \n",
    "$$\n",
    "\\begin{aligned}\n",
    "P(A|B) &= \\frac{P(A,B)}{P(B)} \\\\\n",
    "&= \\frac{\n",
    "\\begin{bmatrix}\n",
    "0.007 & 0.0432 \\\\\n",
    "0.093 & 0.8568\n",
    "\\end{bmatrix}\n",
    "}{\n",
    "\\begin{bmatrix}\n",
    "0.0502 \\\\\n",
    "0.9498\n",
    "\\end{bmatrix}\n",
    "} \\quad \\text{(element-wise)} \\\\\n",
    "&= \\begin{bmatrix}\n",
    "0.139442 & 0.860558 \\\\\n",
    "0.0979154 & 0.902085\n",
    "\\end{bmatrix}\n",
    "\\end{aligned}\n",
    "$$\n",
    "\n",
    "$$ \\fbox{$P(A|B) = \\begin{bmatrix}\n",
    "0.139442 & 0.860558 \\\\\n",
    "0.0979154 & 0.902085\n",
    "\\end{bmatrix}$} $$"
   ]
  },
  {
   "cell_type": "markdown",
   "metadata": {},
   "source": [
    "---\n",
    "### Problem 2\n",
    "\n",
    "In a particular pain clinic, 10% of patients are prescribed narcotic pain killers. Overall, five percent of the clinic’s patients are addicted to narcotics (including pain killers and illegal substances). Out of all the people prescribed pain pills, 8% are addicts. If a patient is an addict, what is the probability that they will be prescribed pain pills?\n",
    "\n",
    "(Note: this problem is structured slightly differently than usual)"
   ]
  },
  {
   "cell_type": "markdown",
   "metadata": {},
   "source": [
    "Let's define various events\n",
    " - $A$: Let $a$ mean the person is perscribed narcotic pain killers, and $\\neg a$ mean they are not. \n",
    " - $B$: Let $b$ mean the person is addicted to narcotics, and $\\neg b$ mean they are not.\n",
    " \n",
    "Let's list all the information we have in terms of $A$ and $B$\n",
    " 1. $P(a) = 0.10$\n",
    " 1. $P(b) = 0.05$\n",
    " 1. $P(b|a) = 0.08$\n",
    " \n",
    "We want to find out \n",
    "$$ P(a|b) = ??? $$\n",
    "\n",
    "From Baye's Rule\n",
    "$$ P(a|b) = \\frac{P(a,b)}{P(b)} $$\n",
    "\n",
    "And also:\n",
    "$$\n",
    "\\begin{aligned}\n",
    "P(b|a) &= \\frac{P(b,a)}{P(a)} \\\\\n",
    "P(b,a) &= P(b|a) \\cdot P(a) \\\\\n",
    "\\end{aligned} \n",
    "$$\n",
    "\n",
    "Assuming that $P(a,b) = P(b,a)$ we can plug our value for $P(b,a)$ into\n",
    "$$ \\begin{aligned}\n",
    "P(a|b) &= \\frac{P(a,b)}{P(b)} \\\\\n",
    "&= \\frac{P(b|a) \\cdot P(a)}{P(b)} \\\\\n",
    "&= 0.16\n",
    "\\end{aligned} $$\n",
    "\n",
    "$$ \\fbox{Hence, if a patient is an addict, the probability that they will be prescribed pain pills is 0.16} $$"
   ]
  }
 ],
 "metadata": {
  "kernelspec": {
   "display_name": "Python 3",
   "language": "python",
   "name": "python3"
  },
  "language_info": {
   "codemirror_mode": {
    "name": "ipython",
    "version": 3
   },
   "file_extension": ".py",
   "mimetype": "text/x-python",
   "name": "python",
   "nbconvert_exporter": "python",
   "pygments_lexer": "ipython3",
   "version": "3.8.3"
  },
  "toc": {
   "colors": {
    "hover_highlight": "#DAA520",
    "navigate_num": "#000000",
    "navigate_text": "#333333",
    "running_highlight": "#FF0000",
    "selected_highlight": "#FFD700",
    "sidebar_border": "#EEEEEE",
    "wrapper_background": "#FFFFFF"
   },
   "moveMenuLeft": true,
   "nav_menu": {
    "height": "207px",
    "width": "252px"
   },
   "navigate_menu": true,
   "number_sections": true,
   "sideBar": true,
   "threshold": 4,
   "toc_cell": false,
   "toc_section_display": "block",
   "toc_window_display": false,
   "widenNotebook": false
  }
 },
 "nbformat": 4,
 "nbformat_minor": 4
}
