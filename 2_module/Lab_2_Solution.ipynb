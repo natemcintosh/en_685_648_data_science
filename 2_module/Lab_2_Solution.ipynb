{
 "cells": [
  {
   "cell_type": "markdown",
   "metadata": {
    "colab_type": "text",
    "id": "view-in-github"
   },
   "source": [
    "<a href=\"https://colab.research.google.com/github/fundamentals-of-data-science/course-materials/blob/master/labs/Lab_2.ipynb\" target=\"_parent\"><img src=\"https://colab.research.google.com/assets/colab-badge.svg\" alt=\"Open In Colab\"/></a>"
   ]
  },
  {
   "cell_type": "markdown",
   "metadata": {
    "colab_type": "text",
    "id": "Zi1DjOpGw0a9"
   },
   "source": [
    "# Module 2 Lab - Probability"
   ]
  },
  {
   "cell_type": "markdown",
   "metadata": {
    "colab_type": "text",
    "id": "cuTuPF2Aw0a_"
   },
   "source": [
    "## Directions\n",
    "\n",
    "**Failure to follow the directions will result in a \"0\"**\n",
    "\n",
    "The due dates for each are indicated in the Syllabus and the course calendar. If anything is unclear, please email the official email for the course or ask questions in the Lab discussion area on Blackboard.\n",
    "\n",
    "The Labs also present technical material that augments the lectures and \"book\".  You should read through the entire lab at the start of each module.\n",
    "\n",
    "### General Instructions\n",
    "\n",
    "1.  You will be submitting your assignment to Blackboard. If there are no accompanying files, you should submit *only* your notebook and it should be named using *only* your JHED id: fsmith79.ipynb for example if your JHED id were \"fsmith79\". If the assignment requires additional files, you should name the *folder/directory* your JHED id and put all items in that folder/directory, ZIP it up (only ZIP...no other compression), and submit it to Blackboard.\n",
    "    \n",
    "    * do **not** use absolute paths in your notebooks. All resources should appear in the same directory as the rest of your assignments.\n",
    "    * the directory **must** be named your JHED id and **only** your JHED id.\n",
    "    \n",
    "2. Data Science is as much about what you write (communicating) as the code you execute (researching). In many places, you will be required to execute code and discuss both the purpose and the result. Additionally, Data Science is about reproducibility and transparency. This includes good communication with your team and possibly with yourself. Therefore, you must show **all** work.\n",
    "\n",
    "3. Avail yourself of the Markdown/Codecell nature of the notebook. If you don't know about Markdown, look it up. Your notebooks should not look like ransom notes. Don't make everything bold. Clearly indicate what question you are answering.\n",
    "\n",
    "4. Submit a cleanly executed notebook. It should say `In [1]` for the first codecell and increase by 1 throughout."
   ]
  },
  {
   "cell_type": "code",
   "execution_count": 1,
   "metadata": {},
   "outputs": [],
   "source": [
    "from pprint import pprint"
   ]
  },
  {
   "cell_type": "markdown",
   "metadata": {
    "colab_type": "text",
    "id": "aoUSHSmHw0bC"
   },
   "source": [
    "## Manipulating and Interpreting Probability\n",
    "\n",
    "Given the following *joint probability distribution*, $P(A,B)$, for $A$ and $B$,\n",
    "\n",
    "```\n",
    "|    | a1   | a2   |\n",
    "|----|------|------|\n",
    "| b1 | 0.37 | 0.16 |\n",
    "| b2 | 0.23 | ?    |\n",
    "```\n",
    "\n",
    "Answer the following questions.\n",
    "\n",
    "**1\\. What is $P(A=a2, B=b2)$?**"
   ]
  },
  {
   "cell_type": "markdown",
   "metadata": {
    "colab_type": "text",
    "id": "eLkEU6Gww0bF"
   },
   "source": [
    "All probability distributions sum to 1. If we take 1 and subtract out the probabilities for the events we do know about, we'll find the probability for the one event we don't know: 1 - 0.37 - 0.16 - 0.23 = ?"
   ]
  },
  {
   "cell_type": "code",
   "execution_count": 2,
   "metadata": {},
   "outputs": [
    {
     "name": "stdout",
     "output_type": "stream",
     "text": [
      "0.23999999999999996\n"
     ]
    }
   ],
   "source": [
    "print(1 - 0.37 - 0.16 - 0.23)"
   ]
  },
  {
   "cell_type": "markdown",
   "metadata": {},
   "source": [
    "The probability of $P(a2, b2)$ is 0.24"
   ]
  },
  {
   "cell_type": "markdown",
   "metadata": {},
   "source": [
    "<div style=\"background: lemonchiffon; margin:20px; padding: 20px;\">\n",
    "    <strong>Note</strong>\n",
    "    <p>Get used to this pattern: discuss/code/discuss. Except in the most obvious cases (some of which are below, because they're just math), there should always be dicussion then code then a discussion of the results. Get in the habit of making three (3) cells: markdown, code, markdown every. single. time. and filling them in.</p>\n",
    "</div>\n"
   ]
  },
  {
   "cell_type": "markdown",
   "metadata": {
    "colab_type": "text",
    "id": "hBpDJLMBw0bH"
   },
   "source": [
    "**2\\. If I observe events from this probability distribution, what is the probability of seeing (a1, b1) then (a2, b2)?**"
   ]
  },
  {
   "cell_type": "markdown",
   "metadata": {},
   "source": [
    "The two observations are independent. The definition of independence: $P((a2,b2)|(a1,b1) = P((a2,b2))$ which means that observing the first event does not give me any additional information about the probability of the second event (it does not change how uncertain I am about (a2, b2) happening by modifying the base or *prior* probability).\n",
    "\n",
    "This does not mean, however, that A and B are independent; we're talking about the *joint* event and the *joint* probability.\n",
    "\n",
    "The probability of two independent events is the productive of their individual probabilities:"
   ]
  },
  {
   "cell_type": "code",
   "execution_count": 3,
   "metadata": {},
   "outputs": [
    {
     "name": "stdout",
     "output_type": "stream",
     "text": [
      "0.08879999999999999\n"
     ]
    }
   ],
   "source": [
    "print((0.37 * 0.24))"
   ]
  },
  {
   "cell_type": "markdown",
   "metadata": {
    "colab_type": "text",
    "id": "dNfPdLVaw0bJ"
   },
   "source": [
    "The probability of $P((a1, b1), (a2, b2))$ is 8.88%"
   ]
  },
  {
   "cell_type": "markdown",
   "metadata": {},
   "source": [
    "<div style=\"background: lemonchiffon; margin:20px; padding: 20px;\">\n",
    "    <strong>Note</strong>\n",
    "    <p>We generally look for 2 decimal places unless the smallest probability of interest has more in which case we use those many decimal places for all calucations.</p>\n",
    "    <p>It is tempting to write something like this:</p>\n",
    "</div>\n"
   ]
  },
  {
   "cell_type": "code",
   "execution_count": 4,
   "metadata": {},
   "outputs": [
    {
     "name": "stdout",
     "output_type": "stream",
     "text": [
      "the probability of (a1, b1) then (a2, b2) is 0.09\n"
     ]
    }
   ],
   "source": [
    "print( \"the probability of (a1, b1) then (a2, b2) is %.2f\" % (0.37 * 0.24))"
   ]
  },
  {
   "cell_type": "markdown",
   "metadata": {},
   "source": [
    "<div style=\"background: lemonchiffon; margin:20px; padding: 20px;\">\n",
    "    <p>Don't.</p>\n",
    "    <p>It's very strange to read because you read the code and the code has most of the text in it then some calculation. The code cell should only have the calculation.</p>\n",
    "    <p>There are plugins that allow you to reference variables inside Markdown cells. It's better to use those, although not for this class (so far). You can, when appropriate, generate tables using code.</p>\n",
    "</div>\n"
   ]
  },
  {
   "cell_type": "markdown",
   "metadata": {
    "colab_type": "text",
    "id": "TdY20dH3w0bK"
   },
   "source": [
    "**3\\. Calculate the marginal probability distribution, $P(A)$.**"
   ]
  },
  {
   "cell_type": "markdown",
   "metadata": {
    "colab_type": "text",
    "id": "DSEK8ToJw0bQ"
   },
   "source": [
    "<div style=\"background: lemonchiffon; margin:20px; padding: 20px;\">\n",
    "    <strong>Note</strong>\n",
    "    <p>There are any number of ways to answer this. Much of it depends on your decision about how you want to represent probability distributions. We're going to use Dicts.</p>\n",
    "</div>\n",
    "\n",
    "The probability distribution $P(A)$ is a marginal probability distribution of the joint $P(A, B)$:"
   ]
  },
  {
   "cell_type": "code",
   "execution_count": 5,
   "metadata": {},
   "outputs": [],
   "source": [
    "p = {\"a1\": {\"b1\": 0.37, \"b2\": 0.23}, \"a2\": {\"b1\": 0.16, \"b2\": 0.24}}"
   ]
  },
  {
   "cell_type": "markdown",
   "metadata": {},
   "source": [
    "Calculating $P(A)$ involves marginalizing B *out*. We can do this by summing the individual elements:"
   ]
  },
  {
   "cell_type": "code",
   "execution_count": 6,
   "metadata": {},
   "outputs": [
    {
     "name": "stdout",
     "output_type": "stream",
     "text": [
      "{'a1': 0.6, 'a2': 0.4}\n"
     ]
    }
   ],
   "source": [
    "p_a = {\"a1\": p[\"a1\"][\"b1\"] + p[\"a1\"][\"b2\"], \"a2\": p[\"a2\"][\"b1\"] + p[\"a2\"][\"b2\"]}\n",
    "pprint(p_a)"
   ]
  },
  {
   "cell_type": "markdown",
   "metadata": {
    "colab_type": "text",
    "id": "wHmrDBRew0bS"
   },
   "source": [
    "**4\\. Calculate the marginal probability distribution, $P(B)$.**"
   ]
  },
  {
   "cell_type": "markdown",
   "metadata": {
    "colab_type": "text",
    "id": "p2JDyyBiw0bU"
   },
   "source": [
    "As with $P(A)$, $P(B)$ is involves marginalizing *A* out of $P(A B)$:"
   ]
  },
  {
   "cell_type": "code",
   "execution_count": 7,
   "metadata": {},
   "outputs": [
    {
     "name": "stdout",
     "output_type": "stream",
     "text": [
      "{'b1': 0.53, 'b2': 0.47}\n"
     ]
    }
   ],
   "source": [
    "p_b = {\"b1\": p[\"a1\"][\"b1\"] + p[\"a2\"][\"b1\"], \"b2\": p[\"a1\"][\"b2\"] + p[\"a2\"][\"b2\"]}\n",
    "pprint(p_b)"
   ]
  },
  {
   "cell_type": "markdown",
   "metadata": {
    "colab_type": "text",
    "id": "vqghXUoZw0bV"
   },
   "source": [
    "**5\\. Calculate the conditional probability distribution, $P(A|B)$.**"
   ]
  },
  {
   "cell_type": "markdown",
   "metadata": {
    "colab_type": "text",
    "id": "Wnh_1qdyw0bX"
   },
   "source": [
    "The calculation of a conditional probability for A creates a new probability distribution for each event in B. That is, instead of wanting to know $P(a1, b1)$ or $P(a2, b1)$, we want to know $P(a1|b1)$ and $P(a2|b1)$. Remember, conditional probability expresses the idea \"if we know that b1 happened, how does this change the probabilities of a1, a2, etc.\". We then do this for each possible value of B.\n",
    "\n",
    "The formula for conditional probability is:\n",
    "\n",
    "$$P(A|B) = \\frac{P(A, B)}{P(B)}$$"
   ]
  },
  {
   "cell_type": "code",
   "execution_count": 8,
   "metadata": {},
   "outputs": [
    {
     "name": "stdout",
     "output_type": "stream",
     "text": [
      "{'b1': {'a1': 0.6981132075471698, 'a2': 0.3018867924528302},\n",
      " 'b2': {'a1': 0.4893617021276596, 'a2': 0.5106382978723404}}\n"
     ]
    }
   ],
   "source": [
    "p_a_given_b = {\"b1\": {\"a1\": (p[\"a1\"][\"b1\"])/(p[\"a1\"][\"b1\"] + p[\"a2\"][\"b1\"]), \"a2\": (p[\"a2\"][\"b1\"])/(p[\"a1\"][\"b1\"] + p[\"a2\"][\"b1\"])},\n",
    "               \"b2\": {\"a1\": (p[\"a1\"][\"b2\"])/(p[\"a1\"][\"b2\"] + p[\"a2\"][\"b2\"]), \"a2\": (p[\"a2\"][\"b2\"])/(p[\"a1\"][\"b2\"] + p[\"a2\"][\"b2\"])}}\n",
    "pprint(p_a_given_b)"
   ]
  },
  {
   "cell_type": "markdown",
   "metadata": {},
   "source": [
    "<div style=\"background: lemonchiffon; margin:20px; padding: 20px;\">\n",
    "    <strong>Note</strong>\n",
    "    <p>At this point, printing a table would probably be appropriate.</p>\n",
    "</div>\n"
   ]
  },
  {
   "cell_type": "code",
   "execution_count": 9,
   "metadata": {},
   "outputs": [],
   "source": [
    "from tabulate import tabulate"
   ]
  },
  {
   "cell_type": "code",
   "execution_count": 10,
   "metadata": {},
   "outputs": [],
   "source": [
    "def unnest(pd):\n",
    "    \"\"\"\n",
    "    utility function to unnest a conditional probability distribution represented as Dicts\n",
    "    \"\"\"\n",
    "    result = []\n",
    "    for k, d in pd.items():\n",
    "        for j, val in d.items():\n",
    "            row = [k]\n",
    "            row.append(j)\n",
    "            row.append(val)\n",
    "            result.append(row)\n",
    "    return result"
   ]
  },
  {
   "cell_type": "markdown",
   "metadata": {},
   "source": [
    "<div style=\"background: lemonchiffon; margin:20px; padding: 20px;\">\n",
    "    <strong>Note</strong>\n",
    "    <p>Often, helper functions just need a docstring so that the main notebook's flow of explanation of the investigation isn't broken.</p>\n",
    "</div>\n"
   ]
  },
  {
   "cell_type": "code",
   "execution_count": 11,
   "metadata": {},
   "outputs": [
    {
     "data": {
      "text/html": [
       "<table>\n",
       "<thead>\n",
       "<tr><th>B  </th><th>A  </th><th style=\"text-align: right;\">  P(A|B)</th></tr>\n",
       "</thead>\n",
       "<tbody>\n",
       "<tr><td>b1 </td><td>a1 </td><td style=\"text-align: right;\">    0.70</td></tr>\n",
       "<tr><td>b1 </td><td>a2 </td><td style=\"text-align: right;\">    0.30</td></tr>\n",
       "<tr><td>b2 </td><td>a1 </td><td style=\"text-align: right;\">    0.49</td></tr>\n",
       "<tr><td>b2 </td><td>a2 </td><td style=\"text-align: right;\">    0.51</td></tr>\n",
       "</tbody>\n",
       "</table>"
      ],
      "text/plain": [
       "'<table>\\n<thead>\\n<tr><th>B  </th><th>A  </th><th style=\"text-align: right;\">  P(A|B)</th></tr>\\n</thead>\\n<tbody>\\n<tr><td>b1 </td><td>a1 </td><td style=\"text-align: right;\">    0.70</td></tr>\\n<tr><td>b1 </td><td>a2 </td><td style=\"text-align: right;\">    0.30</td></tr>\\n<tr><td>b2 </td><td>a1 </td><td style=\"text-align: right;\">    0.49</td></tr>\\n<tr><td>b2 </td><td>a2 </td><td style=\"text-align: right;\">    0.51</td></tr>\\n</tbody>\\n</table>'"
      ]
     },
     "execution_count": 11,
     "metadata": {},
     "output_type": "execute_result"
    }
   ],
   "source": [
    "tabulate(unnest(p_a_given_b), headers=[\"B\", \"A\", \"P(A|B)\"], tablefmt=\"html\", floatfmt=\".2f\")"
   ]
  },
  {
   "cell_type": "markdown",
   "metadata": {},
   "source": [
    "<div style=\"background: lemonchiffon; margin:20px; padding: 20px;\">\n",
    "    <strong>Note</strong>\n",
    "    <p>If we were calculating a conditional probability distribution for a reason, we would discuss what we found out here. For example, the Titanic questions below.</p>\n",
    "</div>\n"
   ]
  },
  {
   "cell_type": "markdown",
   "metadata": {
    "colab_type": "text",
    "id": "dgKCDL4-w0bY"
   },
   "source": [
    "**6\\. Calculate the conditional probability distribution, $P(B|A)$.**"
   ]
  },
  {
   "cell_type": "markdown",
   "metadata": {},
   "source": [
    "The same reasoning applies here as when we calculated $P(A|B)$:"
   ]
  },
  {
   "cell_type": "code",
   "execution_count": 12,
   "metadata": {
    "colab_type": "text",
    "id": "lD3r4Xhgw0ba"
   },
   "outputs": [],
   "source": [
    "p_b_given_a = {\"a1\": {\"b1\": (p[\"a1\"][\"b1\"])/(p[\"a1\"][\"b1\"] + p[\"a1\"][\"b2\"]), \"b2\": (p[\"a1\"][\"b2\"])/(p[\"a1\"][\"b1\"] + p[\"a1\"][\"b2\"])}, \n",
    "               \"a2\": {\"b1\": (p[\"a2\"][\"b1\"])/(p[\"a2\"][\"b1\"] + p[\"a2\"][\"b2\"]), \"b2\": (p[\"a2\"][\"b2\"])/(p[\"a2\"][\"b1\"] + p[\"a2\"][\"b2\"])}}"
   ]
  },
  {
   "cell_type": "code",
   "execution_count": 13,
   "metadata": {},
   "outputs": [
    {
     "data": {
      "text/html": [
       "<table>\n",
       "<thead>\n",
       "<tr><th>A  </th><th>B  </th><th style=\"text-align: right;\">  P(B|A)</th></tr>\n",
       "</thead>\n",
       "<tbody>\n",
       "<tr><td>a1 </td><td>b1 </td><td style=\"text-align: right;\">    0.62</td></tr>\n",
       "<tr><td>a1 </td><td>b2 </td><td style=\"text-align: right;\">    0.38</td></tr>\n",
       "<tr><td>a2 </td><td>b1 </td><td style=\"text-align: right;\">    0.40</td></tr>\n",
       "<tr><td>a2 </td><td>b2 </td><td style=\"text-align: right;\">    0.60</td></tr>\n",
       "</tbody>\n",
       "</table>"
      ],
      "text/plain": [
       "'<table>\\n<thead>\\n<tr><th>A  </th><th>B  </th><th style=\"text-align: right;\">  P(B|A)</th></tr>\\n</thead>\\n<tbody>\\n<tr><td>a1 </td><td>b1 </td><td style=\"text-align: right;\">    0.62</td></tr>\\n<tr><td>a1 </td><td>b2 </td><td style=\"text-align: right;\">    0.38</td></tr>\\n<tr><td>a2 </td><td>b1 </td><td style=\"text-align: right;\">    0.40</td></tr>\\n<tr><td>a2 </td><td>b2 </td><td style=\"text-align: right;\">    0.60</td></tr>\\n</tbody>\\n</table>'"
      ]
     },
     "execution_count": 13,
     "metadata": {},
     "output_type": "execute_result"
    }
   ],
   "source": [
    "tabulate(unnest(p_b_given_a), headers=[\"A\", \"B\", \"P(B|A)\"], tablefmt=\"html\", floatfmt=\".2f\")"
   ]
  },
  {
   "cell_type": "markdown",
   "metadata": {
    "colab_type": "text",
    "id": "CdjtfwHaw0bc"
   },
   "source": [
    "**7\\. Does $P(A|B) = P(B|A)$? What do we call the belief that these are always equal?**"
   ]
  },
  {
   "cell_type": "markdown",
   "metadata": {
    "colab_type": "text",
    "id": "QkH-Un_Cw0bd"
   },
   "source": [
    "This question can potentially be a bit confusing because if you look at the *table* that each of these represents, they don't exactly line up. What is we are really asking is if $P(a1|b1)$ is equal to $P(b1|a1)$, etc.\n",
    "\n",
    "By looking at the two sets of results, we can see that they are definitely not equal. P(a1|b1) = 0.62 and P(b1|a1) = 0.70, P(a1|b2) = 0.4 and P(b2|a1) = 0.3.\n",
    "\n",
    "The belief that these are always equal is the **inverse probability fallacy**."
   ]
  },
  {
   "cell_type": "markdown",
   "metadata": {
    "colab_type": "text",
    "id": "-SglgfKUw0be"
   },
   "source": [
    "**8\\. Does $P(A) = P(A|B)$? What does that mean about the independence of $A$ and $B$?**"
   ]
  },
  {
   "cell_type": "markdown",
   "metadata": {
    "colab_type": "text",
    "id": "DxMlSSIEw0bf"
   },
   "source": [
    "No, they do not. P(a1) = 0.40 and P(a1|b1) = 0.62. This means that A and B are not independent. \n",
    "\n",
    "You can test your understanding by creating a joint probability P(A, B) where they are independent. Start with A and B as two flips of a fair coin and then try to come up with a more interesting example."
   ]
  },
  {
   "cell_type": "markdown",
   "metadata": {
    "colab_type": "text",
    "id": "p67gfq-Jw0bg"
   },
   "source": [
    "**9\\. Using $P(A)$, $P(B|A)$, $P(B)$ from above, calculate,**\n",
    "\n",
    "$P(A|B) = \\frac{P(B|A)P(A)}{P(B)}$\n",
    "\n",
    "Does it match your previous calculation for $P(A|B)$?"
   ]
  },
  {
   "cell_type": "markdown",
   "metadata": {
    "colab_type": "text",
    "id": "jUcxPvZFw0bh"
   },
   "source": [
    "We have everything we need from our previous calculations: $P(B|A)$, $P(A)$, and $P(B)$, we just need to do the calculation:"
   ]
  },
  {
   "cell_type": "code",
   "execution_count": 14,
   "metadata": {},
   "outputs": [],
   "source": [
    "bayes = {\"b1\": {\"a1\": (p_b_given_a[\"a1\"][\"b1\"]*p_a[\"a1\"]/p_b[\"b1\"]),\n",
    "                \"a2\": (p_b_given_a[\"a2\"][\"b1\"]*p_a[\"a2\"]/p_b[\"b1\"])},\n",
    "         \"b2\": {\"a1\": (p_b_given_a[\"a1\"][\"b2\"]*p_a[\"a1\"]/p_b[\"b2\"]),\n",
    "                \"a2\": (p_b_given_a[\"a2\"][\"b2\"]*p_a[\"a2\"]/p_b[\"b2\"])}}"
   ]
  },
  {
   "cell_type": "markdown",
   "metadata": {},
   "source": [
    "Here's $P(A|B)$ we calculated using Bayes Rule:"
   ]
  },
  {
   "cell_type": "code",
   "execution_count": 15,
   "metadata": {},
   "outputs": [
    {
     "data": {
      "text/html": [
       "<table>\n",
       "<thead>\n",
       "<tr><th>B  </th><th>A  </th><th style=\"text-align: right;\">  P(A|B)</th></tr>\n",
       "</thead>\n",
       "<tbody>\n",
       "<tr><td>b1 </td><td>a1 </td><td style=\"text-align: right;\">    0.70</td></tr>\n",
       "<tr><td>b1 </td><td>a2 </td><td style=\"text-align: right;\">    0.30</td></tr>\n",
       "<tr><td>b2 </td><td>a1 </td><td style=\"text-align: right;\">    0.49</td></tr>\n",
       "<tr><td>b2 </td><td>a2 </td><td style=\"text-align: right;\">    0.51</td></tr>\n",
       "</tbody>\n",
       "</table>"
      ],
      "text/plain": [
       "'<table>\\n<thead>\\n<tr><th>B  </th><th>A  </th><th style=\"text-align: right;\">  P(A|B)</th></tr>\\n</thead>\\n<tbody>\\n<tr><td>b1 </td><td>a1 </td><td style=\"text-align: right;\">    0.70</td></tr>\\n<tr><td>b1 </td><td>a2 </td><td style=\"text-align: right;\">    0.30</td></tr>\\n<tr><td>b2 </td><td>a1 </td><td style=\"text-align: right;\">    0.49</td></tr>\\n<tr><td>b2 </td><td>a2 </td><td style=\"text-align: right;\">    0.51</td></tr>\\n</tbody>\\n</table>'"
      ]
     },
     "execution_count": 15,
     "metadata": {},
     "output_type": "execute_result"
    }
   ],
   "source": [
    "tabulate(unnest(bayes), headers=[\"B\", \"A\", \"P(A|B)\"], tablefmt=\"html\", floatfmt=\".2f\")"
   ]
  },
  {
   "cell_type": "markdown",
   "metadata": {},
   "source": [
    "Here's $P(A|B)$ we calculated by using the joint probability $P(A,B)$:"
   ]
  },
  {
   "cell_type": "code",
   "execution_count": 16,
   "metadata": {},
   "outputs": [
    {
     "data": {
      "text/html": [
       "<table>\n",
       "<thead>\n",
       "<tr><th>B  </th><th>A  </th><th style=\"text-align: right;\">  P(A|B)</th></tr>\n",
       "</thead>\n",
       "<tbody>\n",
       "<tr><td>b1 </td><td>a1 </td><td style=\"text-align: right;\">    0.70</td></tr>\n",
       "<tr><td>b1 </td><td>a2 </td><td style=\"text-align: right;\">    0.30</td></tr>\n",
       "<tr><td>b2 </td><td>a1 </td><td style=\"text-align: right;\">    0.49</td></tr>\n",
       "<tr><td>b2 </td><td>a2 </td><td style=\"text-align: right;\">    0.51</td></tr>\n",
       "</tbody>\n",
       "</table>"
      ],
      "text/plain": [
       "'<table>\\n<thead>\\n<tr><th>B  </th><th>A  </th><th style=\"text-align: right;\">  P(A|B)</th></tr>\\n</thead>\\n<tbody>\\n<tr><td>b1 </td><td>a1 </td><td style=\"text-align: right;\">    0.70</td></tr>\\n<tr><td>b1 </td><td>a2 </td><td style=\"text-align: right;\">    0.30</td></tr>\\n<tr><td>b2 </td><td>a1 </td><td style=\"text-align: right;\">    0.49</td></tr>\\n<tr><td>b2 </td><td>a2 </td><td style=\"text-align: right;\">    0.51</td></tr>\\n</tbody>\\n</table>'"
      ]
     },
     "execution_count": 16,
     "metadata": {},
     "output_type": "execute_result"
    }
   ],
   "source": [
    "tabulate(unnest(p_a_given_b), headers=[\"B\", \"A\", \"P(A|B)\"], tablefmt=\"html\", floatfmt=\".2f\")"
   ]
  },
  {
   "cell_type": "markdown",
   "metadata": {},
   "source": [
    "They're the same. (This isn't really magic if you look at the math you did)."
   ]
  },
  {
   "cell_type": "markdown",
   "metadata": {
    "colab_type": "text",
    "id": "7EeMKnxIw0bi"
   },
   "source": [
    "**10\\. If we let A = H (some condition, characteristic, hypothesis) and B = D (some data, evidence, a test result), then how do we interpret each of the following: $P(H)$, $P(D)$, $P(H|D)$, $P(D|H)$, $P(H, D)$?**"
   ]
  },
  {
   "cell_type": "markdown",
   "metadata": {
    "colab_type": "text",
    "id": "qpeGvo4Kw0bm"
   },
   "source": [
    "$P(H)$ - prior distribution (prior probability of the hypothesis). This is how likely we think each hypothesis is before we see the *new* evidence. The prior may be the posterior distribution from previous experiments.\n",
    "\n",
    "$P(D)$ - probability of the data. There's not really much to say here. It's the normalizer that turns all our calculations of the numerator back into proper probabilities.\n",
    "\n",
    "$P(H|D)$ - posterior distribution (posterior probability of the hypothesis). This is how likely we think each hypothesis is after we have taken the *new* evidence into account. It may form the prior of future experiments.\n",
    "\n",
    "$P(D|H)$ - likelihood (probability of the data given the hypothesis). Basically this is the probability of the data under each possible hypothesis but we look at it the other way (from data to hypothesis).\n",
    "\n",
    "$P(H, D)$ - the joint probability of the data and hypotheses. Not much to say here because it doesn't actually figure into Bayes Rule."
   ]
  },
  {
   "cell_type": "markdown",
   "metadata": {
    "colab_type": "text",
    "id": "EnYagt27w0bo"
   },
   "source": [
    "## Bayes Rule\n",
    "\n",
    "Bayes Rule will be an important part of our toolset in the weeks to come, especially in terms of Bayesian Inference. Work through the following problems in Bayes Rule."
   ]
  },
  {
   "cell_type": "markdown",
   "metadata": {
    "colab_type": "text",
    "id": "oL8kmom4w0bp"
   },
   "source": [
    "### Problem 1 (Regular)\n",
    "\n",
    "You might be interested in finding out a patient’s probability of having liver disease if they are an alcoholic. “Being an alcoholic” is the test (kind of like a litmus test) for liver disease.\n",
    "\n",
    "Let `D` be the presence or absence of liver disease (`d` they have it; `~d`, \"not d\", they don't). Past data tells you that 10% of patients entering your clinic have liver disease. Let `A` be alcoholic (`a`) or not alcoholic (`~a`). 5% of the clinic’s patients are alcoholics.\n",
    "\n",
    "You know that among those patients diagnosed with liver disease, 7% are alcoholics and that 95.2% of non-alcoholics do not have liver disease.\n",
    "\n",
    "<div style=\"background: lemonchiffon; margin:20px; padding: 20px;\">\n",
    "    <strong>Note</strong>\n",
    "    <p>For multi-part questions, make sure you have answered every part and clearly indicate what part you're answering.</p>\n",
    "    <p>If they aren't provided, you can even add cells in between the questions.</p>\n",
    "</div>\n",
    "\n",
    "1. What is Bayes Rule for this problem? (write it out symbolically)"
   ]
  },
  {
   "cell_type": "markdown",
   "metadata": {},
   "source": [
    "$P(D|A) = \\frac{P(A|D)P(D)}{P(A)}$"
   ]
  },
  {
   "cell_type": "markdown",
   "metadata": {
    "colab_type": "text",
    "id": "oL8kmom4w0bp"
   },
   "source": [
    "2. From the above word problem, what values of Bayes Rule do you have? Which ones are missing?\n",
    "\n",
    "P(d) = 0.10\n",
    "\n",
    "P(a) = 0.05\n",
    "\n",
    "P(a|d) = 0.07\n",
    "\n",
    "P(\\~a|\\~d) = 0.952\n",
    "\n",
    "We're missing P(\\~d), P(\\~a), P(\\~a|d), P(a|\\~d)."
   ]
  },
  {
   "cell_type": "markdown",
   "metadata": {
    "colab_type": "text",
    "id": "oL8kmom4w0bp"
   },
   "source": [
    "3. Calculate the missing values."
   ]
  },
  {
   "cell_type": "markdown",
   "metadata": {},
   "source": [
    "P(\\~d) = 1 - P(d) = 1 - 0.10 = 0.90\n",
    "\n",
    "P(\\~a) = 1 - P(a) = 1 - 0.0.5 = 0.95\n",
    "\n",
    "P(\\~a|d) = 1 - P(a|d) = 1 - 0.07 = 0.93\n",
    "\n",
    "P(a|\\~d) = 1 - P(\\~a|\\~d) = 1 - 0.952 = 0.048"
   ]
  },
  {
   "cell_type": "markdown",
   "metadata": {
    "colab_type": "text",
    "id": "oL8kmom4w0bp"
   },
   "source": [
    "4. Calculate the posterior probability *distributions* using Bayes Rule."
   ]
  },
  {
   "cell_type": "markdown",
   "metadata": {},
   "source": [
    "We can use the code from *Fundamentals* if we get everything in the right shape."
   ]
  },
  {
   "cell_type": "code",
   "execution_count": 17,
   "metadata": {},
   "outputs": [],
   "source": [
    "def normalize( dist):\n",
    "    normalizer = sum( dist.values())\n",
    "    for k in dist.keys():\n",
    "        dist[ k] = dist[ k] / normalizer\n",
    "    return dist # don't need to do this.\n",
    "\n",
    "def query( prior, likelihoods, evidence):\n",
    "    posterior = {}\n",
    "    for k in prior.keys():\n",
    "        posterior[ k] = likelihoods[ k][ evidence] * prior[ k]\n",
    "    normalize( posterior)\n",
    "    return posterior"
   ]
  },
  {
   "cell_type": "code",
   "execution_count": 18,
   "metadata": {},
   "outputs": [],
   "source": [
    "p_d = {\"~d\": 0.90, \"d\": 0.10}\n",
    "p_a_given_d = {\"~d\": {\"a\": 0.048, \"~a\": 0.952},\n",
    "               \"d\": {\"a\": 0.07, \"~a\": 0.93}}"
   ]
  },
  {
   "cell_type": "code",
   "execution_count": 19,
   "metadata": {},
   "outputs": [
    {
     "data": {
      "text/html": [
       "<table>\n",
       "<thead>\n",
       "<tr><th>D  </th><th>A  </th><th style=\"text-align: right;\">  P(A|D)</th></tr>\n",
       "</thead>\n",
       "<tbody>\n",
       "<tr><td>~d </td><td>a  </td><td style=\"text-align: right;\">    0.05</td></tr>\n",
       "<tr><td>~d </td><td>~a </td><td style=\"text-align: right;\">    0.95</td></tr>\n",
       "<tr><td>d  </td><td>a  </td><td style=\"text-align: right;\">    0.07</td></tr>\n",
       "<tr><td>d  </td><td>~a </td><td style=\"text-align: right;\">    0.93</td></tr>\n",
       "</tbody>\n",
       "</table>"
      ],
      "text/plain": [
       "'<table>\\n<thead>\\n<tr><th>D  </th><th>A  </th><th style=\"text-align: right;\">  P(A|D)</th></tr>\\n</thead>\\n<tbody>\\n<tr><td>~d </td><td>a  </td><td style=\"text-align: right;\">    0.05</td></tr>\\n<tr><td>~d </td><td>~a </td><td style=\"text-align: right;\">    0.95</td></tr>\\n<tr><td>d  </td><td>a  </td><td style=\"text-align: right;\">    0.07</td></tr>\\n<tr><td>d  </td><td>~a </td><td style=\"text-align: right;\">    0.93</td></tr>\\n</tbody>\\n</table>'"
      ]
     },
     "execution_count": 19,
     "metadata": {},
     "output_type": "execute_result"
    }
   ],
   "source": [
    "tabulate(unnest(p_a_given_d), headers=[\"D\", \"A\", \"P(A|D)\"], tablefmt=\"html\", floatfmt=\".2f\")"
   ]
  },
  {
   "cell_type": "code",
   "execution_count": 20,
   "metadata": {},
   "outputs": [],
   "source": [
    "bayes_d_a = {\"a\": query(p_d, p_a_given_d, \"a\"),\n",
    "            \"~a\": query(p_d, p_a_given_d, \"~a\")}"
   ]
  },
  {
   "cell_type": "code",
   "execution_count": 21,
   "metadata": {},
   "outputs": [
    {
     "data": {
      "text/html": [
       "<table>\n",
       "<thead>\n",
       "<tr><th>A  </th><th>D  </th><th style=\"text-align: right;\">  P(D|A)</th></tr>\n",
       "</thead>\n",
       "<tbody>\n",
       "<tr><td>a  </td><td>~d </td><td style=\"text-align: right;\">    0.86</td></tr>\n",
       "<tr><td>a  </td><td>d  </td><td style=\"text-align: right;\">    0.14</td></tr>\n",
       "<tr><td>~a </td><td>~d </td><td style=\"text-align: right;\">    0.90</td></tr>\n",
       "<tr><td>~a </td><td>d  </td><td style=\"text-align: right;\">    0.10</td></tr>\n",
       "</tbody>\n",
       "</table>"
      ],
      "text/plain": [
       "'<table>\\n<thead>\\n<tr><th>A  </th><th>D  </th><th style=\"text-align: right;\">  P(D|A)</th></tr>\\n</thead>\\n<tbody>\\n<tr><td>a  </td><td>~d </td><td style=\"text-align: right;\">    0.86</td></tr>\\n<tr><td>a  </td><td>d  </td><td style=\"text-align: right;\">    0.14</td></tr>\\n<tr><td>~a </td><td>~d </td><td style=\"text-align: right;\">    0.90</td></tr>\\n<tr><td>~a </td><td>d  </td><td style=\"text-align: right;\">    0.10</td></tr>\\n</tbody>\\n</table>'"
      ]
     },
     "execution_count": 21,
     "metadata": {},
     "output_type": "execute_result"
    }
   ],
   "source": [
    "tabulate(unnest(bayes_d_a), headers=[\"A\", \"D\", \"P(D|A)\"], tablefmt=\"html\", floatfmt=\".2f\")"
   ]
  },
  {
   "cell_type": "markdown",
   "metadata": {},
   "source": [
    "<div style=\"background: lemonchiffon; margin:20px; padding: 20px;\">\n",
    "    <strong>Note</strong>\n",
    "    <p>This is probably the only assignment (or type of assignment) in the class where there will be a lot of calculations.</p>\n",
    "</div>\n"
   ]
  },
  {
   "cell_type": "markdown",
   "metadata": {
    "colab_type": "text",
    "id": "oL8kmom4w0bp"
   },
   "source": [
    "5. Describe what each individual posterior probability means *in words*."
   ]
  },
  {
   "cell_type": "markdown",
   "metadata": {
    "colab_type": "text",
    "id": "qL5KnyVsw0bq"
   },
   "source": [
    "1. `P(~d|a)` = 0.86 - the probability that an alcoholic does not have liver disease.\n",
    "2. `P(d|a)` = 0.14 - the probability that an alcoholic does have liver disease (compare to the prior probability of 0.10)\n",
    "3. `P(~d|~a)` = 0.90 - the probability that a non-alcoholic does not have liver disease.\n",
    "4. `P(d|~a)` = 0.10 - the probability that a non-alcoholic does have liver disease (compare to the prior probability of 0.10)"
   ]
  },
  {
   "cell_type": "markdown",
   "metadata": {},
   "source": [
    "<div style=\"background: lemonchiffon; margin:20px; padding: 20px;\">\n",
    "    <strong>Note</strong>\n",
    "    <p>Whether you express the probability \"0.01\" as 0.01 or 1% is up to you but be consistent.</p>\n",
    "</div>\n"
   ]
  },
  {
   "cell_type": "markdown",
   "metadata": {
    "colab_type": "text",
    "id": "Wf1S_QSIw0br"
   },
   "source": [
    "### Problem 2 (Harder)\n",
    "\n",
    "In a particular pain clinic, 10% of patients are prescribed narcotic pain killers. Overall, five percent of the clinic’s patients are addicted to narcotics (including pain killers and illegal substances). Out of all the people prescribed pain pills, 8% are addicts. If a patient is an addict, what is the probability that they will be prescribed pain pills?\n",
    "\n",
    "1. What is Bayes Rule for this problem? (write it out symbolically)"
   ]
  },
  {
   "cell_type": "markdown",
   "metadata": {},
   "source": [
    "$P(K|A) = \\frac{P(A|K)P(K)}{P(A)}$"
   ]
  },
  {
   "cell_type": "markdown",
   "metadata": {
    "colab_type": "text",
    "id": "Wf1S_QSIw0br"
   },
   "source": [
    "2. From the above word problem, what values of Bayes Rule do you have? Which ones are missing?"
   ]
  },
  {
   "cell_type": "markdown",
   "metadata": {},
   "source": [
    "1. $P(K)$ = [0.1, ?]\n",
    "2. $P(A)$ = [0.05, ?]\n",
    "3. $P(A|k)$ = [0.08, ?]"
   ]
  },
  {
   "cell_type": "markdown",
   "metadata": {
    "colab_type": "text",
    "id": "Wf1S_QSIw0br"
   },
   "source": [
    "3. Calculate the missing values."
   ]
  },
  {
   "cell_type": "markdown",
   "metadata": {},
   "source": [
    "1. $P(K)$ = [0.1, 0.9]\n",
    "2. $P(A)$ = [0.05, 0.95]\n",
    "3. $P(A|k)$ = [0.08, 0.92]"
   ]
  },
  {
   "cell_type": "markdown",
   "metadata": {},
   "source": [
    "We don't have all the likelihoods we need. However, we can derive it in this case using Total Probability and the 3rd Axiom of Probability.\n",
    "\n",
    "`P(a) = P(a|k)P(k) + P(a|~k)P(~k)`\n",
    "\n",
    "`P(~a) = P(~a|k)P(k) + P(~a|~k)P(~k)`\n",
    "\n",
    "Our unknowns are `P(a|~k)` and `P(~a|~k)`.\n",
    "\n",
    "Solving for the unknowns we have:\n",
    "\n",
    "`P(a|~k) = (P(a) - P(a|k)P(k))/P(~k)`\n",
    "\n",
    "`P(~a|~k) = (P(~a) - P(~a|k)P(k))/P(~k)`\n",
    "\n",
    "Substituting from the problem, we have:\n",
    "\n",
    "`P(a|~k) = (0.05 - 0.08*0.1)/0.90 ~= 0.047`\n",
    "\n",
    "`P(~a|~k) = (0.95 - 0.92*0.1)/0.90 ~= 0.953`\n",
    "\n",
    "(The book I cribbed these from was not very inventive. These numbers are nearly the same as the previous problem!)"
   ]
  },
  {
   "cell_type": "markdown",
   "metadata": {
    "colab_type": "text",
    "id": "Wf1S_QSIw0br"
   },
   "source": [
    "4. Calculate the posterior probability *distributions* using Bayes Rule."
   ]
  },
  {
   "cell_type": "code",
   "execution_count": 22,
   "metadata": {},
   "outputs": [],
   "source": [
    "p_k = {\"k\": 0.1, \"~k\": 0.9}\n",
    "p_a_given_k = {\"k\": {\"a\": 0.08, \"~a\": 0.92}, \"~k\": {\"a\": 0.047, \"~a\": 0.953}}"
   ]
  },
  {
   "cell_type": "code",
   "execution_count": 23,
   "metadata": {},
   "outputs": [
    {
     "data": {
      "text/html": [
       "<table>\n",
       "<thead>\n",
       "<tr><th>K  </th><th>A  </th><th style=\"text-align: right;\">  P(A|K)</th></tr>\n",
       "</thead>\n",
       "<tbody>\n",
       "<tr><td>k  </td><td>a  </td><td style=\"text-align: right;\">    0.08</td></tr>\n",
       "<tr><td>k  </td><td>~a </td><td style=\"text-align: right;\">    0.92</td></tr>\n",
       "<tr><td>~k </td><td>a  </td><td style=\"text-align: right;\">    0.05</td></tr>\n",
       "<tr><td>~k </td><td>~a </td><td style=\"text-align: right;\">    0.95</td></tr>\n",
       "</tbody>\n",
       "</table>"
      ],
      "text/plain": [
       "'<table>\\n<thead>\\n<tr><th>K  </th><th>A  </th><th style=\"text-align: right;\">  P(A|K)</th></tr>\\n</thead>\\n<tbody>\\n<tr><td>k  </td><td>a  </td><td style=\"text-align: right;\">    0.08</td></tr>\\n<tr><td>k  </td><td>~a </td><td style=\"text-align: right;\">    0.92</td></tr>\\n<tr><td>~k </td><td>a  </td><td style=\"text-align: right;\">    0.05</td></tr>\\n<tr><td>~k </td><td>~a </td><td style=\"text-align: right;\">    0.95</td></tr>\\n</tbody>\\n</table>'"
      ]
     },
     "execution_count": 23,
     "metadata": {},
     "output_type": "execute_result"
    }
   ],
   "source": [
    "tabulate(unnest(p_a_given_k), headers=[\"K\", \"A\", \"P(A|K)\"], tablefmt=\"html\", floatfmt=\".2f\")"
   ]
  },
  {
   "cell_type": "code",
   "execution_count": 24,
   "metadata": {},
   "outputs": [],
   "source": [
    "bayes_k_a = {\"a\": query(p_k, p_a_given_k, \"a\"),\n",
    "             \"~a\": query(p_k, p_a_given_k, \"~a\")}"
   ]
  },
  {
   "cell_type": "code",
   "execution_count": 25,
   "metadata": {},
   "outputs": [
    {
     "data": {
      "text/html": [
       "<table>\n",
       "<thead>\n",
       "<tr><th>A  </th><th>K  </th><th style=\"text-align: right;\">  P(K|A)</th></tr>\n",
       "</thead>\n",
       "<tbody>\n",
       "<tr><td>a  </td><td>k  </td><td style=\"text-align: right;\">    0.16</td></tr>\n",
       "<tr><td>a  </td><td>~k </td><td style=\"text-align: right;\">    0.84</td></tr>\n",
       "<tr><td>~a </td><td>k  </td><td style=\"text-align: right;\">    0.10</td></tr>\n",
       "<tr><td>~a </td><td>~k </td><td style=\"text-align: right;\">    0.90</td></tr>\n",
       "</tbody>\n",
       "</table>"
      ],
      "text/plain": [
       "'<table>\\n<thead>\\n<tr><th>A  </th><th>K  </th><th style=\"text-align: right;\">  P(K|A)</th></tr>\\n</thead>\\n<tbody>\\n<tr><td>a  </td><td>k  </td><td style=\"text-align: right;\">    0.16</td></tr>\\n<tr><td>a  </td><td>~k </td><td style=\"text-align: right;\">    0.84</td></tr>\\n<tr><td>~a </td><td>k  </td><td style=\"text-align: right;\">    0.10</td></tr>\\n<tr><td>~a </td><td>~k </td><td style=\"text-align: right;\">    0.90</td></tr>\\n</tbody>\\n</table>'"
      ]
     },
     "execution_count": 25,
     "metadata": {},
     "output_type": "execute_result"
    }
   ],
   "source": [
    "tabulate(unnest(bayes_k_a), headers=[\"A\", \"K\", \"P(K|A)\"], tablefmt=\"html\", floatfmt=\".2f\")"
   ]
  },
  {
   "cell_type": "markdown",
   "metadata": {
    "colab_type": "text",
    "id": "Wf1S_QSIw0br"
   },
   "source": [
    "5. Describe what each individual posterior probability means *in words*."
   ]
  },
  {
   "cell_type": "markdown",
   "metadata": {
    "colab_type": "text",
    "id": "igoRDGJww0bs"
   },
   "source": [
    "\n",
    "1. `P(k|a)` = 0.159 - the probability of a pain killer prescription given the patient is an addict. This is higher than the prior of 10%.\n",
    "2. `P(~k|a)` = 0.841 - the probability of not having a pain killer prescription (Rx) given the patient is an addict.\n",
    "3. `P(k|~a)` = 0.097 - the probability that the patient has a pain killer Rx given they are not an addict.\n",
    "4. `P(~k|~a)`= 0.903 - the probability that the patient does not have a pain killer Rx given they are not an addict."
   ]
  },
  {
   "cell_type": "markdown",
   "metadata": {},
   "source": [
    "## Titanic"
   ]
  },
  {
   "cell_type": "code",
   "execution_count": 26,
   "metadata": {},
   "outputs": [],
   "source": [
    "import warnings\n",
    "warnings.filterwarnings(\"ignore\")"
   ]
  },
  {
   "cell_type": "code",
   "execution_count": 27,
   "metadata": {},
   "outputs": [],
   "source": [
    "import pandas as pd\n",
    "from pandasql import sqldf\n",
    "import seaborn as sns\n",
    "import matplotlib.pyplot as plt"
   ]
  },
  {
   "cell_type": "code",
   "execution_count": 28,
   "metadata": {},
   "outputs": [],
   "source": [
    "pysqldf = lambda q: sqldf(q, globals())"
   ]
  },
  {
   "cell_type": "markdown",
   "metadata": {},
   "source": [
    "Make sure you worked through the Titanic case study. This is a continuation of that analysis. *Feel free to copy code blocks from the case study as you see fit*\n",
    "\n",
    "We start by loading the data:"
   ]
  },
  {
   "cell_type": "code",
   "execution_count": 29,
   "metadata": {},
   "outputs": [],
   "source": [
    "titanic = pd.read_excel(\"http://biostat.mc.vanderbilt.edu/wiki/pub/Main/DataSets/titanic3.xls\")"
   ]
  },
  {
   "cell_type": "code",
   "execution_count": 30,
   "metadata": {},
   "outputs": [],
   "source": [
    "passengers = titanic.shape[0]"
   ]
  },
  {
   "cell_type": "markdown",
   "metadata": {},
   "source": [
    "## Conditional Probabilities\n",
    "\n",
    "1. Calculate $P(survived|parch)$\n",
    "\n",
    "(Remember...every \"calculation\" includes discuss/code/discuss. In this case, describe what the conditional probability is, what you expect to see, calculate it, and then discuss the results relative to your hypothesized values)."
   ]
  },
  {
   "cell_type": "code",
   "execution_count": 31,
   "metadata": {},
   "outputs": [],
   "source": [
    "def normalize_by_feature(feature, indices, counts, row):\n",
    "  \"\"\"\n",
    "  takes a joint probability distribution and normalizes it into a conditional probability distribution.\n",
    "  \"\"\"\n",
    "  value = row[feature]\n",
    "  count = counts[counts[feature] == value]['cnt'][indices[value]]\n",
    "  return row[\"cnt\"]/count"
   ]
  },
  {
   "cell_type": "markdown",
   "metadata": {},
   "source": [
    "$P(survived|parch)$ is the probability that someone survived *given* that they had a parent or child on board. We hypothesize that the probability of surviving is higher for those with parents or children onboard than those without.\n",
    "\n",
    "As a reminder, $survived$ and $parch$ look like the following:"
   ]
  },
  {
   "cell_type": "code",
   "execution_count": 32,
   "metadata": {},
   "outputs": [],
   "source": [
    "survived_counts = pysqldf(f\"SELECT survived, count(*) AS cnt, count(*)/{float(passengers)} AS pct FROM titanic GROUP BY survived ORDER BY survived\")"
   ]
  },
  {
   "cell_type": "code",
   "execution_count": 33,
   "metadata": {},
   "outputs": [
    {
     "data": {
      "text/html": [
       "<div>\n",
       "<style scoped>\n",
       "    .dataframe tbody tr th:only-of-type {\n",
       "        vertical-align: middle;\n",
       "    }\n",
       "\n",
       "    .dataframe tbody tr th {\n",
       "        vertical-align: top;\n",
       "    }\n",
       "\n",
       "    .dataframe thead th {\n",
       "        text-align: right;\n",
       "    }\n",
       "</style>\n",
       "<table border=\"1\" class=\"dataframe\">\n",
       "  <thead>\n",
       "    <tr style=\"text-align: right;\">\n",
       "      <th></th>\n",
       "      <th>survived</th>\n",
       "      <th>cnt</th>\n",
       "      <th>pct</th>\n",
       "    </tr>\n",
       "  </thead>\n",
       "  <tbody>\n",
       "    <tr>\n",
       "      <th>0</th>\n",
       "      <td>0</td>\n",
       "      <td>809</td>\n",
       "      <td>0.618029</td>\n",
       "    </tr>\n",
       "    <tr>\n",
       "      <th>1</th>\n",
       "      <td>1</td>\n",
       "      <td>500</td>\n",
       "      <td>0.381971</td>\n",
       "    </tr>\n",
       "  </tbody>\n",
       "</table>\n",
       "</div>"
      ],
      "text/plain": [
       "   survived  cnt       pct\n",
       "0         0  809  0.618029\n",
       "1         1  500  0.381971"
      ]
     },
     "execution_count": 33,
     "metadata": {},
     "output_type": "execute_result"
    }
   ],
   "source": [
    "pd.DataFrame(survived_counts)"
   ]
  },
  {
   "cell_type": "code",
   "execution_count": 34,
   "metadata": {},
   "outputs": [],
   "source": [
    "parch_counts = pysqldf(f\"SELECT parch, count(*) AS cnt, count(*)/{float(passengers)} AS pct FROM titanic GROUP BY parch ORDER BY parch\")"
   ]
  },
  {
   "cell_type": "code",
   "execution_count": 35,
   "metadata": {},
   "outputs": [
    {
     "data": {
      "text/html": [
       "<div>\n",
       "<style scoped>\n",
       "    .dataframe tbody tr th:only-of-type {\n",
       "        vertical-align: middle;\n",
       "    }\n",
       "\n",
       "    .dataframe tbody tr th {\n",
       "        vertical-align: top;\n",
       "    }\n",
       "\n",
       "    .dataframe thead th {\n",
       "        text-align: right;\n",
       "    }\n",
       "</style>\n",
       "<table border=\"1\" class=\"dataframe\">\n",
       "  <thead>\n",
       "    <tr style=\"text-align: right;\">\n",
       "      <th></th>\n",
       "      <th>parch</th>\n",
       "      <th>cnt</th>\n",
       "      <th>pct</th>\n",
       "    </tr>\n",
       "  </thead>\n",
       "  <tbody>\n",
       "    <tr>\n",
       "      <th>0</th>\n",
       "      <td>0</td>\n",
       "      <td>1002</td>\n",
       "      <td>0.765470</td>\n",
       "    </tr>\n",
       "    <tr>\n",
       "      <th>1</th>\n",
       "      <td>1</td>\n",
       "      <td>170</td>\n",
       "      <td>0.129870</td>\n",
       "    </tr>\n",
       "    <tr>\n",
       "      <th>2</th>\n",
       "      <td>2</td>\n",
       "      <td>113</td>\n",
       "      <td>0.086325</td>\n",
       "    </tr>\n",
       "    <tr>\n",
       "      <th>3</th>\n",
       "      <td>3</td>\n",
       "      <td>8</td>\n",
       "      <td>0.006112</td>\n",
       "    </tr>\n",
       "    <tr>\n",
       "      <th>4</th>\n",
       "      <td>4</td>\n",
       "      <td>6</td>\n",
       "      <td>0.004584</td>\n",
       "    </tr>\n",
       "    <tr>\n",
       "      <th>5</th>\n",
       "      <td>5</td>\n",
       "      <td>6</td>\n",
       "      <td>0.004584</td>\n",
       "    </tr>\n",
       "    <tr>\n",
       "      <th>6</th>\n",
       "      <td>6</td>\n",
       "      <td>2</td>\n",
       "      <td>0.001528</td>\n",
       "    </tr>\n",
       "    <tr>\n",
       "      <th>7</th>\n",
       "      <td>9</td>\n",
       "      <td>2</td>\n",
       "      <td>0.001528</td>\n",
       "    </tr>\n",
       "  </tbody>\n",
       "</table>\n",
       "</div>"
      ],
      "text/plain": [
       "   parch   cnt       pct\n",
       "0      0  1002  0.765470\n",
       "1      1   170  0.129870\n",
       "2      2   113  0.086325\n",
       "3      3     8  0.006112\n",
       "4      4     6  0.004584\n",
       "5      5     6  0.004584\n",
       "6      6     2  0.001528\n",
       "7      9     2  0.001528"
      ]
     },
     "execution_count": 35,
     "metadata": {},
     "output_type": "execute_result"
    }
   ],
   "source": [
    "pd.DataFrame(parch_counts)"
   ]
  },
  {
   "cell_type": "markdown",
   "metadata": {},
   "source": [
    "This is a bit of a problem.\n",
    "After 2 parents or children aboard (we don't know which), the data gets very sparse.\n",
    "There are a number of ways to handle this but the best approach for now might be to turn this variable into a boolean:"
   ]
  },
  {
   "cell_type": "code",
   "execution_count": 36,
   "metadata": {},
   "outputs": [],
   "source": [
    "titanic[\"parch_count\"] = titanic[\"parch\"]\n",
    "titanic[\"parch\"] = titanic[\"parch_count\"] > 0\n",
    "titanic[\"parch\"] = titanic[\"parch\"].astype(int)"
   ]
  },
  {
   "cell_type": "code",
   "execution_count": 37,
   "metadata": {},
   "outputs": [],
   "source": [
    "parch_counts = pysqldf(f\"SELECT parch, count(*) AS cnt, count(*)/{float(passengers)} AS pct FROM titanic GROUP BY parch ORDER BY parch\")"
   ]
  },
  {
   "cell_type": "code",
   "execution_count": 38,
   "metadata": {},
   "outputs": [
    {
     "data": {
      "text/html": [
       "<div>\n",
       "<style scoped>\n",
       "    .dataframe tbody tr th:only-of-type {\n",
       "        vertical-align: middle;\n",
       "    }\n",
       "\n",
       "    .dataframe tbody tr th {\n",
       "        vertical-align: top;\n",
       "    }\n",
       "\n",
       "    .dataframe thead th {\n",
       "        text-align: right;\n",
       "    }\n",
       "</style>\n",
       "<table border=\"1\" class=\"dataframe\">\n",
       "  <thead>\n",
       "    <tr style=\"text-align: right;\">\n",
       "      <th></th>\n",
       "      <th>parch</th>\n",
       "      <th>cnt</th>\n",
       "      <th>pct</th>\n",
       "    </tr>\n",
       "  </thead>\n",
       "  <tbody>\n",
       "    <tr>\n",
       "      <th>0</th>\n",
       "      <td>0</td>\n",
       "      <td>1002</td>\n",
       "      <td>0.76547</td>\n",
       "    </tr>\n",
       "    <tr>\n",
       "      <th>1</th>\n",
       "      <td>1</td>\n",
       "      <td>307</td>\n",
       "      <td>0.23453</td>\n",
       "    </tr>\n",
       "  </tbody>\n",
       "</table>\n",
       "</div>"
      ],
      "text/plain": [
       "   parch   cnt      pct\n",
       "0      0  1002  0.76547\n",
       "1      1   307  0.23453"
      ]
     },
     "execution_count": 38,
     "metadata": {},
     "output_type": "execute_result"
    }
   ],
   "source": [
    "pd.DataFrame(parch_counts)"
   ]
  },
  {
   "cell_type": "markdown",
   "metadata": {},
   "source": [
    "<div style=\"background: lemonchiffon; margin:20px; padding: 20px;\">\n",
    "    <strong>Note</strong>\n",
    "    <p>It's perfectly fine if you didn't do this. You do need to solve the problem of missing values during normalization later.</p>\n",
    "</div>\n"
   ]
  },
  {
   "cell_type": "markdown",
   "metadata": {},
   "source": [
    "We will also need the total number of passengers:"
   ]
  },
  {
   "cell_type": "markdown",
   "metadata": {},
   "source": [
    "Let's us first calculate the raw frequencies for the two variables. This will be (approximately) their *joint* probability distribution."
   ]
  },
  {
   "cell_type": "code",
   "execution_count": 39,
   "metadata": {},
   "outputs": [],
   "source": [
    "query = f\"\"\"\n",
    "SELECT survived, parch, count(*) AS cnt, count(*)/{float(passengers)} AS pct \n",
    "FROM titanic \n",
    "GROUP BY survived, parch\n",
    "ORDER BY survived, parch\n",
    "\"\"\"\n",
    "survived_and_parch_counts = pysqldf(query)"
   ]
  },
  {
   "cell_type": "code",
   "execution_count": 40,
   "metadata": {},
   "outputs": [
    {
     "data": {
      "text/html": [
       "<div>\n",
       "<style scoped>\n",
       "    .dataframe tbody tr th:only-of-type {\n",
       "        vertical-align: middle;\n",
       "    }\n",
       "\n",
       "    .dataframe tbody tr th {\n",
       "        vertical-align: top;\n",
       "    }\n",
       "\n",
       "    .dataframe thead th {\n",
       "        text-align: right;\n",
       "    }\n",
       "</style>\n",
       "<table border=\"1\" class=\"dataframe\">\n",
       "  <thead>\n",
       "    <tr style=\"text-align: right;\">\n",
       "      <th></th>\n",
       "      <th>survived</th>\n",
       "      <th>parch</th>\n",
       "      <th>cnt</th>\n",
       "      <th>pct</th>\n",
       "    </tr>\n",
       "  </thead>\n",
       "  <tbody>\n",
       "    <tr>\n",
       "      <th>0</th>\n",
       "      <td>0</td>\n",
       "      <td>0</td>\n",
       "      <td>666</td>\n",
       "      <td>0.508785</td>\n",
       "    </tr>\n",
       "    <tr>\n",
       "      <th>1</th>\n",
       "      <td>0</td>\n",
       "      <td>1</td>\n",
       "      <td>143</td>\n",
       "      <td>0.109244</td>\n",
       "    </tr>\n",
       "    <tr>\n",
       "      <th>2</th>\n",
       "      <td>1</td>\n",
       "      <td>0</td>\n",
       "      <td>336</td>\n",
       "      <td>0.256684</td>\n",
       "    </tr>\n",
       "    <tr>\n",
       "      <th>3</th>\n",
       "      <td>1</td>\n",
       "      <td>1</td>\n",
       "      <td>164</td>\n",
       "      <td>0.125286</td>\n",
       "    </tr>\n",
       "  </tbody>\n",
       "</table>\n",
       "</div>"
      ],
      "text/plain": [
       "   survived  parch  cnt       pct\n",
       "0         0      0  666  0.508785\n",
       "1         0      1  143  0.109244\n",
       "2         1      0  336  0.256684\n",
       "3         1      1  164  0.125286"
      ]
     },
     "execution_count": 40,
     "metadata": {},
     "output_type": "execute_result"
    }
   ],
   "source": [
    "survived_and_parch_counts"
   ]
  },
  {
   "cell_type": "code",
   "execution_count": 41,
   "metadata": {},
   "outputs": [],
   "source": [
    "normalizer = lambda row: normalize_by_feature(\"parch\", {k:k for k in range(0, 2)}, parch_counts, row)\n",
    "survived_and_parch_counts[\"pct_by_parch\"] = survived_and_parch_counts.apply(normalizer, axis=1, result_type='reduce')"
   ]
  },
  {
   "cell_type": "code",
   "execution_count": 42,
   "metadata": {},
   "outputs": [
    {
     "data": {
      "text/html": [
       "<div>\n",
       "<style scoped>\n",
       "    .dataframe tbody tr th:only-of-type {\n",
       "        vertical-align: middle;\n",
       "    }\n",
       "\n",
       "    .dataframe tbody tr th {\n",
       "        vertical-align: top;\n",
       "    }\n",
       "\n",
       "    .dataframe thead th {\n",
       "        text-align: right;\n",
       "    }\n",
       "</style>\n",
       "<table border=\"1\" class=\"dataframe\">\n",
       "  <thead>\n",
       "    <tr style=\"text-align: right;\">\n",
       "      <th></th>\n",
       "      <th>survived</th>\n",
       "      <th>parch</th>\n",
       "      <th>cnt</th>\n",
       "      <th>pct</th>\n",
       "      <th>pct_by_parch</th>\n",
       "    </tr>\n",
       "  </thead>\n",
       "  <tbody>\n",
       "    <tr>\n",
       "      <th>0</th>\n",
       "      <td>0</td>\n",
       "      <td>0</td>\n",
       "      <td>666</td>\n",
       "      <td>0.508785</td>\n",
       "      <td>0.664671</td>\n",
       "    </tr>\n",
       "    <tr>\n",
       "      <th>1</th>\n",
       "      <td>0</td>\n",
       "      <td>1</td>\n",
       "      <td>143</td>\n",
       "      <td>0.109244</td>\n",
       "      <td>0.465798</td>\n",
       "    </tr>\n",
       "    <tr>\n",
       "      <th>2</th>\n",
       "      <td>1</td>\n",
       "      <td>0</td>\n",
       "      <td>336</td>\n",
       "      <td>0.256684</td>\n",
       "      <td>0.335329</td>\n",
       "    </tr>\n",
       "    <tr>\n",
       "      <th>3</th>\n",
       "      <td>1</td>\n",
       "      <td>1</td>\n",
       "      <td>164</td>\n",
       "      <td>0.125286</td>\n",
       "      <td>0.534202</td>\n",
       "    </tr>\n",
       "  </tbody>\n",
       "</table>\n",
       "</div>"
      ],
      "text/plain": [
       "   survived  parch  cnt       pct  pct_by_parch\n",
       "0         0      0  666  0.508785      0.664671\n",
       "1         0      1  143  0.109244      0.465798\n",
       "2         1      0  336  0.256684      0.335329\n",
       "3         1      1  164  0.125286      0.534202"
      ]
     },
     "execution_count": 42,
     "metadata": {},
     "output_type": "execute_result"
    }
   ],
   "source": [
    "pd.DataFrame(survived_and_parch_counts)"
   ]
  },
  {
   "cell_type": "markdown",
   "metadata": {},
   "source": [
    "Our hypothesis is correct.\n",
    "A passenger with a parent or child aboard Titanic, was much more likely to survive 53.4% versus 46.6%."
   ]
  },
  {
   "cell_type": "markdown",
   "metadata": {},
   "source": [
    "<div style=\"background: lemonchiffon; margin:20px; padding: 20px;\">\n",
    "    <strong>Note</strong>\n",
    "    <p>Don't make people try to find the numbers in your table themselves. If you have a conclusion that refers to specific numbers, mention the specific numbers.</p>\n",
    "</div>\n"
   ]
  },
  {
   "cell_type": "markdown",
   "metadata": {},
   "source": [
    "It would be interesting to look at the interactions between `parch` and some other variables such as `sex` and `pclass`."
   ]
  },
  {
   "cell_type": "markdown",
   "metadata": {},
   "source": [
    "2. Calculate $P(survived|fare)$"
   ]
  },
  {
   "cell_type": "markdown",
   "metadata": {},
   "source": [
    "We now want to look at the relationship between fare and survival.\n",
    "Did passengers who paid more for their tickets have a higher probability of survival?\n",
    "This question is answered by conditional probability.\n",
    "Our hypothesis is that just as passenger class was associated with survival, so will fare be.\n",
    "\n",
    "Let's look at the fare data again."
   ]
  },
  {
   "cell_type": "code",
   "execution_count": 43,
   "metadata": {},
   "outputs": [
    {
     "data": {
      "image/png": "[encoded data removed]",
      "text/plain": [
       "<Figure size 720x432 with 1 Axes>"
      ]
     },
     "metadata": {
      "needs_background": "light"
     },
     "output_type": "display_data"
    }
   ],
   "source": [
    "figure = plt.figure(figsize=(10, 6))\n",
    "\n",
    "axes = figure.add_subplot(1, 1, 1)\n",
    "axes.hist( titanic[ \"fare\"], color=\"DimGray\")\n",
    "axes.set_ylabel( \"Count\")\n",
    "axes.set_xlabel( \"X\")\n",
    "axes.set_title(\"Count Histogram of Passenger Fares on Titanic; default bins\")\n",
    "\n",
    "plt.show()\n",
    "plt.close()"
   ]
  },
  {
   "cell_type": "markdown",
   "metadata": {},
   "source": [
    "We've only worked with discrete probability distributions so we need to discretize this variable like we did for `age`.\n",
    "However, there are many more possible values here.\n",
    "Additionally, most of the values are below 100 pounds.\n",
    "Let's do a histogram of values below 100 pounds."
   ]
  },
  {
   "cell_type": "code",
   "execution_count": 44,
   "metadata": {},
   "outputs": [
    {
     "data": {
      "image/png": "[encoded data removed]",
      "text/plain": [
       "<Figure size 720x432 with 1 Axes>"
      ]
     },
     "metadata": {
      "needs_background": "light"
     },
     "output_type": "display_data"
    }
   ],
   "source": [
    "figure = plt.figure(figsize=(10, 6))\n",
    "\n",
    "axes = figure.add_subplot(1, 1, 1)\n",
    "axes.hist( titanic[titanic[ \"fare\"] < 100][\"fare\"], color=\"DimGray\")\n",
    "axes.set_ylabel( \"Count\")\n",
    "axes.set_xlabel( \"X\")\n",
    "axes.set_title(\"Count Histogram of Passenger Fares below 100 pounds on Titanic; default bins\")\n",
    "\n",
    "plt.show()\n",
    "plt.close()"
   ]
  },
  {
   "cell_type": "markdown",
   "metadata": {},
   "source": [
    "So it's fair to say that most fares are really below 25 pounds.\n",
    "Let's map the fare into 25 pound increments."
   ]
  },
  {
   "cell_type": "code",
   "execution_count": 45,
   "metadata": {},
   "outputs": [],
   "source": [
    "titanic[\"fare_group\"] = titanic[\"fare\"] // 25"
   ]
  },
  {
   "cell_type": "code",
   "execution_count": 46,
   "metadata": {},
   "outputs": [],
   "source": [
    "fare_group_counts = pysqldf(f\"SELECT fare_group, count(*) AS cnt, count(*)/{float(passengers)} AS pct FROM titanic WHERE fare_group IS NOT NULL GROUP BY fare_group ORDER BY fare_group\")"
   ]
  },
  {
   "cell_type": "code",
   "execution_count": 47,
   "metadata": {},
   "outputs": [
    {
     "data": {
      "text/html": [
       "<div>\n",
       "<style scoped>\n",
       "    .dataframe tbody tr th:only-of-type {\n",
       "        vertical-align: middle;\n",
       "    }\n",
       "\n",
       "    .dataframe tbody tr th {\n",
       "        vertical-align: top;\n",
       "    }\n",
       "\n",
       "    .dataframe thead th {\n",
       "        text-align: right;\n",
       "    }\n",
       "</style>\n",
       "<table border=\"1\" class=\"dataframe\">\n",
       "  <thead>\n",
       "    <tr style=\"text-align: right;\">\n",
       "      <th></th>\n",
       "      <th>fare_group</th>\n",
       "      <th>cnt</th>\n",
       "      <th>pct</th>\n",
       "    </tr>\n",
       "  </thead>\n",
       "  <tbody>\n",
       "    <tr>\n",
       "      <th>0</th>\n",
       "      <td>0.0</td>\n",
       "      <td>821</td>\n",
       "      <td>0.627196</td>\n",
       "    </tr>\n",
       "    <tr>\n",
       "      <th>1</th>\n",
       "      <td>1.0</td>\n",
       "      <td>245</td>\n",
       "      <td>0.187166</td>\n",
       "    </tr>\n",
       "    <tr>\n",
       "      <th>2</th>\n",
       "      <td>2.0</td>\n",
       "      <td>97</td>\n",
       "      <td>0.074102</td>\n",
       "    </tr>\n",
       "    <tr>\n",
       "      <th>3</th>\n",
       "      <td>3.0</td>\n",
       "      <td>61</td>\n",
       "      <td>0.046600</td>\n",
       "    </tr>\n",
       "    <tr>\n",
       "      <th>4</th>\n",
       "      <td>4.0</td>\n",
       "      <td>17</td>\n",
       "      <td>0.012987</td>\n",
       "    </tr>\n",
       "    <tr>\n",
       "      <th>5</th>\n",
       "      <td>5.0</td>\n",
       "      <td>16</td>\n",
       "      <td>0.012223</td>\n",
       "    </tr>\n",
       "    <tr>\n",
       "      <th>6</th>\n",
       "      <td>6.0</td>\n",
       "      <td>13</td>\n",
       "      <td>0.009931</td>\n",
       "    </tr>\n",
       "    <tr>\n",
       "      <th>7</th>\n",
       "      <td>8.0</td>\n",
       "      <td>13</td>\n",
       "      <td>0.009931</td>\n",
       "    </tr>\n",
       "    <tr>\n",
       "      <th>8</th>\n",
       "      <td>9.0</td>\n",
       "      <td>8</td>\n",
       "      <td>0.006112</td>\n",
       "    </tr>\n",
       "    <tr>\n",
       "      <th>9</th>\n",
       "      <td>10.0</td>\n",
       "      <td>13</td>\n",
       "      <td>0.009931</td>\n",
       "    </tr>\n",
       "    <tr>\n",
       "      <th>10</th>\n",
       "      <td>20.0</td>\n",
       "      <td>4</td>\n",
       "      <td>0.003056</td>\n",
       "    </tr>\n",
       "  </tbody>\n",
       "</table>\n",
       "</div>"
      ],
      "text/plain": [
       "    fare_group  cnt       pct\n",
       "0          0.0  821  0.627196\n",
       "1          1.0  245  0.187166\n",
       "2          2.0   97  0.074102\n",
       "3          3.0   61  0.046600\n",
       "4          4.0   17  0.012987\n",
       "5          5.0   16  0.012223\n",
       "6          6.0   13  0.009931\n",
       "7          8.0   13  0.009931\n",
       "8          9.0    8  0.006112\n",
       "9         10.0   13  0.009931\n",
       "10        20.0    4  0.003056"
      ]
     },
     "execution_count": 47,
     "metadata": {},
     "output_type": "execute_result"
    }
   ],
   "source": [
    "pd.DataFrame(fare_group_counts)"
   ]
  },
  {
   "cell_type": "markdown",
   "metadata": {},
   "source": [
    "Let's see what our joint probability distribution looks like:"
   ]
  },
  {
   "cell_type": "code",
   "execution_count": 48,
   "metadata": {},
   "outputs": [],
   "source": [
    "query = f\"\"\"\n",
    "SELECT survived, fare_group, count(*) AS cnt, count(*)/{float(passengers)} AS pct \n",
    "FROM titanic \n",
    "WHERE fare_group IS NOT NULL\n",
    "GROUP BY survived, fare_group\n",
    "ORDER BY survived, fare_group\n",
    "\"\"\"\n",
    "survived_and_fare_group_counts = pysqldf(query)"
   ]
  },
  {
   "cell_type": "code",
   "execution_count": 49,
   "metadata": {},
   "outputs": [
    {
     "data": {
      "text/html": [
       "<div>\n",
       "<style scoped>\n",
       "    .dataframe tbody tr th:only-of-type {\n",
       "        vertical-align: middle;\n",
       "    }\n",
       "\n",
       "    .dataframe tbody tr th {\n",
       "        vertical-align: top;\n",
       "    }\n",
       "\n",
       "    .dataframe thead th {\n",
       "        text-align: right;\n",
       "    }\n",
       "</style>\n",
       "<table border=\"1\" class=\"dataframe\">\n",
       "  <thead>\n",
       "    <tr style=\"text-align: right;\">\n",
       "      <th></th>\n",
       "      <th>survived</th>\n",
       "      <th>fare_group</th>\n",
       "      <th>cnt</th>\n",
       "      <th>pct</th>\n",
       "    </tr>\n",
       "  </thead>\n",
       "  <tbody>\n",
       "    <tr>\n",
       "      <th>0</th>\n",
       "      <td>0</td>\n",
       "      <td>0.0</td>\n",
       "      <td>583</td>\n",
       "      <td>0.445378</td>\n",
       "    </tr>\n",
       "    <tr>\n",
       "      <th>1</th>\n",
       "      <td>0</td>\n",
       "      <td>1.0</td>\n",
       "      <td>141</td>\n",
       "      <td>0.107716</td>\n",
       "    </tr>\n",
       "    <tr>\n",
       "      <th>2</th>\n",
       "      <td>0</td>\n",
       "      <td>2.0</td>\n",
       "      <td>44</td>\n",
       "      <td>0.033613</td>\n",
       "    </tr>\n",
       "    <tr>\n",
       "      <th>3</th>\n",
       "      <td>0</td>\n",
       "      <td>3.0</td>\n",
       "      <td>16</td>\n",
       "      <td>0.012223</td>\n",
       "    </tr>\n",
       "    <tr>\n",
       "      <th>4</th>\n",
       "      <td>0</td>\n",
       "      <td>4.0</td>\n",
       "      <td>4</td>\n",
       "      <td>0.003056</td>\n",
       "    </tr>\n",
       "    <tr>\n",
       "      <th>5</th>\n",
       "      <td>0</td>\n",
       "      <td>5.0</td>\n",
       "      <td>3</td>\n",
       "      <td>0.002292</td>\n",
       "    </tr>\n",
       "    <tr>\n",
       "      <th>6</th>\n",
       "      <td>0</td>\n",
       "      <td>6.0</td>\n",
       "      <td>5</td>\n",
       "      <td>0.003820</td>\n",
       "    </tr>\n",
       "    <tr>\n",
       "      <th>7</th>\n",
       "      <td>0</td>\n",
       "      <td>8.0</td>\n",
       "      <td>6</td>\n",
       "      <td>0.004584</td>\n",
       "    </tr>\n",
       "    <tr>\n",
       "      <th>8</th>\n",
       "      <td>0</td>\n",
       "      <td>9.0</td>\n",
       "      <td>3</td>\n",
       "      <td>0.002292</td>\n",
       "    </tr>\n",
       "    <tr>\n",
       "      <th>9</th>\n",
       "      <td>0</td>\n",
       "      <td>10.0</td>\n",
       "      <td>3</td>\n",
       "      <td>0.002292</td>\n",
       "    </tr>\n",
       "    <tr>\n",
       "      <th>10</th>\n",
       "      <td>1</td>\n",
       "      <td>0.0</td>\n",
       "      <td>238</td>\n",
       "      <td>0.181818</td>\n",
       "    </tr>\n",
       "    <tr>\n",
       "      <th>11</th>\n",
       "      <td>1</td>\n",
       "      <td>1.0</td>\n",
       "      <td>104</td>\n",
       "      <td>0.079450</td>\n",
       "    </tr>\n",
       "    <tr>\n",
       "      <th>12</th>\n",
       "      <td>1</td>\n",
       "      <td>2.0</td>\n",
       "      <td>53</td>\n",
       "      <td>0.040489</td>\n",
       "    </tr>\n",
       "    <tr>\n",
       "      <th>13</th>\n",
       "      <td>1</td>\n",
       "      <td>3.0</td>\n",
       "      <td>45</td>\n",
       "      <td>0.034377</td>\n",
       "    </tr>\n",
       "    <tr>\n",
       "      <th>14</th>\n",
       "      <td>1</td>\n",
       "      <td>4.0</td>\n",
       "      <td>13</td>\n",
       "      <td>0.009931</td>\n",
       "    </tr>\n",
       "    <tr>\n",
       "      <th>15</th>\n",
       "      <td>1</td>\n",
       "      <td>5.0</td>\n",
       "      <td>13</td>\n",
       "      <td>0.009931</td>\n",
       "    </tr>\n",
       "    <tr>\n",
       "      <th>16</th>\n",
       "      <td>1</td>\n",
       "      <td>6.0</td>\n",
       "      <td>8</td>\n",
       "      <td>0.006112</td>\n",
       "    </tr>\n",
       "    <tr>\n",
       "      <th>17</th>\n",
       "      <td>1</td>\n",
       "      <td>8.0</td>\n",
       "      <td>7</td>\n",
       "      <td>0.005348</td>\n",
       "    </tr>\n",
       "    <tr>\n",
       "      <th>18</th>\n",
       "      <td>1</td>\n",
       "      <td>9.0</td>\n",
       "      <td>5</td>\n",
       "      <td>0.003820</td>\n",
       "    </tr>\n",
       "    <tr>\n",
       "      <th>19</th>\n",
       "      <td>1</td>\n",
       "      <td>10.0</td>\n",
       "      <td>10</td>\n",
       "      <td>0.007639</td>\n",
       "    </tr>\n",
       "    <tr>\n",
       "      <th>20</th>\n",
       "      <td>1</td>\n",
       "      <td>20.0</td>\n",
       "      <td>4</td>\n",
       "      <td>0.003056</td>\n",
       "    </tr>\n",
       "  </tbody>\n",
       "</table>\n",
       "</div>"
      ],
      "text/plain": [
       "    survived  fare_group  cnt       pct\n",
       "0          0         0.0  583  0.445378\n",
       "1          0         1.0  141  0.107716\n",
       "2          0         2.0   44  0.033613\n",
       "3          0         3.0   16  0.012223\n",
       "4          0         4.0    4  0.003056\n",
       "5          0         5.0    3  0.002292\n",
       "6          0         6.0    5  0.003820\n",
       "7          0         8.0    6  0.004584\n",
       "8          0         9.0    3  0.002292\n",
       "9          0        10.0    3  0.002292\n",
       "10         1         0.0  238  0.181818\n",
       "11         1         1.0  104  0.079450\n",
       "12         1         2.0   53  0.040489\n",
       "13         1         3.0   45  0.034377\n",
       "14         1         4.0   13  0.009931\n",
       "15         1         5.0   13  0.009931\n",
       "16         1         6.0    8  0.006112\n",
       "17         1         8.0    7  0.005348\n",
       "18         1         9.0    5  0.003820\n",
       "19         1        10.0   10  0.007639\n",
       "20         1        20.0    4  0.003056"
      ]
     },
     "execution_count": 49,
     "metadata": {},
     "output_type": "execute_result"
    }
   ],
   "source": [
    "pd.DataFrame(survived_and_fare_group_counts)"
   ]
  },
  {
   "cell_type": "markdown",
   "metadata": {},
   "source": [
    "It's good except that our code for handling the normalization doesn't handle missing values.\n",
    "Looking at the values, we could just cap our ranges at 10 (10$\\times$25 = 250 pounds) and it won't distort the results.\n",
    "\n",
    "<div style=\"background: lemonchiffon; margin:20px; padding: 20px;\">\n",
    "    <strong>Note</strong>\n",
    "    <p>The purpose of this assignment is to get familiar with conditional probability as it relates to data...not solve all the problems. The most important thing is to <strong>explain what you're doing, why, and the implications</strong>. We're not looking for the right answer or right model (well, unless it is really just arithmetic), we're looking for the right process and for your thinking.</p>\n",
    "</div>\n"
   ]
  },
  {
   "cell_type": "markdown",
   "metadata": {},
   "source": [
    "Let's cap off the top fare group and recalculate everything:"
   ]
  },
  {
   "cell_type": "code",
   "execution_count": 50,
   "metadata": {},
   "outputs": [],
   "source": [
    "titanic[\"fare_group\"] = titanic[\"fare_group\"].apply(lambda x: x if x < 20.0 else 10.0)"
   ]
  },
  {
   "cell_type": "code",
   "execution_count": 52,
   "metadata": {},
   "outputs": [],
   "source": [
    "fare_group_counts = pysqldf(f\"SELECT fare_group, count(*) AS cnt, count(*)/{float(passengers)} AS pct FROM titanic WHERE fare_group IS NOT NULL GROUP BY fare_group ORDER BY fare_group\")"
   ]
  },
  {
   "cell_type": "code",
   "execution_count": 53,
   "metadata": {},
   "outputs": [
    {
     "data": {
      "text/html": [
       "<div>\n",
       "<style scoped>\n",
       "    .dataframe tbody tr th:only-of-type {\n",
       "        vertical-align: middle;\n",
       "    }\n",
       "\n",
       "    .dataframe tbody tr th {\n",
       "        vertical-align: top;\n",
       "    }\n",
       "\n",
       "    .dataframe thead th {\n",
       "        text-align: right;\n",
       "    }\n",
       "</style>\n",
       "<table border=\"1\" class=\"dataframe\">\n",
       "  <thead>\n",
       "    <tr style=\"text-align: right;\">\n",
       "      <th></th>\n",
       "      <th>fare_group</th>\n",
       "      <th>cnt</th>\n",
       "      <th>pct</th>\n",
       "    </tr>\n",
       "  </thead>\n",
       "  <tbody>\n",
       "    <tr>\n",
       "      <th>0</th>\n",
       "      <td>0.0</td>\n",
       "      <td>821</td>\n",
       "      <td>0.627196</td>\n",
       "    </tr>\n",
       "    <tr>\n",
       "      <th>1</th>\n",
       "      <td>1.0</td>\n",
       "      <td>245</td>\n",
       "      <td>0.187166</td>\n",
       "    </tr>\n",
       "    <tr>\n",
       "      <th>2</th>\n",
       "      <td>2.0</td>\n",
       "      <td>97</td>\n",
       "      <td>0.074102</td>\n",
       "    </tr>\n",
       "    <tr>\n",
       "      <th>3</th>\n",
       "      <td>3.0</td>\n",
       "      <td>61</td>\n",
       "      <td>0.046600</td>\n",
       "    </tr>\n",
       "    <tr>\n",
       "      <th>4</th>\n",
       "      <td>4.0</td>\n",
       "      <td>17</td>\n",
       "      <td>0.012987</td>\n",
       "    </tr>\n",
       "    <tr>\n",
       "      <th>5</th>\n",
       "      <td>5.0</td>\n",
       "      <td>16</td>\n",
       "      <td>0.012223</td>\n",
       "    </tr>\n",
       "    <tr>\n",
       "      <th>6</th>\n",
       "      <td>6.0</td>\n",
       "      <td>13</td>\n",
       "      <td>0.009931</td>\n",
       "    </tr>\n",
       "    <tr>\n",
       "      <th>7</th>\n",
       "      <td>8.0</td>\n",
       "      <td>13</td>\n",
       "      <td>0.009931</td>\n",
       "    </tr>\n",
       "    <tr>\n",
       "      <th>8</th>\n",
       "      <td>9.0</td>\n",
       "      <td>8</td>\n",
       "      <td>0.006112</td>\n",
       "    </tr>\n",
       "    <tr>\n",
       "      <th>9</th>\n",
       "      <td>10.0</td>\n",
       "      <td>18</td>\n",
       "      <td>0.013751</td>\n",
       "    </tr>\n",
       "  </tbody>\n",
       "</table>\n",
       "</div>"
      ],
      "text/plain": [
       "   fare_group  cnt       pct\n",
       "0         0.0  821  0.627196\n",
       "1         1.0  245  0.187166\n",
       "2         2.0   97  0.074102\n",
       "3         3.0   61  0.046600\n",
       "4         4.0   17  0.012987\n",
       "5         5.0   16  0.012223\n",
       "6         6.0   13  0.009931\n",
       "7         8.0   13  0.009931\n",
       "8         9.0    8  0.006112\n",
       "9        10.0   18  0.013751"
      ]
     },
     "execution_count": 53,
     "metadata": {},
     "output_type": "execute_result"
    }
   ],
   "source": [
    "pd.DataFrame(fare_group_counts)"
   ]
  },
  {
   "cell_type": "code",
   "execution_count": 54,
   "metadata": {},
   "outputs": [],
   "source": [
    "query = f\"\"\"\n",
    "SELECT survived, fare_group, count(*) AS cnt, count(*)/{float(passengers)} AS pct \n",
    "FROM titanic \n",
    "WHERE fare_group IS NOT NULL\n",
    "GROUP BY survived, fare_group\n",
    "ORDER BY survived, fare_group\n",
    "\"\"\"\n",
    "survived_and_fare_group_counts = pysqldf(query)"
   ]
  },
  {
   "cell_type": "code",
   "execution_count": 55,
   "metadata": {},
   "outputs": [
    {
     "data": {
      "text/html": [
       "<div>\n",
       "<style scoped>\n",
       "    .dataframe tbody tr th:only-of-type {\n",
       "        vertical-align: middle;\n",
       "    }\n",
       "\n",
       "    .dataframe tbody tr th {\n",
       "        vertical-align: top;\n",
       "    }\n",
       "\n",
       "    .dataframe thead th {\n",
       "        text-align: right;\n",
       "    }\n",
       "</style>\n",
       "<table border=\"1\" class=\"dataframe\">\n",
       "  <thead>\n",
       "    <tr style=\"text-align: right;\">\n",
       "      <th></th>\n",
       "      <th>survived</th>\n",
       "      <th>fare_group</th>\n",
       "      <th>cnt</th>\n",
       "      <th>pct</th>\n",
       "    </tr>\n",
       "  </thead>\n",
       "  <tbody>\n",
       "    <tr>\n",
       "      <th>0</th>\n",
       "      <td>0</td>\n",
       "      <td>0.0</td>\n",
       "      <td>583</td>\n",
       "      <td>0.445378</td>\n",
       "    </tr>\n",
       "    <tr>\n",
       "      <th>1</th>\n",
       "      <td>0</td>\n",
       "      <td>1.0</td>\n",
       "      <td>141</td>\n",
       "      <td>0.107716</td>\n",
       "    </tr>\n",
       "    <tr>\n",
       "      <th>2</th>\n",
       "      <td>0</td>\n",
       "      <td>2.0</td>\n",
       "      <td>44</td>\n",
       "      <td>0.033613</td>\n",
       "    </tr>\n",
       "    <tr>\n",
       "      <th>3</th>\n",
       "      <td>0</td>\n",
       "      <td>3.0</td>\n",
       "      <td>16</td>\n",
       "      <td>0.012223</td>\n",
       "    </tr>\n",
       "    <tr>\n",
       "      <th>4</th>\n",
       "      <td>0</td>\n",
       "      <td>4.0</td>\n",
       "      <td>4</td>\n",
       "      <td>0.003056</td>\n",
       "    </tr>\n",
       "    <tr>\n",
       "      <th>5</th>\n",
       "      <td>0</td>\n",
       "      <td>5.0</td>\n",
       "      <td>3</td>\n",
       "      <td>0.002292</td>\n",
       "    </tr>\n",
       "    <tr>\n",
       "      <th>6</th>\n",
       "      <td>0</td>\n",
       "      <td>6.0</td>\n",
       "      <td>5</td>\n",
       "      <td>0.003820</td>\n",
       "    </tr>\n",
       "    <tr>\n",
       "      <th>7</th>\n",
       "      <td>0</td>\n",
       "      <td>8.0</td>\n",
       "      <td>6</td>\n",
       "      <td>0.004584</td>\n",
       "    </tr>\n",
       "    <tr>\n",
       "      <th>8</th>\n",
       "      <td>0</td>\n",
       "      <td>9.0</td>\n",
       "      <td>3</td>\n",
       "      <td>0.002292</td>\n",
       "    </tr>\n",
       "    <tr>\n",
       "      <th>9</th>\n",
       "      <td>0</td>\n",
       "      <td>10.0</td>\n",
       "      <td>4</td>\n",
       "      <td>0.003056</td>\n",
       "    </tr>\n",
       "    <tr>\n",
       "      <th>10</th>\n",
       "      <td>1</td>\n",
       "      <td>0.0</td>\n",
       "      <td>238</td>\n",
       "      <td>0.181818</td>\n",
       "    </tr>\n",
       "    <tr>\n",
       "      <th>11</th>\n",
       "      <td>1</td>\n",
       "      <td>1.0</td>\n",
       "      <td>104</td>\n",
       "      <td>0.079450</td>\n",
       "    </tr>\n",
       "    <tr>\n",
       "      <th>12</th>\n",
       "      <td>1</td>\n",
       "      <td>2.0</td>\n",
       "      <td>53</td>\n",
       "      <td>0.040489</td>\n",
       "    </tr>\n",
       "    <tr>\n",
       "      <th>13</th>\n",
       "      <td>1</td>\n",
       "      <td>3.0</td>\n",
       "      <td>45</td>\n",
       "      <td>0.034377</td>\n",
       "    </tr>\n",
       "    <tr>\n",
       "      <th>14</th>\n",
       "      <td>1</td>\n",
       "      <td>4.0</td>\n",
       "      <td>13</td>\n",
       "      <td>0.009931</td>\n",
       "    </tr>\n",
       "    <tr>\n",
       "      <th>15</th>\n",
       "      <td>1</td>\n",
       "      <td>5.0</td>\n",
       "      <td>13</td>\n",
       "      <td>0.009931</td>\n",
       "    </tr>\n",
       "    <tr>\n",
       "      <th>16</th>\n",
       "      <td>1</td>\n",
       "      <td>6.0</td>\n",
       "      <td>8</td>\n",
       "      <td>0.006112</td>\n",
       "    </tr>\n",
       "    <tr>\n",
       "      <th>17</th>\n",
       "      <td>1</td>\n",
       "      <td>8.0</td>\n",
       "      <td>7</td>\n",
       "      <td>0.005348</td>\n",
       "    </tr>\n",
       "    <tr>\n",
       "      <th>18</th>\n",
       "      <td>1</td>\n",
       "      <td>9.0</td>\n",
       "      <td>5</td>\n",
       "      <td>0.003820</td>\n",
       "    </tr>\n",
       "    <tr>\n",
       "      <th>19</th>\n",
       "      <td>1</td>\n",
       "      <td>10.0</td>\n",
       "      <td>14</td>\n",
       "      <td>0.010695</td>\n",
       "    </tr>\n",
       "  </tbody>\n",
       "</table>\n",
       "</div>"
      ],
      "text/plain": [
       "    survived  fare_group  cnt       pct\n",
       "0          0         0.0  583  0.445378\n",
       "1          0         1.0  141  0.107716\n",
       "2          0         2.0   44  0.033613\n",
       "3          0         3.0   16  0.012223\n",
       "4          0         4.0    4  0.003056\n",
       "5          0         5.0    3  0.002292\n",
       "6          0         6.0    5  0.003820\n",
       "7          0         8.0    6  0.004584\n",
       "8          0         9.0    3  0.002292\n",
       "9          0        10.0    4  0.003056\n",
       "10         1         0.0  238  0.181818\n",
       "11         1         1.0  104  0.079450\n",
       "12         1         2.0   53  0.040489\n",
       "13         1         3.0   45  0.034377\n",
       "14         1         4.0   13  0.009931\n",
       "15         1         5.0   13  0.009931\n",
       "16         1         6.0    8  0.006112\n",
       "17         1         8.0    7  0.005348\n",
       "18         1         9.0    5  0.003820\n",
       "19         1        10.0   14  0.010695"
      ]
     },
     "execution_count": 55,
     "metadata": {},
     "output_type": "execute_result"
    }
   ],
   "source": [
    "pd.DataFrame(survived_and_fare_group_counts)"
   ]
  },
  {
   "cell_type": "markdown",
   "metadata": {},
   "source": [
    "We are now in a position to calculate our conditional probability $P(survived|fare)$:"
   ]
  },
  {
   "cell_type": "code",
   "execution_count": 58,
   "metadata": {},
   "outputs": [],
   "source": [
    "normalizer = lambda row: normalize_by_feature(\"fare_group\", {k:i for i, k in enumerate([0.0, 1.0, 2.0, 3.0, 4.0, 5.0, 6.0, 8.0, 9.0, 10.0])}, fare_group_counts, row)\n",
    "survived_and_fare_group_counts[\"pct_by_fare_group\"] = survived_and_fare_group_counts.apply(normalizer, axis=1, result_type='reduce')"
   ]
  },
  {
   "cell_type": "code",
   "execution_count": 59,
   "metadata": {},
   "outputs": [
    {
     "data": {
      "text/html": [
       "<div>\n",
       "<style scoped>\n",
       "    .dataframe tbody tr th:only-of-type {\n",
       "        vertical-align: middle;\n",
       "    }\n",
       "\n",
       "    .dataframe tbody tr th {\n",
       "        vertical-align: top;\n",
       "    }\n",
       "\n",
       "    .dataframe thead th {\n",
       "        text-align: right;\n",
       "    }\n",
       "</style>\n",
       "<table border=\"1\" class=\"dataframe\">\n",
       "  <thead>\n",
       "    <tr style=\"text-align: right;\">\n",
       "      <th></th>\n",
       "      <th>survived</th>\n",
       "      <th>fare_group</th>\n",
       "      <th>cnt</th>\n",
       "      <th>pct</th>\n",
       "      <th>pct_by_fare_group</th>\n",
       "    </tr>\n",
       "  </thead>\n",
       "  <tbody>\n",
       "    <tr>\n",
       "      <th>0</th>\n",
       "      <td>0</td>\n",
       "      <td>0.0</td>\n",
       "      <td>583</td>\n",
       "      <td>0.445378</td>\n",
       "      <td>0.710110</td>\n",
       "    </tr>\n",
       "    <tr>\n",
       "      <th>1</th>\n",
       "      <td>0</td>\n",
       "      <td>1.0</td>\n",
       "      <td>141</td>\n",
       "      <td>0.107716</td>\n",
       "      <td>0.575510</td>\n",
       "    </tr>\n",
       "    <tr>\n",
       "      <th>2</th>\n",
       "      <td>0</td>\n",
       "      <td>2.0</td>\n",
       "      <td>44</td>\n",
       "      <td>0.033613</td>\n",
       "      <td>0.453608</td>\n",
       "    </tr>\n",
       "    <tr>\n",
       "      <th>3</th>\n",
       "      <td>0</td>\n",
       "      <td>3.0</td>\n",
       "      <td>16</td>\n",
       "      <td>0.012223</td>\n",
       "      <td>0.262295</td>\n",
       "    </tr>\n",
       "    <tr>\n",
       "      <th>4</th>\n",
       "      <td>0</td>\n",
       "      <td>4.0</td>\n",
       "      <td>4</td>\n",
       "      <td>0.003056</td>\n",
       "      <td>0.235294</td>\n",
       "    </tr>\n",
       "    <tr>\n",
       "      <th>5</th>\n",
       "      <td>0</td>\n",
       "      <td>5.0</td>\n",
       "      <td>3</td>\n",
       "      <td>0.002292</td>\n",
       "      <td>0.187500</td>\n",
       "    </tr>\n",
       "    <tr>\n",
       "      <th>6</th>\n",
       "      <td>0</td>\n",
       "      <td>6.0</td>\n",
       "      <td>5</td>\n",
       "      <td>0.003820</td>\n",
       "      <td>0.384615</td>\n",
       "    </tr>\n",
       "    <tr>\n",
       "      <th>7</th>\n",
       "      <td>0</td>\n",
       "      <td>8.0</td>\n",
       "      <td>6</td>\n",
       "      <td>0.004584</td>\n",
       "      <td>0.461538</td>\n",
       "    </tr>\n",
       "    <tr>\n",
       "      <th>8</th>\n",
       "      <td>0</td>\n",
       "      <td>9.0</td>\n",
       "      <td>3</td>\n",
       "      <td>0.002292</td>\n",
       "      <td>0.375000</td>\n",
       "    </tr>\n",
       "    <tr>\n",
       "      <th>9</th>\n",
       "      <td>0</td>\n",
       "      <td>10.0</td>\n",
       "      <td>4</td>\n",
       "      <td>0.003056</td>\n",
       "      <td>0.222222</td>\n",
       "    </tr>\n",
       "    <tr>\n",
       "      <th>10</th>\n",
       "      <td>1</td>\n",
       "      <td>0.0</td>\n",
       "      <td>238</td>\n",
       "      <td>0.181818</td>\n",
       "      <td>0.289890</td>\n",
       "    </tr>\n",
       "    <tr>\n",
       "      <th>11</th>\n",
       "      <td>1</td>\n",
       "      <td>1.0</td>\n",
       "      <td>104</td>\n",
       "      <td>0.079450</td>\n",
       "      <td>0.424490</td>\n",
       "    </tr>\n",
       "    <tr>\n",
       "      <th>12</th>\n",
       "      <td>1</td>\n",
       "      <td>2.0</td>\n",
       "      <td>53</td>\n",
       "      <td>0.040489</td>\n",
       "      <td>0.546392</td>\n",
       "    </tr>\n",
       "    <tr>\n",
       "      <th>13</th>\n",
       "      <td>1</td>\n",
       "      <td>3.0</td>\n",
       "      <td>45</td>\n",
       "      <td>0.034377</td>\n",
       "      <td>0.737705</td>\n",
       "    </tr>\n",
       "    <tr>\n",
       "      <th>14</th>\n",
       "      <td>1</td>\n",
       "      <td>4.0</td>\n",
       "      <td>13</td>\n",
       "      <td>0.009931</td>\n",
       "      <td>0.764706</td>\n",
       "    </tr>\n",
       "    <tr>\n",
       "      <th>15</th>\n",
       "      <td>1</td>\n",
       "      <td>5.0</td>\n",
       "      <td>13</td>\n",
       "      <td>0.009931</td>\n",
       "      <td>0.812500</td>\n",
       "    </tr>\n",
       "    <tr>\n",
       "      <th>16</th>\n",
       "      <td>1</td>\n",
       "      <td>6.0</td>\n",
       "      <td>8</td>\n",
       "      <td>0.006112</td>\n",
       "      <td>0.615385</td>\n",
       "    </tr>\n",
       "    <tr>\n",
       "      <th>17</th>\n",
       "      <td>1</td>\n",
       "      <td>8.0</td>\n",
       "      <td>7</td>\n",
       "      <td>0.005348</td>\n",
       "      <td>0.538462</td>\n",
       "    </tr>\n",
       "    <tr>\n",
       "      <th>18</th>\n",
       "      <td>1</td>\n",
       "      <td>9.0</td>\n",
       "      <td>5</td>\n",
       "      <td>0.003820</td>\n",
       "      <td>0.625000</td>\n",
       "    </tr>\n",
       "    <tr>\n",
       "      <th>19</th>\n",
       "      <td>1</td>\n",
       "      <td>10.0</td>\n",
       "      <td>14</td>\n",
       "      <td>0.010695</td>\n",
       "      <td>0.777778</td>\n",
       "    </tr>\n",
       "  </tbody>\n",
       "</table>\n",
       "</div>"
      ],
      "text/plain": [
       "    survived  fare_group  cnt       pct  pct_by_fare_group\n",
       "0          0         0.0  583  0.445378           0.710110\n",
       "1          0         1.0  141  0.107716           0.575510\n",
       "2          0         2.0   44  0.033613           0.453608\n",
       "3          0         3.0   16  0.012223           0.262295\n",
       "4          0         4.0    4  0.003056           0.235294\n",
       "5          0         5.0    3  0.002292           0.187500\n",
       "6          0         6.0    5  0.003820           0.384615\n",
       "7          0         8.0    6  0.004584           0.461538\n",
       "8          0         9.0    3  0.002292           0.375000\n",
       "9          0        10.0    4  0.003056           0.222222\n",
       "10         1         0.0  238  0.181818           0.289890\n",
       "11         1         1.0  104  0.079450           0.424490\n",
       "12         1         2.0   53  0.040489           0.546392\n",
       "13         1         3.0   45  0.034377           0.737705\n",
       "14         1         4.0   13  0.009931           0.764706\n",
       "15         1         5.0   13  0.009931           0.812500\n",
       "16         1         6.0    8  0.006112           0.615385\n",
       "17         1         8.0    7  0.005348           0.538462\n",
       "18         1         9.0    5  0.003820           0.625000\n",
       "19         1        10.0   14  0.010695           0.777778"
      ]
     },
     "execution_count": 59,
     "metadata": {},
     "output_type": "execute_result"
    }
   ],
   "source": [
    "pd.DataFrame(survived_and_fare_group_counts)"
   ]
  },
  {
   "cell_type": "markdown",
   "metadata": {},
   "source": [
    "We could probably tweak the ranges quite a bit more as the data is pretty sparse once you get above 75 pounds but the results seem to match our hypothesis that the more you paid for your ticket, the more likely were to survive.\n",
    "Of course, we'd need to look at all the features to see how they interact.\n",
    "For example, if a couple purchased a 150 pound ticket, is the survivor the wife and the non-survivor the husband?"
   ]
  },
  {
   "cell_type": "markdown",
   "metadata": {},
   "source": [
    "## Naive Bayes Classifier"
   ]
  },
  {
   "cell_type": "code",
   "execution_count": 51,
   "metadata": {},
   "outputs": [],
   "source": [
    "from sklearn.naive_bayes import CategoricalNB\n",
    "from sklearn.preprocessing import OrdinalEncoder"
   ]
  },
  {
   "cell_type": "markdown",
   "metadata": {},
   "source": [
    "1. Calculate the Naive Bayes Classifier for $P(survived|pclass, sex, decade, parch, sibsp)$ and make 5 predictions.\n",
    "\n",
    "(Remember...discuss/code/discuss. This is especially true for the predictions...when you make up each passenger, do you expect them to survive or perish?)"
   ]
  },
  {
   "cell_type": "markdown",
   "metadata": {},
   "source": [
    "We can follow the same basic process we did in the Titanic Case Study but we'll just be building a larger model.\n",
    "We've already seen most of the variables, however we need to have a look at `sibsp`:"
   ]
  },
  {
   "cell_type": "code",
   "execution_count": 60,
   "metadata": {},
   "outputs": [],
   "source": [
    "sibsp_counts = pysqldf(f\"SELECT sibsp, count(*) AS cnt, count(*)/{float(passengers)} AS pct FROM titanic GROUP BY sibsp ORDER BY sibsp\")"
   ]
  },
  {
   "cell_type": "code",
   "execution_count": 61,
   "metadata": {},
   "outputs": [
    {
     "data": {
      "text/html": [
       "<div>\n",
       "<style scoped>\n",
       "    .dataframe tbody tr th:only-of-type {\n",
       "        vertical-align: middle;\n",
       "    }\n",
       "\n",
       "    .dataframe tbody tr th {\n",
       "        vertical-align: top;\n",
       "    }\n",
       "\n",
       "    .dataframe thead th {\n",
       "        text-align: right;\n",
       "    }\n",
       "</style>\n",
       "<table border=\"1\" class=\"dataframe\">\n",
       "  <thead>\n",
       "    <tr style=\"text-align: right;\">\n",
       "      <th></th>\n",
       "      <th>sibsp</th>\n",
       "      <th>cnt</th>\n",
       "      <th>pct</th>\n",
       "    </tr>\n",
       "  </thead>\n",
       "  <tbody>\n",
       "    <tr>\n",
       "      <th>0</th>\n",
       "      <td>0</td>\n",
       "      <td>891</td>\n",
       "      <td>0.680672</td>\n",
       "    </tr>\n",
       "    <tr>\n",
       "      <th>1</th>\n",
       "      <td>1</td>\n",
       "      <td>319</td>\n",
       "      <td>0.243697</td>\n",
       "    </tr>\n",
       "    <tr>\n",
       "      <th>2</th>\n",
       "      <td>2</td>\n",
       "      <td>42</td>\n",
       "      <td>0.032086</td>\n",
       "    </tr>\n",
       "    <tr>\n",
       "      <th>3</th>\n",
       "      <td>3</td>\n",
       "      <td>20</td>\n",
       "      <td>0.015279</td>\n",
       "    </tr>\n",
       "    <tr>\n",
       "      <th>4</th>\n",
       "      <td>4</td>\n",
       "      <td>22</td>\n",
       "      <td>0.016807</td>\n",
       "    </tr>\n",
       "    <tr>\n",
       "      <th>5</th>\n",
       "      <td>5</td>\n",
       "      <td>6</td>\n",
       "      <td>0.004584</td>\n",
       "    </tr>\n",
       "    <tr>\n",
       "      <th>6</th>\n",
       "      <td>8</td>\n",
       "      <td>9</td>\n",
       "      <td>0.006875</td>\n",
       "    </tr>\n",
       "  </tbody>\n",
       "</table>\n",
       "</div>"
      ],
      "text/plain": [
       "   sibsp  cnt       pct\n",
       "0      0  891  0.680672\n",
       "1      1  319  0.243697\n",
       "2      2   42  0.032086\n",
       "3      3   20  0.015279\n",
       "4      4   22  0.016807\n",
       "5      5    6  0.004584\n",
       "6      8    9  0.006875"
      ]
     },
     "execution_count": 61,
     "metadata": {},
     "output_type": "execute_result"
    }
   ],
   "source": [
    "sibsp_counts"
   ]
  },
  {
   "cell_type": "markdown",
   "metadata": {},
   "source": [
    "As with `parch`, we might do better for now to convert this into a boolean variable:"
   ]
  },
  {
   "cell_type": "code",
   "execution_count": 62,
   "metadata": {},
   "outputs": [],
   "source": [
    "titanic[\"sibsp_count\"] = titanic[\"sibsp\"]\n",
    "titanic[\"sibsp\"] = titanic[\"sibsp_count\"] > 0\n",
    "titanic[\"sibsp\"] = titanic[\"sibsp\"].astype(int)"
   ]
  },
  {
   "cell_type": "markdown",
   "metadata": {},
   "source": [
    "<div style=\"background: lemonchiffon; margin:20px; padding: 20px;\">\n",
    "    <strong>Note</strong>\n",
    "    <p>Be careful with destructive, non-idempotent changes to your data frames.</p>\n",
    "</div>\n"
   ]
  },
  {
   "cell_type": "markdown",
   "metadata": {},
   "source": [
    "We also need to calculate `decade`:"
   ]
  },
  {
   "cell_type": "code",
   "execution_count": 63,
   "metadata": {},
   "outputs": [],
   "source": [
    "titanic[\"decade\"] = (titanic[\"age\"] // 10) * 10"
   ]
  },
  {
   "cell_type": "markdown",
   "metadata": {},
   "source": [
    "We're going to create an OrdinalEncoder, filter out passengers without age information, and then apply it to the variables:"
   ]
  },
  {
   "cell_type": "code",
   "execution_count": 64,
   "metadata": {},
   "outputs": [],
   "source": [
    "encoder = OrdinalEncoder()"
   ]
  },
  {
   "cell_type": "code",
   "execution_count": 65,
   "metadata": {},
   "outputs": [],
   "source": [
    "with_age = titanic[titanic[\"age\"].notnull()]"
   ]
  },
  {
   "cell_type": "code",
   "execution_count": 72,
   "metadata": {},
   "outputs": [
    {
     "data": {
      "text/plain": [
       "OrdinalEncoder()"
      ]
     },
     "execution_count": 72,
     "metadata": {},
     "output_type": "execute_result"
    }
   ],
   "source": [
    "encoder.fit(with_age[[\"pclass\", \"sex\", \"decade\", \"parch\", \"sibsp\"]])"
   ]
  },
  {
   "cell_type": "markdown",
   "metadata": {},
   "source": [
    "Note that we had to fit the ordinal encoder to all our data, even variables that are numeric, because we're using the Categorical Naive Bayes (and the variables are mostly categorical anyway, even if some of them are numbers)."
   ]
  },
  {
   "cell_type": "code",
   "execution_count": 73,
   "metadata": {},
   "outputs": [
    {
     "data": {
      "text/plain": [
       "[array([1, 2, 3]),\n",
       " array(['female', 'male'], dtype=object),\n",
       " array([ 0., 10., 20., 30., 40., 50., 60., 70., 80.]),\n",
       " array([0, 1]),\n",
       " array([0, 1])]"
      ]
     },
     "execution_count": 73,
     "metadata": {},
     "output_type": "execute_result"
    }
   ],
   "source": [
    "encoder.categories_"
   ]
  },
  {
   "cell_type": "markdown",
   "metadata": {},
   "source": [
    "Now we can fit our Naive Bayes Classifier using `pclass`, `sex`, `decade`, `parch`, `sibsp`:"
   ]
  },
  {
   "cell_type": "code",
   "execution_count": 69,
   "metadata": {},
   "outputs": [],
   "source": [
    "clf = CategoricalNB()"
   ]
  },
  {
   "cell_type": "code",
   "execution_count": 74,
   "metadata": {},
   "outputs": [
    {
     "data": {
      "text/plain": [
       "CategoricalNB()"
      ]
     },
     "execution_count": 74,
     "metadata": {},
     "output_type": "execute_result"
    }
   ],
   "source": [
    "clf.fit(encoder.transform(with_age[[\"pclass\", \"sex\", \"decade\", \"parch\", \"sibsp\"]]), with_age[\"survived\"])"
   ]
  },
  {
   "cell_type": "markdown",
   "metadata": {},
   "source": [
    "We can now predict the outcome for 5 passengers onboard Titanic.\n",
    "\n",
    "First, we have a 20-something first class, female passenger with no parents or siblings. The hypothesis is that she would survive:"
   ]
  },
  {
   "cell_type": "code",
   "execution_count": 76,
   "metadata": {},
   "outputs": [
    {
     "data": {
      "text/plain": [
       "array([[0.18640382, 0.81359618]])"
      ]
     },
     "execution_count": 76,
     "metadata": {},
     "output_type": "execute_result"
    }
   ],
   "source": [
    "clf.predict_proba(encoder.transform([(1, 'female', 20, 0, 0)]))"
   ]
  },
  {
   "cell_type": "markdown",
   "metadata": {},
   "source": [
    "Yes.\n",
    "\n",
    "Now we have a 40-something second class, male passenger, with children and a spouse. We predict he did not survive:"
   ]
  },
  {
   "cell_type": "code",
   "execution_count": 77,
   "metadata": {},
   "outputs": [
    {
     "data": {
      "text/plain": [
       "array([[0.60085012, 0.39914988]])"
      ]
     },
     "execution_count": 77,
     "metadata": {},
     "output_type": "execute_result"
    }
   ],
   "source": [
    "clf.predict_proba(encoder.transform([(2, 'male', 40, 1, 1)]))"
   ]
  },
  {
   "cell_type": "markdown",
   "metadata": {},
   "source": [
    "We were, sadly, correct.\n",
    "\n",
    "What about his wife, I think she would have survived. (#3)"
   ]
  },
  {
   "cell_type": "code",
   "execution_count": 78,
   "metadata": {},
   "outputs": [
    {
     "data": {
      "text/plain": [
       "array([[0.11452918, 0.88547082]])"
      ]
     },
     "execution_count": 78,
     "metadata": {},
     "output_type": "execute_result"
    }
   ],
   "source": [
    "clf.predict_proba(encoder.transform([(2, 'female', 40, 1, 1)]))"
   ]
  },
  {
   "cell_type": "markdown",
   "metadata": {},
   "source": [
    "The model predicts she survived.\n",
    "\n",
    "Let's look at someone from 3rd class. A man in his 40s with wife and children, I doubt he'd survive..."
   ]
  },
  {
   "cell_type": "code",
   "execution_count": 79,
   "metadata": {},
   "outputs": [
    {
     "data": {
      "text/plain": [
       "array([[0.76951351, 0.23048649]])"
      ]
     },
     "execution_count": 79,
     "metadata": {},
     "output_type": "execute_result"
    }
   ],
   "source": [
    "clf.predict_proba(encoder.transform([(3, 'male', 40, 1, 1)]))"
   ]
  },
  {
   "cell_type": "markdown",
   "metadata": {},
   "source": [
    "Unfortunately, he was even less likely to survive. What about *his* wife, she might have survived?"
   ]
  },
  {
   "cell_type": "code",
   "execution_count": 80,
   "metadata": {},
   "outputs": [
    {
     "data": {
      "text/plain": [
       "array([[0.19795863, 0.80204137]])"
      ]
     },
     "execution_count": 80,
     "metadata": {},
     "output_type": "execute_result"
    }
   ],
   "source": [
    "clf.predict_proba(encoder.transform([(3, 'female', 30, 1, 1)]))"
   ]
  },
  {
   "cell_type": "markdown",
   "metadata": {},
   "source": [
    "She most likely survived."
   ]
  },
  {
   "cell_type": "markdown",
   "metadata": {},
   "source": [
    "<div style=\"background: lemonchiffon; margin:20px; padding: 20px;\">\n",
    "    <strong>Note</strong>\n",
    "    <p>There were any number of ways you could have done this. It might have been more interesting to pick specific passengers, predict their survival and see if they actually survived (remembering that it is probabilistic).</p>\n",
    "    <p>We'll talk a lot more about modeling in the future, especially the use of training and test sets</p>\n",
    "    <p>If this took you a while, you're not alone. Data is hard and time consuming. Sorry.</p>\n",
    "</div>\n"
   ]
  }
 ],
 "metadata": {
  "colab": {
   "include_colab_link": true,
   "name": "Lab 2.ipynb",
   "provenance": []
  },
  "kernelspec": {
   "display_name": "Python (en685648)",
   "language": "python",
   "name": "en685648"
  },
  "language_info": {
   "codemirror_mode": {
    "name": "ipython",
    "version": 3
   },
   "file_extension": ".py",
   "mimetype": "text/x-python",
   "name": "python",
   "nbconvert_exporter": "python",
   "pygments_lexer": "ipython3",
   "version": "3.8.2"
  },
  "toc": {
   "colors": {
    "hover_highlight": "#DAA520",
    "navigate_num": "#000000",
    "navigate_text": "#333333",
    "running_highlight": "#FF0000",
    "selected_highlight": "#FFD700",
    "sidebar_border": "#EEEEEE",
    "wrapper_background": "#FFFFFF"
   },
   "moveMenuLeft": true,
   "nav_menu": {
    "height": "207px",
    "width": "252px"
   },
   "navigate_menu": true,
   "number_sections": true,
   "sideBar": true,
   "threshold": 4,
   "toc_cell": false,
   "toc_section_display": "block",
   "toc_window_display": false,
   "widenNotebook": false
  }
 },
 "nbformat": 4,
 "nbformat_minor": 4
}
