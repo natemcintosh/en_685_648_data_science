{
 "cells": [
  {
   "cell_type": "markdown",
   "metadata": {
    "colab_type": "text",
    "id": "view-in-github"
   },
   "source": [
    "<a href=\"https://colab.research.google.com/github/fundamentals-of-data-science/course-materials/blob/master/problem_sets/Problem_Set_1.ipynb\" target=\"_parent\"><img src=\"https://colab.research.google.com/assets/colab-badge.svg\" alt=\"Open In Colab\"/></a>"
   ]
  },
  {
   "cell_type": "code",
   "execution_count": 1,
   "metadata": {
    "colab": {},
    "colab_type": "code",
    "id": "jkhwYmUFwHNf"
   },
   "outputs": [],
   "source": [
    "%matplotlib inline"
   ]
  },
  {
   "cell_type": "markdown",
   "metadata": {
    "colab_type": "text",
    "id": "NA-BZyvtwHNr"
   },
   "source": [
    "# Problem Set 1\n",
    "\n",
    "## Directions\n",
    "\n",
    "1. Show all work/steps/calculations using a combination of code and Markdown. You will submit only this notebook named: [jhed_id].ipynb back to Blackboard from whence you downloaded it.\n",
    "2. **All** work is to be your own. This is not a group project. You may, however, use code from the lectures and labs. Provide citations for any code that is not your own. You may also consult Stackoverflow, etc. This is not by any means \"closed book\" or anything like that. Basically, I need to see if *you* learned the concepts from the Lectures, *Fundamentals*, and Labs.\n",
    "3. Add whatever markdown or code cells you need in each part to explain and calculate your answers. Don't just provide answers but explain them as well. **Explain and interpret your results.**\n",
    "\n",
    "**Do not delete or otherwise change the formatting, order, text of the questions**"
   ]
  },
  {
   "cell_type": "markdown",
   "metadata": {
    "colab_type": "text",
    "id": "-3khLTclwHOJ"
   },
   "source": [
    "---\n",
    "---\n",
    "## Question 1 - Bayes Rule"
   ]
  },
  {
   "cell_type": "markdown",
   "metadata": {},
   "source": [
    "**Part 1**\n",
    "\n",
    "$$P(H|D) = \\frac{P(D|H)P(H)}{P(D)}$$\n",
    "\n",
    "If we let H be some condition, characteristic, hypothesis and D be some data, evidence, a test result), then how do we interpret each of the following in Bayes Rule: $P(H)$, $P(D)$, $P(H|D)$, $P(D|H)$, $P(H, D)$?\n"
   ]
  },
  {
   "cell_type": "markdown",
   "metadata": {},
   "source": [
    " - **$P(H)$**: The \"prior\" distribution. This is what we believe about the probabilities of events/distribution\n",
    " - **$P(D)$**: The probability of the data\n",
    " - **$P(H|D)$**: The \"posterior distribution\". How likely a particular hypothesis is after receiving new data\n",
    " - **$P(D|H)$**: The probability of some data given the hypothesis; also called the \"likelihood\"\n",
    " - **$P(H,D)$**: The probability of a hypothesis *and* an outcome"
   ]
  },
  {
   "cell_type": "markdown",
   "metadata": {
    "colab_type": "text",
    "id": "-3khLTclwHOJ"
   },
   "source": [
    "---\n",
    "**Part 2.** \n",
    "\n",
    "There is a genetic condition that affects 2.3% of the population, C = {c, ~c}. If someone has the condition, the test (T) can detect that fact accurately 72.1% of the time (true positive rate). However, the test (T) also returns a positive response in 20.3% of the cases where the someone does not have the condition (false positive rate), T={pos, neg}.\n",
    "\n",
    "**DO NOT CHANGE THE NOTATION**\n",
    "\n",
    "1. If we want to know `P(C|T)`, write out Bayes Rule for this problem:"
   ]
  },
  {
   "cell_type": "markdown",
   "metadata": {
    "colab_type": "text",
    "id": "owZdvNSqwHOL"
   },
   "source": [
    "$$P(C|T) = \\frac{P(T|C) * P(C)}{P(T)}$$"
   ]
  },
  {
   "cell_type": "markdown",
   "metadata": {
    "colab_type": "text",
    "id": "8xObVZNzwHOO"
   },
   "source": [
    "2. Using the values supplied in the description of the problem, specify all priors and likelihoods for the version of Bayes Rule you just wrote out. Calculating the missing values."
   ]
  },
  {
   "cell_type": "markdown",
   "metadata": {
    "colab_type": "text",
    "id": "Cfx0CZh6wHOQ"
   },
   "source": [
    "The priors are $P(C)$, and the likelihoods are $P(T|C)$. Let's create a table of our knowledge so far"
   ]
  },
  {
   "cell_type": "markdown",
   "metadata": {},
   "source": [
    "|       | $c$  |$\\neg c$|$P(T)$|\n",
    "|----:  |:----:|:-----: |----  |\n",
    "| $pos$ | |  ||\n",
    "| $neg$ | |  ||\n",
    "|$P(C)$ | 0.023| 0.977  |   |"
   ]
  },
  {
   "cell_type": "markdown",
   "metadata": {},
   "source": [
    "$$\n",
    "\\begin{aligned}\n",
    "P(pos|c) &= 0.721 \\\\\n",
    "&= \\frac{P(pos,c)}{P(c)} \\\\\n",
    "P(pos,c) &= (0.721)(0.023) \\\\\n",
    "P(pos,c) &= 0.016583\n",
    "\\end{aligned}\n",
    "$$\n",
    "\n",
    "And\n",
    "$$\n",
    "\\begin{aligned}\n",
    "P(pos|\\neg c) &= 0.203 \\\\\n",
    "&= \\frac{P(pos,\\neg c)}{P(\\neg c)} \\\\\n",
    "P(pos,\\neg c) &= (0.203)(0.977) \\\\\n",
    "P(pos,\\neg c) &= 0.198331\n",
    "\\end{aligned}\n",
    "$$"
   ]
  },
  {
   "cell_type": "code",
   "execution_count": 2,
   "metadata": {},
   "outputs": [],
   "source": [
    "import numpy as np"
   ]
  },
  {
   "cell_type": "code",
   "execution_count": 3,
   "metadata": {},
   "outputs": [
    {
     "data": {
      "text/plain": [
       "array([0.023, 0.977])"
      ]
     },
     "execution_count": 3,
     "metadata": {},
     "output_type": "execute_result"
    }
   ],
   "source": [
    "c = 0.023\n",
    "pC = np.array([c, 1 - c])\n",
    "pC"
   ]
  },
  {
   "cell_type": "markdown",
   "metadata": {},
   "source": [
    "$$ \\fbox{$P(C) = \\begin{bmatrix}c & \\neg c\\end{bmatrix} = \\begin{bmatrix}0.023 & 0.977\\end{bmatrix}$} $$"
   ]
  },
  {
   "cell_type": "code",
   "execution_count": 4,
   "metadata": {},
   "outputs": [
    {
     "data": {
      "text/plain": [
       "array([0.016583, 0.198331])"
      ]
     },
     "execution_count": 4,
     "metadata": {},
     "output_type": "execute_result"
    }
   ],
   "source": [
    "ppos_given_c = 0.721\n",
    "ppos_given_notc = 0.203\n",
    "pCpos = np.array([ppos_given_c, ppos_given_notc]) * pC\n",
    "pCpos"
   ]
  },
  {
   "cell_type": "code",
   "execution_count": 5,
   "metadata": {},
   "outputs": [
    {
     "data": {
      "text/plain": [
       "array([0.006417, 0.778669])"
      ]
     },
     "execution_count": 5,
     "metadata": {},
     "output_type": "execute_result"
    }
   ],
   "source": [
    "pCneg = pC - pCpos\n",
    "pCneg"
   ]
  },
  {
   "cell_type": "markdown",
   "metadata": {},
   "source": [
    "This gives us our final $P(C,T)$"
   ]
  },
  {
   "cell_type": "code",
   "execution_count": 6,
   "metadata": {},
   "outputs": [
    {
     "data": {
      "text/plain": [
       "array([[0.016583, 0.198331],\n",
       "       [0.006417, 0.778669]])"
      ]
     },
     "execution_count": 6,
     "metadata": {},
     "output_type": "execute_result"
    }
   ],
   "source": [
    "pCT = np.vstack((pCpos, pCneg))\n",
    "pCT"
   ]
  },
  {
   "cell_type": "code",
   "execution_count": 7,
   "metadata": {},
   "outputs": [],
   "source": [
    "from tabulate import tabulate"
   ]
  },
  {
   "cell_type": "code",
   "execution_count": 8,
   "metadata": {},
   "outputs": [
    {
     "data": {
      "text/html": [
       "<table>\n",
       "<tbody>\n",
       "<tr><td style=\"text-align: right;\">0.017</td><td style=\"text-align: right;\">0.198</td></tr>\n",
       "<tr><td style=\"text-align: right;\">0.006</td><td style=\"text-align: right;\">0.779</td></tr>\n",
       "</tbody>\n",
       "</table>"
      ],
      "text/plain": [
       "'<table>\\n<tbody>\\n<tr><td style=\"text-align: right;\">0.017</td><td style=\"text-align: right;\">0.198</td></tr>\\n<tr><td style=\"text-align: right;\">0.006</td><td style=\"text-align: right;\">0.779</td></tr>\\n</tbody>\\n</table>'"
      ]
     },
     "execution_count": 8,
     "metadata": {},
     "output_type": "execute_result"
    }
   ],
   "source": [
    "tabulate(pCT, tablefmt=\"html\", floatfmt=\".3f\")"
   ]
  },
  {
   "cell_type": "markdown",
   "metadata": {},
   "source": [
    "And also $P(T)$"
   ]
  },
  {
   "cell_type": "code",
   "execution_count": 9,
   "metadata": {},
   "outputs": [
    {
     "data": {
      "text/plain": [
       "array([0.214914, 0.785086])"
      ]
     },
     "execution_count": 9,
     "metadata": {},
     "output_type": "execute_result"
    }
   ],
   "source": [
    "pT = np.sum(pCT, axis=1)\n",
    "pT"
   ]
  },
  {
   "cell_type": "markdown",
   "metadata": {},
   "source": [
    "$$ P(T|C) = \\frac{P(C,T)}{P(C)} $$"
   ]
  },
  {
   "cell_type": "code",
   "execution_count": 10,
   "metadata": {},
   "outputs": [
    {
     "data": {
      "text/html": [
       "<table>\n",
       "<tbody>\n",
       "<tr><td style=\"text-align: right;\">0.721</td><td style=\"text-align: right;\">0.203</td></tr>\n",
       "<tr><td style=\"text-align: right;\">0.279</td><td style=\"text-align: right;\">0.797</td></tr>\n",
       "</tbody>\n",
       "</table>"
      ],
      "text/plain": [
       "'<table>\\n<tbody>\\n<tr><td style=\"text-align: right;\">0.721</td><td style=\"text-align: right;\">0.203</td></tr>\\n<tr><td style=\"text-align: right;\">0.279</td><td style=\"text-align: right;\">0.797</td></tr>\\n</tbody>\\n</table>'"
      ]
     },
     "execution_count": 10,
     "metadata": {},
     "output_type": "execute_result"
    }
   ],
   "source": [
    "pT_given_C = pCT / pC\n",
    "tabulate(pT_given_C, tablefmt=\"html\", floatfmt=\"0.3f\")"
   ]
  },
  {
   "cell_type": "markdown",
   "metadata": {},
   "source": [
    "With $C$ being the columns and $T$ being the rows\n",
    "$$ \\fbox{$P(T|C) = \\begin{bmatrix}\n",
    "0.721 & 0.203 \\\\\n",
    "0.279 & 0.797 \\\\\n",
    "\\end{bmatrix} $} $$"
   ]
  },
  {
   "cell_type": "markdown",
   "metadata": {
    "colab_type": "text",
    "id": "85X9P6OBwHOR"
   },
   "source": [
    "---\n",
    "3. Calculate `P(C|T)`."
   ]
  },
  {
   "cell_type": "markdown",
   "metadata": {
    "colab_type": "text",
    "id": "-393PSMCwHOT"
   },
   "source": [
    "As shown above\n",
    "$$\n",
    "\\begin{aligned}\n",
    "P(C|T) &= \\frac{P(T|C) * P(C)}{P(T)} \\\\\n",
    "&= \\frac{\\begin{bmatrix}\n",
    "0.721 & 0.203 \\\\\n",
    "0.279 & 0.797 \\\\\n",
    "\\end{bmatrix} \\begin{bmatrix}0.023 & 0.977\\end{bmatrix}}{\\begin{bmatrix}0.214914 & 0.785086\\end{bmatrix}}\n",
    "\\end{aligned}\n",
    "$$"
   ]
  },
  {
   "cell_type": "code",
   "execution_count": 11,
   "metadata": {},
   "outputs": [
    {
     "data": {
      "text/html": [
       "<table>\n",
       "<tbody>\n",
       "<tr><td style=\"text-align: right;\">0.077</td><td style=\"text-align: right;\">0.253</td></tr>\n",
       "<tr><td style=\"text-align: right;\">0.030</td><td style=\"text-align: right;\">0.992</td></tr>\n",
       "</tbody>\n",
       "</table>"
      ],
      "text/plain": [
       "'<table>\\n<tbody>\\n<tr><td style=\"text-align: right;\">0.077</td><td style=\"text-align: right;\">0.253</td></tr>\\n<tr><td style=\"text-align: right;\">0.030</td><td style=\"text-align: right;\">0.992</td></tr>\\n</tbody>\\n</table>'"
      ]
     },
     "execution_count": 11,
     "metadata": {},
     "output_type": "execute_result"
    }
   ],
   "source": [
    "pC_given_T = pT_given_C * pC / pT\n",
    "tabulate(pC_given_T, tablefmt=\"html\", floatfmt=\"0.3f\")"
   ]
  },
  {
   "cell_type": "markdown",
   "metadata": {},
   "source": [
    "$$ \\fbox{$\\begin{aligned}\n",
    "P(C|T) &= \\begin{bmatrix}\n",
    "0.077 & 0.253 \\\\\n",
    "0.030 & 0.992 \\\\\n",
    "\\end{bmatrix}\n",
    "\\end{aligned}$} $$"
   ]
  },
  {
   "cell_type": "markdown",
   "metadata": {},
   "source": [
    "---\n",
    "4. Please explain each individual probability in words and the difference between the prior and the posterior and the reason for the difference."
   ]
  },
  {
   "cell_type": "markdown",
   "metadata": {},
   "source": [
    " - **$P(C)$**: The \"prior\" distribution. In this case, the prior is what we believe is the underlying rate of the genetic condition in the general population\n",
    " - **$P(T)$**: The probability of the data. In this case, it is the probability of getting a positive or negative test result\n",
    " - **$P(C|T)$**: The \"posterior distribution\". In this case, this is our updated belief on the underlying rate of the condition based on the result of a test. Unless we are only starting to collect data on the genetic condition, the update to our belief of the rate is unlikely to change much from the result of a single test.\n",
    " - **$P(T|C)$**: The \"likelihood\". In this case, this is the probability the test returns a given result, given that someone either has or does not have the condition.\n",
    " - **$P(C,T)$**: In this case, this is the probability of a given test result *and* having or not having the condition\n",
    " \n",
    "In this case, the numerical difference between the prior and the posterior is unlikely to be large for a single test. If many tests were conducted at once, and a new posterior calculated based off of that, a larger numerical difference might be seen. "
   ]
  },
  {
   "cell_type": "markdown",
   "metadata": {
    "colab_type": "text",
    "id": "0HDtAIq6wHOU"
   },
   "source": [
    "---\n",
    "**Part 3.** \n",
    "\n",
    "Re-calculate #2-4 (including discussion) but assume a new test has a true positive rate is 97.3% but the false positive rate is 37.2%.\n"
   ]
  },
  {
   "cell_type": "markdown",
   "metadata": {},
   "source": [
    "**The priors, $P(C)$, will not change when we change the test**. The likelihoods however, will change. "
   ]
  },
  {
   "cell_type": "code",
   "execution_count": 12,
   "metadata": {
    "colab_type": "text",
    "id": "zRhUel7gwHOV"
   },
   "outputs": [
    {
     "data": {
      "text/plain": [
       "array([0.022379, 0.363444])"
      ]
     },
     "execution_count": 12,
     "metadata": {},
     "output_type": "execute_result"
    }
   ],
   "source": [
    "ppos_given_c = 0.973\n",
    "ppos_given_notc = 0.372\n",
    "pCpos = np.array([ppos_given_c, ppos_given_notc]) * pC\n",
    "pCpos"
   ]
  },
  {
   "cell_type": "code",
   "execution_count": 13,
   "metadata": {},
   "outputs": [
    {
     "data": {
      "text/plain": [
       "array([0.000621, 0.613556])"
      ]
     },
     "execution_count": 13,
     "metadata": {},
     "output_type": "execute_result"
    }
   ],
   "source": [
    "pCneg = pC - pCpos\n",
    "pCneg"
   ]
  },
  {
   "cell_type": "code",
   "execution_count": 14,
   "metadata": {},
   "outputs": [
    {
     "data": {
      "text/plain": [
       "array([[0.022379, 0.363444],\n",
       "       [0.000621, 0.613556]])"
      ]
     },
     "execution_count": 14,
     "metadata": {},
     "output_type": "execute_result"
    }
   ],
   "source": [
    "pCT = np.vstack((pCpos, pCneg))\n",
    "pCT"
   ]
  },
  {
   "cell_type": "code",
   "execution_count": 15,
   "metadata": {},
   "outputs": [
    {
     "data": {
      "text/plain": [
       "array([[0.973, 0.372],\n",
       "       [0.027, 0.628]])"
      ]
     },
     "execution_count": 15,
     "metadata": {},
     "output_type": "execute_result"
    }
   ],
   "source": [
    "pT_given_C = pCT / pC\n",
    "pT_given_C"
   ]
  },
  {
   "cell_type": "markdown",
   "metadata": {},
   "source": [
    "Where $C$ is the columns, and $T$ is the rows\n",
    "$$ \\fbox{$P(T|C) = \\begin{bmatrix} 0.973 & 0.372 \\\\ 0.027 & 0.628 \\end{bmatrix}$} $$"
   ]
  },
  {
   "cell_type": "markdown",
   "metadata": {},
   "source": [
    "Now to calculate\n",
    "$$ P(C|T) = \\frac{P(T|C)P(C)}{P(T)} $$"
   ]
  },
  {
   "cell_type": "code",
   "execution_count": 16,
   "metadata": {},
   "outputs": [
    {
     "data": {
      "text/plain": [
       "array([[0.10413002, 0.46293527],\n",
       "       [0.00288953, 0.78151438]])"
      ]
     },
     "execution_count": 16,
     "metadata": {},
     "output_type": "execute_result"
    }
   ],
   "source": [
    "pC_given_T = pT_given_C * pC / pT\n",
    "pC_given_T"
   ]
  },
  {
   "cell_type": "markdown",
   "metadata": {},
   "source": [
    "$$ \\fbox{$P(C|T) = \\begin{bmatrix} 0.10413002 & 0.46293527 \\\\ 0.00288953 & 0.78151438 \\end{bmatrix}$} $$"
   ]
  },
  {
   "cell_type": "markdown",
   "metadata": {},
   "source": [
    " - **$P(C)$**: The \"prior\" distribution. In this case, the prior is what we believe is the underlying rate of the genetic condition in the general population. It did not change when we changed the medical test. \n",
    " - **$P(T|C)$**: The \"likelihood\". Because we changed the test, the likelihoods have changed. We are told that the test has a true positive rate of 97.3%, and a false positive rate of 37.2%. In turn, this means that the test incorrectly returns a negative 2.7% of the time, and a correct negative 62.8% of the time. \n",
    " - **$P(C,T)$**: In this case, this is the probability of a given test result *and* having or not having the condition"
   ]
  },
  {
   "cell_type": "markdown",
   "metadata": {},
   "source": [
    "---\n",
    "---\n",
    "## Question 2 - 1994 Adult Census Data - Empirical Probability\n",
    "\n",
    "For this question, you will answer queries in conditional probability as was done with the Titanic Data.\n",
    "Because we have not had Exploratory Data Analysis yet, we will not ask you to explore the data \"in general\".\n",
    "Instead, *for each calculation, you should examine the variables involved individually, looking to see if they have missing values, what their values look like (most of the data is categorical), and to see if any transformations are in order.*\n",
    "\n",
    "You may use code from the Titanic Case Study as you see fit. Add any other imports you need.\n",
    "\n",
    "To reiterate, for each calculation:\n",
    "\n",
    "1. Look at the values and counts/percentages for each variable (unless it's been done before). That is, look at the marginal probabilities.\n",
    "2. Before each calculation, write down a hypothesis about what you expect to see. For example, if you are about to calculate a conditional probability distribution, what do you expect the distribution to look like?\n",
    "3. Make the calculation.\n",
    "4. Discuss what the results show, relative to your hypothesis."
   ]
  },
  {
   "cell_type": "code",
   "execution_count": 17,
   "metadata": {},
   "outputs": [],
   "source": [
    "import pandas as pd\n",
    "from pandasql import sqldf\n",
    "import seaborn as sns\n",
    "import matplotlib.pyplot as plt"
   ]
  },
  {
   "cell_type": "markdown",
   "metadata": {},
   "source": [
    "Load the data:"
   ]
  },
  {
   "cell_type": "code",
   "execution_count": 18,
   "metadata": {},
   "outputs": [],
   "source": [
    "income = pd.read_csv('http://archive.ics.uci.edu/ml/machine-learning-databases/adult/adult.data', \n",
    "                     header=None, \n",
    "                     error_bad_lines=False)"
   ]
  },
  {
   "cell_type": "markdown",
   "metadata": {},
   "source": [
    "The data doesn't come with any headers or other information:"
   ]
  },
  {
   "cell_type": "code",
   "execution_count": 19,
   "metadata": {},
   "outputs": [
    {
     "name": "stdout",
     "output_type": "stream",
     "text": [
      "<class 'pandas.core.frame.DataFrame'>\n",
      "RangeIndex: 32561 entries, 0 to 32560\n",
      "Data columns (total 15 columns):\n",
      " #   Column  Non-Null Count  Dtype \n",
      "---  ------  --------------  ----- \n",
      " 0   0       32561 non-null  int64 \n",
      " 1   1       32561 non-null  object\n",
      " 2   2       32561 non-null  int64 \n",
      " 3   3       32561 non-null  object\n",
      " 4   4       32561 non-null  int64 \n",
      " 5   5       32561 non-null  object\n",
      " 6   6       32561 non-null  object\n",
      " 7   7       32561 non-null  object\n",
      " 8   8       32561 non-null  object\n",
      " 9   9       32561 non-null  object\n",
      " 10  10      32561 non-null  int64 \n",
      " 11  11      32561 non-null  int64 \n",
      " 12  12      32561 non-null  int64 \n",
      " 13  13      32561 non-null  object\n",
      " 14  14      32561 non-null  object\n",
      "dtypes: int64(6), object(9)\n",
      "memory usage: 20.2 MB\n"
     ]
    }
   ],
   "source": [
    "income.info(memory_usage='deep')"
   ]
  },
  {
   "cell_type": "markdown",
   "metadata": {},
   "source": [
    "Looking at the first rows, we can get a general idea of the data:"
   ]
  },
  {
   "cell_type": "code",
   "execution_count": 20,
   "metadata": {},
   "outputs": [
    {
     "data": {
      "text/html": [
       "<div>\n",
       "<style scoped>\n",
       "    .dataframe tbody tr th:only-of-type {\n",
       "        vertical-align: middle;\n",
       "    }\n",
       "\n",
       "    .dataframe tbody tr th {\n",
       "        vertical-align: top;\n",
       "    }\n",
       "\n",
       "    .dataframe thead th {\n",
       "        text-align: right;\n",
       "    }\n",
       "</style>\n",
       "<table border=\"1\" class=\"dataframe\">\n",
       "  <thead>\n",
       "    <tr style=\"text-align: right;\">\n",
       "      <th></th>\n",
       "      <th>0</th>\n",
       "      <th>1</th>\n",
       "      <th>2</th>\n",
       "      <th>3</th>\n",
       "      <th>4</th>\n",
       "      <th>5</th>\n",
       "      <th>6</th>\n",
       "      <th>7</th>\n",
       "      <th>8</th>\n",
       "      <th>9</th>\n",
       "      <th>10</th>\n",
       "      <th>11</th>\n",
       "      <th>12</th>\n",
       "      <th>13</th>\n",
       "      <th>14</th>\n",
       "    </tr>\n",
       "  </thead>\n",
       "  <tbody>\n",
       "    <tr>\n",
       "      <th>0</th>\n",
       "      <td>39</td>\n",
       "      <td>State-gov</td>\n",
       "      <td>77516</td>\n",
       "      <td>Bachelors</td>\n",
       "      <td>13</td>\n",
       "      <td>Never-married</td>\n",
       "      <td>Adm-clerical</td>\n",
       "      <td>Not-in-family</td>\n",
       "      <td>White</td>\n",
       "      <td>Male</td>\n",
       "      <td>2174</td>\n",
       "      <td>0</td>\n",
       "      <td>40</td>\n",
       "      <td>United-States</td>\n",
       "      <td>&lt;=50K</td>\n",
       "    </tr>\n",
       "    <tr>\n",
       "      <th>1</th>\n",
       "      <td>50</td>\n",
       "      <td>Self-emp-not-inc</td>\n",
       "      <td>83311</td>\n",
       "      <td>Bachelors</td>\n",
       "      <td>13</td>\n",
       "      <td>Married-civ-spouse</td>\n",
       "      <td>Exec-managerial</td>\n",
       "      <td>Husband</td>\n",
       "      <td>White</td>\n",
       "      <td>Male</td>\n",
       "      <td>0</td>\n",
       "      <td>0</td>\n",
       "      <td>13</td>\n",
       "      <td>United-States</td>\n",
       "      <td>&lt;=50K</td>\n",
       "    </tr>\n",
       "    <tr>\n",
       "      <th>2</th>\n",
       "      <td>38</td>\n",
       "      <td>Private</td>\n",
       "      <td>215646</td>\n",
       "      <td>HS-grad</td>\n",
       "      <td>9</td>\n",
       "      <td>Divorced</td>\n",
       "      <td>Handlers-cleaners</td>\n",
       "      <td>Not-in-family</td>\n",
       "      <td>White</td>\n",
       "      <td>Male</td>\n",
       "      <td>0</td>\n",
       "      <td>0</td>\n",
       "      <td>40</td>\n",
       "      <td>United-States</td>\n",
       "      <td>&lt;=50K</td>\n",
       "    </tr>\n",
       "    <tr>\n",
       "      <th>3</th>\n",
       "      <td>53</td>\n",
       "      <td>Private</td>\n",
       "      <td>234721</td>\n",
       "      <td>11th</td>\n",
       "      <td>7</td>\n",
       "      <td>Married-civ-spouse</td>\n",
       "      <td>Handlers-cleaners</td>\n",
       "      <td>Husband</td>\n",
       "      <td>Black</td>\n",
       "      <td>Male</td>\n",
       "      <td>0</td>\n",
       "      <td>0</td>\n",
       "      <td>40</td>\n",
       "      <td>United-States</td>\n",
       "      <td>&lt;=50K</td>\n",
       "    </tr>\n",
       "    <tr>\n",
       "      <th>4</th>\n",
       "      <td>28</td>\n",
       "      <td>Private</td>\n",
       "      <td>338409</td>\n",
       "      <td>Bachelors</td>\n",
       "      <td>13</td>\n",
       "      <td>Married-civ-spouse</td>\n",
       "      <td>Prof-specialty</td>\n",
       "      <td>Wife</td>\n",
       "      <td>Black</td>\n",
       "      <td>Female</td>\n",
       "      <td>0</td>\n",
       "      <td>0</td>\n",
       "      <td>40</td>\n",
       "      <td>Cuba</td>\n",
       "      <td>&lt;=50K</td>\n",
       "    </tr>\n",
       "  </tbody>\n",
       "</table>\n",
       "</div>"
      ],
      "text/plain": [
       "   0                  1       2           3   4                    5   \\\n",
       "0  39          State-gov   77516   Bachelors  13        Never-married   \n",
       "1  50   Self-emp-not-inc   83311   Bachelors  13   Married-civ-spouse   \n",
       "2  38            Private  215646     HS-grad   9             Divorced   \n",
       "3  53            Private  234721        11th   7   Married-civ-spouse   \n",
       "4  28            Private  338409   Bachelors  13   Married-civ-spouse   \n",
       "\n",
       "                   6               7       8        9     10  11  12  \\\n",
       "0        Adm-clerical   Not-in-family   White     Male  2174   0  40   \n",
       "1     Exec-managerial         Husband   White     Male     0   0  13   \n",
       "2   Handlers-cleaners   Not-in-family   White     Male     0   0  40   \n",
       "3   Handlers-cleaners         Husband   Black     Male     0   0  40   \n",
       "4      Prof-specialty            Wife   Black   Female     0   0  40   \n",
       "\n",
       "               13      14  \n",
       "0   United-States   <=50K  \n",
       "1   United-States   <=50K  \n",
       "2   United-States   <=50K  \n",
       "3   United-States   <=50K  \n",
       "4            Cuba   <=50K  "
      ]
     },
     "execution_count": 20,
     "metadata": {},
     "output_type": "execute_result"
    }
   ],
   "source": [
    "income.head()"
   ]
  },
  {
   "cell_type": "markdown",
   "metadata": {},
   "source": [
    "Let's add some column headers:"
   ]
  },
  {
   "cell_type": "code",
   "execution_count": 21,
   "metadata": {},
   "outputs": [],
   "source": [
    "columns = [\"age\", \"class\", \"fnlwght\", \"education\", \"education_years\", \"marital_status\", \"occupation\", \"relationship\", \"race\", \"sex\", \"capital_gain\", \"capital_loss\", \"hours_per_week\", \"native_country\", \"agi\"]"
   ]
  },
  {
   "cell_type": "code",
   "execution_count": 22,
   "metadata": {},
   "outputs": [],
   "source": [
    "income.columns = columns"
   ]
  },
  {
   "cell_type": "code",
   "execution_count": 23,
   "metadata": {},
   "outputs": [
    {
     "data": {
      "text/html": [
       "<div>\n",
       "<style scoped>\n",
       "    .dataframe tbody tr th:only-of-type {\n",
       "        vertical-align: middle;\n",
       "    }\n",
       "\n",
       "    .dataframe tbody tr th {\n",
       "        vertical-align: top;\n",
       "    }\n",
       "\n",
       "    .dataframe thead th {\n",
       "        text-align: right;\n",
       "    }\n",
       "</style>\n",
       "<table border=\"1\" class=\"dataframe\">\n",
       "  <thead>\n",
       "    <tr style=\"text-align: right;\">\n",
       "      <th></th>\n",
       "      <th>age</th>\n",
       "      <th>class</th>\n",
       "      <th>fnlwght</th>\n",
       "      <th>education</th>\n",
       "      <th>education_years</th>\n",
       "      <th>marital_status</th>\n",
       "      <th>occupation</th>\n",
       "      <th>relationship</th>\n",
       "      <th>race</th>\n",
       "      <th>sex</th>\n",
       "      <th>capital_gain</th>\n",
       "      <th>capital_loss</th>\n",
       "      <th>hours_per_week</th>\n",
       "      <th>native_country</th>\n",
       "      <th>agi</th>\n",
       "    </tr>\n",
       "  </thead>\n",
       "  <tbody>\n",
       "    <tr>\n",
       "      <th>0</th>\n",
       "      <td>39</td>\n",
       "      <td>State-gov</td>\n",
       "      <td>77516</td>\n",
       "      <td>Bachelors</td>\n",
       "      <td>13</td>\n",
       "      <td>Never-married</td>\n",
       "      <td>Adm-clerical</td>\n",
       "      <td>Not-in-family</td>\n",
       "      <td>White</td>\n",
       "      <td>Male</td>\n",
       "      <td>2174</td>\n",
       "      <td>0</td>\n",
       "      <td>40</td>\n",
       "      <td>United-States</td>\n",
       "      <td>&lt;=50K</td>\n",
       "    </tr>\n",
       "    <tr>\n",
       "      <th>1</th>\n",
       "      <td>50</td>\n",
       "      <td>Self-emp-not-inc</td>\n",
       "      <td>83311</td>\n",
       "      <td>Bachelors</td>\n",
       "      <td>13</td>\n",
       "      <td>Married-civ-spouse</td>\n",
       "      <td>Exec-managerial</td>\n",
       "      <td>Husband</td>\n",
       "      <td>White</td>\n",
       "      <td>Male</td>\n",
       "      <td>0</td>\n",
       "      <td>0</td>\n",
       "      <td>13</td>\n",
       "      <td>United-States</td>\n",
       "      <td>&lt;=50K</td>\n",
       "    </tr>\n",
       "    <tr>\n",
       "      <th>2</th>\n",
       "      <td>38</td>\n",
       "      <td>Private</td>\n",
       "      <td>215646</td>\n",
       "      <td>HS-grad</td>\n",
       "      <td>9</td>\n",
       "      <td>Divorced</td>\n",
       "      <td>Handlers-cleaners</td>\n",
       "      <td>Not-in-family</td>\n",
       "      <td>White</td>\n",
       "      <td>Male</td>\n",
       "      <td>0</td>\n",
       "      <td>0</td>\n",
       "      <td>40</td>\n",
       "      <td>United-States</td>\n",
       "      <td>&lt;=50K</td>\n",
       "    </tr>\n",
       "    <tr>\n",
       "      <th>3</th>\n",
       "      <td>53</td>\n",
       "      <td>Private</td>\n",
       "      <td>234721</td>\n",
       "      <td>11th</td>\n",
       "      <td>7</td>\n",
       "      <td>Married-civ-spouse</td>\n",
       "      <td>Handlers-cleaners</td>\n",
       "      <td>Husband</td>\n",
       "      <td>Black</td>\n",
       "      <td>Male</td>\n",
       "      <td>0</td>\n",
       "      <td>0</td>\n",
       "      <td>40</td>\n",
       "      <td>United-States</td>\n",
       "      <td>&lt;=50K</td>\n",
       "    </tr>\n",
       "    <tr>\n",
       "      <th>4</th>\n",
       "      <td>28</td>\n",
       "      <td>Private</td>\n",
       "      <td>338409</td>\n",
       "      <td>Bachelors</td>\n",
       "      <td>13</td>\n",
       "      <td>Married-civ-spouse</td>\n",
       "      <td>Prof-specialty</td>\n",
       "      <td>Wife</td>\n",
       "      <td>Black</td>\n",
       "      <td>Female</td>\n",
       "      <td>0</td>\n",
       "      <td>0</td>\n",
       "      <td>40</td>\n",
       "      <td>Cuba</td>\n",
       "      <td>&lt;=50K</td>\n",
       "    </tr>\n",
       "  </tbody>\n",
       "</table>\n",
       "</div>"
      ],
      "text/plain": [
       "   age              class  fnlwght   education  education_years  \\\n",
       "0   39          State-gov    77516   Bachelors               13   \n",
       "1   50   Self-emp-not-inc    83311   Bachelors               13   \n",
       "2   38            Private   215646     HS-grad                9   \n",
       "3   53            Private   234721        11th                7   \n",
       "4   28            Private   338409   Bachelors               13   \n",
       "\n",
       "        marital_status          occupation    relationship    race      sex  \\\n",
       "0        Never-married        Adm-clerical   Not-in-family   White     Male   \n",
       "1   Married-civ-spouse     Exec-managerial         Husband   White     Male   \n",
       "2             Divorced   Handlers-cleaners   Not-in-family   White     Male   \n",
       "3   Married-civ-spouse   Handlers-cleaners         Husband   Black     Male   \n",
       "4   Married-civ-spouse      Prof-specialty            Wife   Black   Female   \n",
       "\n",
       "   capital_gain  capital_loss  hours_per_week  native_country     agi  \n",
       "0          2174             0              40   United-States   <=50K  \n",
       "1             0             0              13   United-States   <=50K  \n",
       "2             0             0              40   United-States   <=50K  \n",
       "3             0             0              40   United-States   <=50K  \n",
       "4             0             0              40            Cuba   <=50K  "
      ]
     },
     "execution_count": 23,
     "metadata": {},
     "output_type": "execute_result"
    }
   ],
   "source": [
    "income.head()"
   ]
  },
  {
   "cell_type": "markdown",
   "metadata": {},
   "source": [
    "## Conditional Probabilities\n",
    "\n",
    "You *will* need more cells for your answer. Add them as you need them. There are already the 3 default cells there for you. You will need more.\n",
    "\n",
    "1. $P(agi|age)$"
   ]
  },
  {
   "cell_type": "markdown",
   "metadata": {},
   "source": [
    "Before an hypothesis is made, an examination of the marginal distributions will be made."
   ]
  },
  {
   "cell_type": "code",
   "execution_count": 24,
   "metadata": {},
   "outputs": [
    {
     "data": {
      "text/plain": [
       "<matplotlib.axes._subplots.AxesSubplot at 0x78d1b85626a0>"
      ]
     },
     "execution_count": 24,
     "metadata": {},
     "output_type": "execute_result"
    },
    {
     "data": {
      "image/png": "[encoded data removed]",
      "text/plain": [
       "<Figure size 432x288 with 1 Axes>"
      ]
     },
     "metadata": {
      "needs_background": "light"
     },
     "output_type": "display_data"
    }
   ],
   "source": [
    "sns.distplot(income.age)"
   ]
  },
  {
   "cell_type": "markdown",
   "metadata": {},
   "source": [
    "From this plot, we can see the general distribution of ages: the youngest starts at 17, with the peak around 35 perhaps. Obviously people are not born at the age of 17 (and the plot hints that there should be a tail of some sort), but rather people under the age of 18 are not included in the census data.\n",
    "\n",
    "Now let's examine the agi distribution"
   ]
  },
  {
   "cell_type": "code",
   "execution_count": 25,
   "metadata": {},
   "outputs": [],
   "source": [
    "agi_dist = income.agi.value_counts().reset_index().rename(columns={\"agi\":\"num_values\", \"index\":\"agi\"})"
   ]
  },
  {
   "cell_type": "code",
   "execution_count": 26,
   "metadata": {},
   "outputs": [
    {
     "data": {
      "text/plain": [
       "<matplotlib.axes._subplots.AxesSubplot at 0x78d19a2b07f0>"
      ]
     },
     "execution_count": 26,
     "metadata": {},
     "output_type": "execute_result"
    },
    {
     "data": {
      "image/png": "[encoded data removed]",
      "text/plain": [
       "<Figure size 432x288 with 1 Axes>"
      ]
     },
     "metadata": {
      "needs_background": "light"
     },
     "output_type": "display_data"
    }
   ],
   "source": [
    "sns.barplot(data = agi_dist, x = \"agi\", y = \"num_values\")"
   ]
  },
  {
   "cell_type": "code",
   "execution_count": 27,
   "metadata": {},
   "outputs": [
    {
     "data": {
      "text/plain": [
       "3.152659099604642"
      ]
     },
     "execution_count": 27,
     "metadata": {},
     "output_type": "execute_result"
    }
   ],
   "source": [
    "agi_dist.num_values.iloc[0] / agi_dist.num_values.iloc[-1]"
   ]
  },
  {
   "cell_type": "markdown",
   "metadata": {},
   "source": [
    "From this plot and calculation, about 3.15 times as many people have an AGI of <= 50k as >50k. Interestingly, this ratio is very close to $\\pi$; coincidence or conspiracy? (Probably coincidence)\n",
    "\n",
    "Before we calculate $P(agi|age)$, an hypothesis should be made. Our hypothesis is that AGI generally starts out below 50k, and increases with age, until retirement, at which point it generally decreases."
   ]
  },
  {
   "cell_type": "code",
   "execution_count": 28,
   "metadata": {},
   "outputs": [
    {
     "data": {
      "text/html": [
       "<div>\n",
       "<style scoped>\n",
       "    .dataframe tbody tr th:only-of-type {\n",
       "        vertical-align: middle;\n",
       "    }\n",
       "\n",
       "    .dataframe tbody tr th {\n",
       "        vertical-align: top;\n",
       "    }\n",
       "\n",
       "    .dataframe thead th {\n",
       "        text-align: right;\n",
       "    }\n",
       "</style>\n",
       "<table border=\"1\" class=\"dataframe\">\n",
       "  <thead>\n",
       "    <tr style=\"text-align: right;\">\n",
       "      <th>agi</th>\n",
       "      <th>&lt;=50K</th>\n",
       "      <th>&gt;50K</th>\n",
       "    </tr>\n",
       "    <tr>\n",
       "      <th>age</th>\n",
       "      <th></th>\n",
       "      <th></th>\n",
       "    </tr>\n",
       "  </thead>\n",
       "  <tbody>\n",
       "    <tr>\n",
       "      <th>17</th>\n",
       "      <td>0.012131</td>\n",
       "      <td>0.000000</td>\n",
       "    </tr>\n",
       "    <tr>\n",
       "      <th>18</th>\n",
       "      <td>0.016891</td>\n",
       "      <td>0.000000</td>\n",
       "    </tr>\n",
       "    <tr>\n",
       "      <th>19</th>\n",
       "      <td>0.021805</td>\n",
       "      <td>0.000061</td>\n",
       "    </tr>\n",
       "    <tr>\n",
       "      <th>20</th>\n",
       "      <td>0.023126</td>\n",
       "      <td>0.000000</td>\n",
       "    </tr>\n",
       "    <tr>\n",
       "      <th>21</th>\n",
       "      <td>0.022020</td>\n",
       "      <td>0.000092</td>\n",
       "    </tr>\n",
       "    <tr>\n",
       "      <th>...</th>\n",
       "      <td>...</td>\n",
       "      <td>...</td>\n",
       "    </tr>\n",
       "    <tr>\n",
       "      <th>85</th>\n",
       "      <td>0.000092</td>\n",
       "      <td>0.000000</td>\n",
       "    </tr>\n",
       "    <tr>\n",
       "      <th>86</th>\n",
       "      <td>0.000031</td>\n",
       "      <td>0.000000</td>\n",
       "    </tr>\n",
       "    <tr>\n",
       "      <th>87</th>\n",
       "      <td>0.000031</td>\n",
       "      <td>0.000000</td>\n",
       "    </tr>\n",
       "    <tr>\n",
       "      <th>88</th>\n",
       "      <td>0.000092</td>\n",
       "      <td>0.000000</td>\n",
       "    </tr>\n",
       "    <tr>\n",
       "      <th>90</th>\n",
       "      <td>0.001075</td>\n",
       "      <td>0.000246</td>\n",
       "    </tr>\n",
       "  </tbody>\n",
       "</table>\n",
       "<p>73 rows × 2 columns</p>\n",
       "</div>"
      ],
      "text/plain": [
       "agi     <=50K      >50K\n",
       "age                    \n",
       "17   0.012131  0.000000\n",
       "18   0.016891  0.000000\n",
       "19   0.021805  0.000061\n",
       "20   0.023126  0.000000\n",
       "21   0.022020  0.000092\n",
       "..        ...       ...\n",
       "85   0.000092  0.000000\n",
       "86   0.000031  0.000000\n",
       "87   0.000031  0.000000\n",
       "88   0.000092  0.000000\n",
       "90   0.001075  0.000246\n",
       "\n",
       "[73 rows x 2 columns]"
      ]
     },
     "execution_count": 28,
     "metadata": {},
     "output_type": "execute_result"
    }
   ],
   "source": [
    "N = len(income)\n",
    "\n",
    "# Calculate the joint probabilities, P(age, agi)\n",
    "agi_and_age = (\n",
    "    income\n",
    "    .groupby(\"agi\") # for each AGI group, do the following\n",
    "    .age # select the age column\n",
    "    .value_counts() # count the number of values of each unique age in that AGI bin\n",
    "    .unstack(\"agi\") # move AGI from the index to be the columns\n",
    "    .fillna(0.0) # fill NaN with 0.0\n",
    "    .div(N) # divide by population size\n",
    ")\n",
    "agi_and_age"
   ]
  },
  {
   "cell_type": "markdown",
   "metadata": {},
   "source": [
    "Now that we have the joint probabilities, let's calculate $P(agi|age) = \\frac{P(agi,age)}{P(age)}$"
   ]
  },
  {
   "cell_type": "code",
   "execution_count": 29,
   "metadata": {},
   "outputs": [
    {
     "data": {
      "text/html": [
       "<div>\n",
       "<style scoped>\n",
       "    .dataframe tbody tr th:only-of-type {\n",
       "        vertical-align: middle;\n",
       "    }\n",
       "\n",
       "    .dataframe tbody tr th {\n",
       "        vertical-align: top;\n",
       "    }\n",
       "\n",
       "    .dataframe thead th {\n",
       "        text-align: right;\n",
       "    }\n",
       "</style>\n",
       "<table border=\"1\" class=\"dataframe\">\n",
       "  <thead>\n",
       "    <tr style=\"text-align: right;\">\n",
       "      <th>agi</th>\n",
       "      <th>&lt;=50K</th>\n",
       "      <th>&gt;50K</th>\n",
       "    </tr>\n",
       "    <tr>\n",
       "      <th>age</th>\n",
       "      <th></th>\n",
       "      <th></th>\n",
       "    </tr>\n",
       "  </thead>\n",
       "  <tbody>\n",
       "    <tr>\n",
       "      <th>17</th>\n",
       "      <td>1.000000</td>\n",
       "      <td>0.000000</td>\n",
       "    </tr>\n",
       "    <tr>\n",
       "      <th>18</th>\n",
       "      <td>1.000000</td>\n",
       "      <td>0.000000</td>\n",
       "    </tr>\n",
       "    <tr>\n",
       "      <th>19</th>\n",
       "      <td>0.997191</td>\n",
       "      <td>0.002809</td>\n",
       "    </tr>\n",
       "    <tr>\n",
       "      <th>20</th>\n",
       "      <td>1.000000</td>\n",
       "      <td>0.000000</td>\n",
       "    </tr>\n",
       "    <tr>\n",
       "      <th>21</th>\n",
       "      <td>0.995833</td>\n",
       "      <td>0.004167</td>\n",
       "    </tr>\n",
       "    <tr>\n",
       "      <th>...</th>\n",
       "      <td>...</td>\n",
       "      <td>...</td>\n",
       "    </tr>\n",
       "    <tr>\n",
       "      <th>85</th>\n",
       "      <td>1.000000</td>\n",
       "      <td>0.000000</td>\n",
       "    </tr>\n",
       "    <tr>\n",
       "      <th>86</th>\n",
       "      <td>1.000000</td>\n",
       "      <td>0.000000</td>\n",
       "    </tr>\n",
       "    <tr>\n",
       "      <th>87</th>\n",
       "      <td>1.000000</td>\n",
       "      <td>0.000000</td>\n",
       "    </tr>\n",
       "    <tr>\n",
       "      <th>88</th>\n",
       "      <td>1.000000</td>\n",
       "      <td>0.000000</td>\n",
       "    </tr>\n",
       "    <tr>\n",
       "      <th>90</th>\n",
       "      <td>0.813953</td>\n",
       "      <td>0.186047</td>\n",
       "    </tr>\n",
       "  </tbody>\n",
       "</table>\n",
       "<p>73 rows × 2 columns</p>\n",
       "</div>"
      ],
      "text/plain": [
       "agi     <=50K      >50K\n",
       "age                    \n",
       "17   1.000000  0.000000\n",
       "18   1.000000  0.000000\n",
       "19   0.997191  0.002809\n",
       "20   1.000000  0.000000\n",
       "21   0.995833  0.004167\n",
       "..        ...       ...\n",
       "85   1.000000  0.000000\n",
       "86   1.000000  0.000000\n",
       "87   1.000000  0.000000\n",
       "88   1.000000  0.000000\n",
       "90   0.813953  0.186047\n",
       "\n",
       "[73 rows x 2 columns]"
      ]
     },
     "execution_count": 29,
     "metadata": {},
     "output_type": "execute_result"
    }
   ],
   "source": [
    "p_age = np.sum(agi_and_age.values, axis=1).reshape((-1,1))\n",
    "p_agi_given_age = agi_and_age / p_age\n",
    "# p_agi_given_age = p_agi_given_age.stack().rename(\"prob\").reset_index()\n",
    "p_agi_given_age"
   ]
  },
  {
   "cell_type": "code",
   "execution_count": 30,
   "metadata": {},
   "outputs": [],
   "source": [
    "# fig, ax = plt.subplots(figsize=(20, 10))\n",
    "# ax = sns.barplot(ax = ax, data = p_agi_given_age, x = \"age\", y = \"prob\", hue = \"agi\")"
   ]
  },
  {
   "cell_type": "code",
   "execution_count": 31,
   "metadata": {},
   "outputs": [
    {
     "data": {
      "text/plain": [
       "<matplotlib.axes._subplots.AxesSubplot at 0x78d19a179790>"
      ]
     },
     "execution_count": 31,
     "metadata": {},
     "output_type": "execute_result"
    },
    {
     "data": {
      "image/png": "[encoded data removed]",
      "text/plain": [
       "<Figure size 1080x720 with 1 Axes>"
      ]
     },
     "metadata": {
      "needs_background": "light"
     },
     "output_type": "display_data"
    }
   ],
   "source": [
    "p_agi_given_age.reset_index().plot.area(x = \"age\", figsize = (15,10))"
   ]
  },
  {
   "cell_type": "markdown",
   "metadata": {},
   "source": [
    "This is somewhat close to the hypothesis: AGI starts out below 50k, and increases with age till retirement, at which point it starts decreasing. The plot seems to indicate that the peak is around the age of 50. Whether this is in fact the average retirement age cannot be figured out from this data. There are some notable anomalies in the general trend as age increases."
   ]
  },
  {
   "cell_type": "markdown",
   "metadata": {},
   "source": [
    "---\n",
    "2. $P(agi|occupation)$"
   ]
  },
  {
   "cell_type": "markdown",
   "metadata": {},
   "source": [
    "We have already examined the distribution of AGI, but not occupation. Let's examine that now"
   ]
  },
  {
   "cell_type": "code",
   "execution_count": 32,
   "metadata": {},
   "outputs": [
    {
     "data": {
      "text/plain": [
       "<matplotlib.axes._subplots.AxesSubplot at 0x78d19a105d00>"
      ]
     },
     "execution_count": 32,
     "metadata": {},
     "output_type": "execute_result"
    },
    {
     "data": {
      "image/png": "[encoded data removed]",
      "text/plain": [
       "<Figure size 1080x720 with 1 Axes>"
      ]
     },
     "metadata": {
      "needs_background": "light"
     },
     "output_type": "display_data"
    }
   ],
   "source": [
    "(\n",
    "    income\n",
    "    .occupation # grab the occupation col\n",
    "    .value_counts() # count how many of each unqique occupation\n",
    "    .reset_index() # make occupation a normal column again (no longer the index)\n",
    "    .rename(columns = {\"occupation\":\"counts\", \"index\":\"occupation\"}) # give more useful names\n",
    "    .plot # plot\n",
    "    .barh(x = \"occupation\", figsize = (15, 10)) # occupations on the x\n",
    ")"
   ]
  },
  {
   "cell_type": "markdown",
   "metadata": {},
   "source": [
    "There are a total of 15 occupational categories counted, with the shown total numbers of each.\n",
    "\n",
    "Our hypothesis for $P(agi|occupation)$ is that AGI is greatest in the categories\n",
    " - Exec-managerial\n",
    " - Prof-specialty\n",
    "\n",
    "and is lowest in the categories\n",
    " - Priv-house-serv\n",
    " - Handlers-cleaners"
   ]
  },
  {
   "cell_type": "code",
   "execution_count": 33,
   "metadata": {},
   "outputs": [],
   "source": [
    "# Since we'll be doing the calculation P(A|B) many times, let's create a function for it\n",
    "def cond_prob(df: pd.DataFrame, A: str, B: str) -> pd.DataFrame:\n",
    "    N = len(df)\n",
    "\n",
    "    # Calculate the joint probabilities, P(age, agi)\n",
    "    joint_probs = (\n",
    "        df\n",
    "        .groupby(A)[B] # for each A group, do the following: grab the B column\n",
    "        .value_counts() # count the number of values of each unique age in that AGI bin\n",
    "        .unstack(A) # move AGI from the index to be the columns\n",
    "        .fillna(0.0) # fill NaN with 0.0\n",
    "        .div(N) # divide by population size\n",
    "    )\n",
    "    \n",
    "    p_B = np.sum(joint_probs.values, axis=1).reshape((-1,1))\n",
    "    return joint_probs / p_B"
   ]
  },
  {
   "cell_type": "code",
   "execution_count": 34,
   "metadata": {},
   "outputs": [
    {
     "data": {
      "text/html": [
       "<div>\n",
       "<style scoped>\n",
       "    .dataframe tbody tr th:only-of-type {\n",
       "        vertical-align: middle;\n",
       "    }\n",
       "\n",
       "    .dataframe tbody tr th {\n",
       "        vertical-align: top;\n",
       "    }\n",
       "\n",
       "    .dataframe thead th {\n",
       "        text-align: right;\n",
       "    }\n",
       "</style>\n",
       "<table border=\"1\" class=\"dataframe\">\n",
       "  <thead>\n",
       "    <tr style=\"text-align: right;\">\n",
       "      <th>agi</th>\n",
       "      <th>&lt;=50K</th>\n",
       "      <th>&gt;50K</th>\n",
       "    </tr>\n",
       "    <tr>\n",
       "      <th>occupation</th>\n",
       "      <th></th>\n",
       "      <th></th>\n",
       "    </tr>\n",
       "  </thead>\n",
       "  <tbody>\n",
       "    <tr>\n",
       "      <th>?</th>\n",
       "      <td>0.896365</td>\n",
       "      <td>0.103635</td>\n",
       "    </tr>\n",
       "    <tr>\n",
       "      <th>Adm-clerical</th>\n",
       "      <td>0.865517</td>\n",
       "      <td>0.134483</td>\n",
       "    </tr>\n",
       "    <tr>\n",
       "      <th>Armed-Forces</th>\n",
       "      <td>0.888889</td>\n",
       "      <td>0.111111</td>\n",
       "    </tr>\n",
       "    <tr>\n",
       "      <th>Craft-repair</th>\n",
       "      <td>0.773359</td>\n",
       "      <td>0.226641</td>\n",
       "    </tr>\n",
       "    <tr>\n",
       "      <th>Exec-managerial</th>\n",
       "      <td>0.515986</td>\n",
       "      <td>0.484014</td>\n",
       "    </tr>\n",
       "    <tr>\n",
       "      <th>Farming-fishing</th>\n",
       "      <td>0.884306</td>\n",
       "      <td>0.115694</td>\n",
       "    </tr>\n",
       "    <tr>\n",
       "      <th>Handlers-cleaners</th>\n",
       "      <td>0.937226</td>\n",
       "      <td>0.062774</td>\n",
       "    </tr>\n",
       "    <tr>\n",
       "      <th>Machine-op-inspct</th>\n",
       "      <td>0.875125</td>\n",
       "      <td>0.124875</td>\n",
       "    </tr>\n",
       "    <tr>\n",
       "      <th>Other-service</th>\n",
       "      <td>0.958422</td>\n",
       "      <td>0.041578</td>\n",
       "    </tr>\n",
       "    <tr>\n",
       "      <th>Priv-house-serv</th>\n",
       "      <td>0.993289</td>\n",
       "      <td>0.006711</td>\n",
       "    </tr>\n",
       "    <tr>\n",
       "      <th>Prof-specialty</th>\n",
       "      <td>0.550966</td>\n",
       "      <td>0.449034</td>\n",
       "    </tr>\n",
       "    <tr>\n",
       "      <th>Protective-serv</th>\n",
       "      <td>0.674884</td>\n",
       "      <td>0.325116</td>\n",
       "    </tr>\n",
       "    <tr>\n",
       "      <th>Sales</th>\n",
       "      <td>0.730685</td>\n",
       "      <td>0.269315</td>\n",
       "    </tr>\n",
       "    <tr>\n",
       "      <th>Tech-support</th>\n",
       "      <td>0.695043</td>\n",
       "      <td>0.304957</td>\n",
       "    </tr>\n",
       "    <tr>\n",
       "      <th>Transport-moving</th>\n",
       "      <td>0.799624</td>\n",
       "      <td>0.200376</td>\n",
       "    </tr>\n",
       "  </tbody>\n",
       "</table>\n",
       "</div>"
      ],
      "text/plain": [
       "agi                    <=50K      >50K\n",
       "occupation                            \n",
       " ?                  0.896365  0.103635\n",
       " Adm-clerical       0.865517  0.134483\n",
       " Armed-Forces       0.888889  0.111111\n",
       " Craft-repair       0.773359  0.226641\n",
       " Exec-managerial    0.515986  0.484014\n",
       " Farming-fishing    0.884306  0.115694\n",
       " Handlers-cleaners  0.937226  0.062774\n",
       " Machine-op-inspct  0.875125  0.124875\n",
       " Other-service      0.958422  0.041578\n",
       " Priv-house-serv    0.993289  0.006711\n",
       " Prof-specialty     0.550966  0.449034\n",
       " Protective-serv    0.674884  0.325116\n",
       " Sales              0.730685  0.269315\n",
       " Tech-support       0.695043  0.304957\n",
       " Transport-moving   0.799624  0.200376"
      ]
     },
     "execution_count": 34,
     "metadata": {},
     "output_type": "execute_result"
    }
   ],
   "source": [
    "p_agi_given_occupation = cond_prob(income, \"agi\", \"occupation\")\n",
    "p_agi_given_occupation"
   ]
  },
  {
   "cell_type": "code",
   "execution_count": 35,
   "metadata": {},
   "outputs": [],
   "source": [
    "# Might as well create a function for plotting the conditional probability as well\n",
    "def plot_cond_prob(p_A_given_B: pd.DataFrame):\n",
    "    # Get the name of the index column\n",
    "    B = p_A_given_B.index.name\n",
    "    \n",
    "    # If the B column is numeric\n",
    "    if p_A_given_B.index.is_numeric():\n",
    "        return p_A_given_B.reset_index().plot.area(x = B, figsize = (15,10))\n",
    "    # If categorical or string\n",
    "    elif p_A_given_B.index.is_object() | p_A_given_B.index.is_categorical():\n",
    "        # What is the name of the A column?\n",
    "        temp = p_A_given_B.stack().rename(\"prob\").reset_index()\n",
    "        A_name = np.setdiff1d(temp.columns, [B, \"prob\"])[0]\n",
    "        \n",
    "        # Create the plot\n",
    "        return p_A_given_B.stack().rename(\"prob\").unstack(A_name).plot.barh(figsize = (15,10), stacked=True)"
   ]
  },
  {
   "cell_type": "code",
   "execution_count": 36,
   "metadata": {},
   "outputs": [
    {
     "data": {
      "text/plain": [
       "<matplotlib.axes._subplots.AxesSubplot at 0x78d19a097040>"
      ]
     },
     "execution_count": 36,
     "metadata": {},
     "output_type": "execute_result"
    },
    {
     "data": {
      "image/png": "[encoded data removed]",
      "text/plain": [
       "<Figure size 1080x720 with 1 Axes>"
      ]
     },
     "metadata": {
      "needs_background": "light"
     },
     "output_type": "display_data"
    }
   ],
   "source": [
    "plot_cond_prob(p_agi_given_occupation)"
   ]
  },
  {
   "cell_type": "markdown",
   "metadata": {},
   "source": [
    "From this plot, we can see that our hypothesis that `Prof-specialty` and `Exec-managerial` would have the highest AGI was correct. Our hypothesis that `Priv-house-serv` and `Handlers-cleaners` would be lowest was almost correct. In actuality, `Other-service` had a lower AGI than `Handlers-cleaners`."
   ]
  },
  {
   "cell_type": "markdown",
   "metadata": {},
   "source": [
    "3. $P(agi|sex)$"
   ]
  },
  {
   "cell_type": "markdown",
   "metadata": {},
   "source": [
    "We have not yet investigated the marginal distribution of `sex`"
   ]
  },
  {
   "cell_type": "code",
   "execution_count": 37,
   "metadata": {},
   "outputs": [
    {
     "data": {
      "text/plain": [
       "<matplotlib.axes._subplots.AxesSubplot at 0x78d197bf2880>"
      ]
     },
     "execution_count": 37,
     "metadata": {},
     "output_type": "execute_result"
    },
    {
     "data": {
      "image/png": "[encoded data removed]",
      "text/plain": [
       "<Figure size 432x288 with 1 Axes>"
      ]
     },
     "metadata": {
      "needs_background": "light"
     },
     "output_type": "display_data"
    }
   ],
   "source": [
    "income.sex.value_counts().plot.barh()"
   ]
  },
  {
   "cell_type": "code",
   "execution_count": 38,
   "metadata": {},
   "outputs": [
    {
     "data": {
      "text/plain": [
       "2.0230247887846997"
      ]
     },
     "execution_count": 38,
     "metadata": {},
     "output_type": "execute_result"
    }
   ],
   "source": [
    "vcounts = income.sex.value_counts()\n",
    "vcounts[0] / vcounts[1]"
   ]
  },
  {
   "cell_type": "markdown",
   "metadata": {},
   "source": [
    "As we can see, there were approximately twice as many male responders to the census as female.\n",
    "\n",
    "Our hypothesis for $P(agi|sex)$ is that men will have a higher AGI than women."
   ]
  },
  {
   "cell_type": "code",
   "execution_count": 39,
   "metadata": {},
   "outputs": [
    {
     "data": {
      "text/html": [
       "<div>\n",
       "<style scoped>\n",
       "    .dataframe tbody tr th:only-of-type {\n",
       "        vertical-align: middle;\n",
       "    }\n",
       "\n",
       "    .dataframe tbody tr th {\n",
       "        vertical-align: top;\n",
       "    }\n",
       "\n",
       "    .dataframe thead th {\n",
       "        text-align: right;\n",
       "    }\n",
       "</style>\n",
       "<table border=\"1\" class=\"dataframe\">\n",
       "  <thead>\n",
       "    <tr style=\"text-align: right;\">\n",
       "      <th>agi</th>\n",
       "      <th>&lt;=50K</th>\n",
       "      <th>&gt;50K</th>\n",
       "    </tr>\n",
       "    <tr>\n",
       "      <th>sex</th>\n",
       "      <th></th>\n",
       "      <th></th>\n",
       "    </tr>\n",
       "  </thead>\n",
       "  <tbody>\n",
       "    <tr>\n",
       "      <th>Female</th>\n",
       "      <td>0.890539</td>\n",
       "      <td>0.109461</td>\n",
       "    </tr>\n",
       "    <tr>\n",
       "      <th>Male</th>\n",
       "      <td>0.694263</td>\n",
       "      <td>0.305737</td>\n",
       "    </tr>\n",
       "  </tbody>\n",
       "</table>\n",
       "</div>"
      ],
      "text/plain": [
       "agi         <=50K      >50K\n",
       "sex                        \n",
       " Female  0.890539  0.109461\n",
       " Male    0.694263  0.305737"
      ]
     },
     "execution_count": 39,
     "metadata": {},
     "output_type": "execute_result"
    }
   ],
   "source": [
    "p_agi_given_sex = cond_prob(income, \"agi\", \"sex\")\n",
    "p_agi_given_sex"
   ]
  },
  {
   "cell_type": "code",
   "execution_count": 40,
   "metadata": {},
   "outputs": [
    {
     "data": {
      "text/plain": [
       "<matplotlib.axes._subplots.AxesSubplot at 0x78d197bebb80>"
      ]
     },
     "execution_count": 40,
     "metadata": {},
     "output_type": "execute_result"
    },
    {
     "data": {
      "image/png": "[encoded data removed]",
      "text/plain": [
       "<Figure size 1080x720 with 1 Axes>"
      ]
     },
     "metadata": {
      "needs_background": "light"
     },
     "output_type": "display_data"
    }
   ],
   "source": [
    "plot_cond_prob(p_agi_given_sex)"
   ]
  },
  {
   "cell_type": "markdown",
   "metadata": {},
   "source": [
    "We can see that it is indeed the case that men have a higher AGI than women."
   ]
  },
  {
   "cell_type": "markdown",
   "metadata": {},
   "source": [
    "4. $P(agi|sex, occupation)$"
   ]
  },
  {
   "cell_type": "markdown",
   "metadata": {},
   "source": [
    "We have already investigated the marginal distributions of all three features here. However, we will need to create the joint probability of sex and occupation. Since both columns are strings, we can create a joint column by simply concatenating sex and occupation together.\n",
    "\n",
    "Our hypothesis is that in general, men in a given occupation will have a higher AGI than women."
   ]
  },
  {
   "cell_type": "code",
   "execution_count": 41,
   "metadata": {},
   "outputs": [
    {
     "data": {
      "text/html": [
       "<div>\n",
       "<style scoped>\n",
       "    .dataframe tbody tr th:only-of-type {\n",
       "        vertical-align: middle;\n",
       "    }\n",
       "\n",
       "    .dataframe tbody tr th {\n",
       "        vertical-align: top;\n",
       "    }\n",
       "\n",
       "    .dataframe thead th {\n",
       "        text-align: right;\n",
       "    }\n",
       "</style>\n",
       "<table border=\"1\" class=\"dataframe\">\n",
       "  <thead>\n",
       "    <tr style=\"text-align: right;\">\n",
       "      <th>agi</th>\n",
       "      <th>&lt;=50K</th>\n",
       "      <th>&gt;50K</th>\n",
       "    </tr>\n",
       "    <tr>\n",
       "      <th>occupation_sex</th>\n",
       "      <th></th>\n",
       "      <th></th>\n",
       "    </tr>\n",
       "  </thead>\n",
       "  <tbody>\n",
       "    <tr>\n",
       "      <th>? Female</th>\n",
       "      <td>0.938169</td>\n",
       "      <td>0.061831</td>\n",
       "    </tr>\n",
       "    <tr>\n",
       "      <th>? Male</th>\n",
       "      <td>0.861277</td>\n",
       "      <td>0.138723</td>\n",
       "    </tr>\n",
       "    <tr>\n",
       "      <th>Adm-clerical Female</th>\n",
       "      <td>0.916437</td>\n",
       "      <td>0.083563</td>\n",
       "    </tr>\n",
       "    <tr>\n",
       "      <th>Adm-clerical Male</th>\n",
       "      <td>0.760746</td>\n",
       "      <td>0.239254</td>\n",
       "    </tr>\n",
       "    <tr>\n",
       "      <th>Armed-Forces Male</th>\n",
       "      <td>0.888889</td>\n",
       "      <td>0.111111</td>\n",
       "    </tr>\n",
       "    <tr>\n",
       "      <th>Craft-repair Female</th>\n",
       "      <td>0.909910</td>\n",
       "      <td>0.090090</td>\n",
       "    </tr>\n",
       "    <tr>\n",
       "      <th>Craft-repair Male</th>\n",
       "      <td>0.765540</td>\n",
       "      <td>0.234460</td>\n",
       "    </tr>\n",
       "    <tr>\n",
       "      <th>Exec-managerial Female</th>\n",
       "      <td>0.758412</td>\n",
       "      <td>0.241588</td>\n",
       "    </tr>\n",
       "    <tr>\n",
       "      <th>Exec-managerial Male</th>\n",
       "      <td>0.419333</td>\n",
       "      <td>0.580667</td>\n",
       "    </tr>\n",
       "    <tr>\n",
       "      <th>Farming-fishing Female</th>\n",
       "      <td>0.969231</td>\n",
       "      <td>0.030769</td>\n",
       "    </tr>\n",
       "    <tr>\n",
       "      <th>Farming-fishing Male</th>\n",
       "      <td>0.878364</td>\n",
       "      <td>0.121636</td>\n",
       "    </tr>\n",
       "    <tr>\n",
       "      <th>Handlers-cleaners Female</th>\n",
       "      <td>0.975610</td>\n",
       "      <td>0.024390</td>\n",
       "    </tr>\n",
       "    <tr>\n",
       "      <th>Handlers-cleaners Male</th>\n",
       "      <td>0.932007</td>\n",
       "      <td>0.067993</td>\n",
       "    </tr>\n",
       "    <tr>\n",
       "      <th>Machine-op-inspct Female</th>\n",
       "      <td>0.963636</td>\n",
       "      <td>0.036364</td>\n",
       "    </tr>\n",
       "    <tr>\n",
       "      <th>Machine-op-inspct Male</th>\n",
       "      <td>0.841598</td>\n",
       "      <td>0.158402</td>\n",
       "    </tr>\n",
       "    <tr>\n",
       "      <th>Other-service Female</th>\n",
       "      <td>0.971667</td>\n",
       "      <td>0.028333</td>\n",
       "    </tr>\n",
       "    <tr>\n",
       "      <th>Other-service Male</th>\n",
       "      <td>0.942475</td>\n",
       "      <td>0.057525</td>\n",
       "    </tr>\n",
       "    <tr>\n",
       "      <th>Priv-house-serv Female</th>\n",
       "      <td>0.992908</td>\n",
       "      <td>0.007092</td>\n",
       "    </tr>\n",
       "    <tr>\n",
       "      <th>Priv-house-serv Male</th>\n",
       "      <td>1.000000</td>\n",
       "      <td>0.000000</td>\n",
       "    </tr>\n",
       "    <tr>\n",
       "      <th>Prof-specialty Female</th>\n",
       "      <td>0.745875</td>\n",
       "      <td>0.254125</td>\n",
       "    </tr>\n",
       "    <tr>\n",
       "      <th>Prof-specialty Male</th>\n",
       "      <td>0.438476</td>\n",
       "      <td>0.561524</td>\n",
       "    </tr>\n",
       "    <tr>\n",
       "      <th>Protective-serv Female</th>\n",
       "      <td>0.868421</td>\n",
       "      <td>0.131579</td>\n",
       "    </tr>\n",
       "    <tr>\n",
       "      <th>Protective-serv Male</th>\n",
       "      <td>0.649215</td>\n",
       "      <td>0.350785</td>\n",
       "    </tr>\n",
       "    <tr>\n",
       "      <th>Sales Female</th>\n",
       "      <td>0.930325</td>\n",
       "      <td>0.069675</td>\n",
       "    </tr>\n",
       "    <tr>\n",
       "      <th>Sales Male</th>\n",
       "      <td>0.625052</td>\n",
       "      <td>0.374948</td>\n",
       "    </tr>\n",
       "    <tr>\n",
       "      <th>Tech-support Female</th>\n",
       "      <td>0.870690</td>\n",
       "      <td>0.129310</td>\n",
       "    </tr>\n",
       "    <tr>\n",
       "      <th>Tech-support Male</th>\n",
       "      <td>0.589655</td>\n",
       "      <td>0.410345</td>\n",
       "    </tr>\n",
       "    <tr>\n",
       "      <th>Transport-moving Female</th>\n",
       "      <td>0.900000</td>\n",
       "      <td>0.100000</td>\n",
       "    </tr>\n",
       "    <tr>\n",
       "      <th>Transport-moving Male</th>\n",
       "      <td>0.793630</td>\n",
       "      <td>0.206370</td>\n",
       "    </tr>\n",
       "  </tbody>\n",
       "</table>\n",
       "</div>"
      ],
      "text/plain": [
       "agi                           <=50K      >50K\n",
       "occupation_sex                               \n",
       " ? Female                  0.938169  0.061831\n",
       " ? Male                    0.861277  0.138723\n",
       " Adm-clerical Female       0.916437  0.083563\n",
       " Adm-clerical Male         0.760746  0.239254\n",
       " Armed-Forces Male         0.888889  0.111111\n",
       " Craft-repair Female       0.909910  0.090090\n",
       " Craft-repair Male         0.765540  0.234460\n",
       " Exec-managerial Female    0.758412  0.241588\n",
       " Exec-managerial Male      0.419333  0.580667\n",
       " Farming-fishing Female    0.969231  0.030769\n",
       " Farming-fishing Male      0.878364  0.121636\n",
       " Handlers-cleaners Female  0.975610  0.024390\n",
       " Handlers-cleaners Male    0.932007  0.067993\n",
       " Machine-op-inspct Female  0.963636  0.036364\n",
       " Machine-op-inspct Male    0.841598  0.158402\n",
       " Other-service Female      0.971667  0.028333\n",
       " Other-service Male        0.942475  0.057525\n",
       " Priv-house-serv Female    0.992908  0.007092\n",
       " Priv-house-serv Male      1.000000  0.000000\n",
       " Prof-specialty Female     0.745875  0.254125\n",
       " Prof-specialty Male       0.438476  0.561524\n",
       " Protective-serv Female    0.868421  0.131579\n",
       " Protective-serv Male      0.649215  0.350785\n",
       " Sales Female              0.930325  0.069675\n",
       " Sales Male                0.625052  0.374948\n",
       " Tech-support Female       0.870690  0.129310\n",
       " Tech-support Male         0.589655  0.410345\n",
       " Transport-moving Female   0.900000  0.100000\n",
       " Transport-moving Male     0.793630  0.206370"
      ]
     },
     "execution_count": 41,
     "metadata": {},
     "output_type": "execute_result"
    }
   ],
   "source": [
    "income[\"occupation_sex\"] = income.occupation + income.sex\n",
    "p_agi_given_sexoccupation = cond_prob(income, \"agi\", \"occupation_sex\")\n",
    "p_agi_given_sexoccupation"
   ]
  },
  {
   "cell_type": "code",
   "execution_count": 42,
   "metadata": {},
   "outputs": [
    {
     "data": {
      "text/plain": [
       "<matplotlib.axes._subplots.AxesSubplot at 0x78d197b59be0>"
      ]
     },
     "execution_count": 42,
     "metadata": {},
     "output_type": "execute_result"
    },
    {
     "data": {
      "image/png": "[encoded data removed]",
      "text/plain": [
       "<Figure size 1080x720 with 1 Axes>"
      ]
     },
     "metadata": {
      "needs_background": "light"
     },
     "output_type": "display_data"
    }
   ],
   "source": [
    "plot_cond_prob(p_agi_given_sexoccupation)"
   ]
  },
  {
   "cell_type": "markdown",
   "metadata": {},
   "source": [
    "From the plot, we can see that men do indeed have a higher AGI in all occupations except `Priv-house-serv`."
   ]
  },
  {
   "cell_type": "markdown",
   "metadata": {},
   "source": [
    "5. $P(occupation|race)$"
   ]
  },
  {
   "cell_type": "markdown",
   "metadata": {},
   "source": [
    "Let's examine the marginal distribution of race"
   ]
  },
  {
   "cell_type": "code",
   "execution_count": 43,
   "metadata": {},
   "outputs": [
    {
     "data": {
      "text/plain": [
       "<matplotlib.axes._subplots.AxesSubplot at 0x78d1977cb700>"
      ]
     },
     "execution_count": 43,
     "metadata": {},
     "output_type": "execute_result"
    },
    {
     "data": {
      "image/png": "[encoded data removed]",
      "text/plain": [
       "<Figure size 432x288 with 1 Axes>"
      ]
     },
     "metadata": {
      "needs_background": "light"
     },
     "output_type": "display_data"
    }
   ],
   "source": [
    "income.race.value_counts().plot.barh()"
   ]
  },
  {
   "cell_type": "markdown",
   "metadata": {},
   "source": [
    "From this, we can clearly see that the majority of responses were from white people, all others forming a minority\n",
    "\n",
    "Our hypothesis for the distribution $P(occupation|race)$ is that if you are white you are more likely to work in `Prof-specialty` and `Exec-managerial`, and less likely to do so if you are not white."
   ]
  },
  {
   "cell_type": "code",
   "execution_count": 44,
   "metadata": {},
   "outputs": [
    {
     "data": {
      "text/html": [
       "<div>\n",
       "<style scoped>\n",
       "    .dataframe tbody tr th:only-of-type {\n",
       "        vertical-align: middle;\n",
       "    }\n",
       "\n",
       "    .dataframe tbody tr th {\n",
       "        vertical-align: top;\n",
       "    }\n",
       "\n",
       "    .dataframe thead th {\n",
       "        text-align: right;\n",
       "    }\n",
       "</style>\n",
       "<table border=\"1\" class=\"dataframe\">\n",
       "  <thead>\n",
       "    <tr style=\"text-align: right;\">\n",
       "      <th>occupation</th>\n",
       "      <th>?</th>\n",
       "      <th>Adm-clerical</th>\n",
       "      <th>Armed-Forces</th>\n",
       "      <th>Craft-repair</th>\n",
       "      <th>Exec-managerial</th>\n",
       "      <th>Farming-fishing</th>\n",
       "      <th>Handlers-cleaners</th>\n",
       "      <th>Machine-op-inspct</th>\n",
       "      <th>Other-service</th>\n",
       "      <th>Priv-house-serv</th>\n",
       "      <th>Prof-specialty</th>\n",
       "      <th>Protective-serv</th>\n",
       "      <th>Sales</th>\n",
       "      <th>Tech-support</th>\n",
       "      <th>Transport-moving</th>\n",
       "    </tr>\n",
       "    <tr>\n",
       "      <th>race</th>\n",
       "      <th></th>\n",
       "      <th></th>\n",
       "      <th></th>\n",
       "      <th></th>\n",
       "      <th></th>\n",
       "      <th></th>\n",
       "      <th></th>\n",
       "      <th></th>\n",
       "      <th></th>\n",
       "      <th></th>\n",
       "      <th></th>\n",
       "      <th></th>\n",
       "      <th></th>\n",
       "      <th></th>\n",
       "      <th></th>\n",
       "    </tr>\n",
       "  </thead>\n",
       "  <tbody>\n",
       "    <tr>\n",
       "      <th>Amer-Indian-Eskimo</th>\n",
       "      <td>0.080386</td>\n",
       "      <td>0.099678</td>\n",
       "      <td>0.003215</td>\n",
       "      <td>0.141479</td>\n",
       "      <td>0.096463</td>\n",
       "      <td>0.032154</td>\n",
       "      <td>0.070740</td>\n",
       "      <td>0.061093</td>\n",
       "      <td>0.106109</td>\n",
       "      <td>0.000000</td>\n",
       "      <td>0.106109</td>\n",
       "      <td>0.025723</td>\n",
       "      <td>0.083601</td>\n",
       "      <td>0.012862</td>\n",
       "      <td>0.080386</td>\n",
       "    </tr>\n",
       "    <tr>\n",
       "      <th>Asian-Pac-Islander</th>\n",
       "      <td>0.062560</td>\n",
       "      <td>0.133782</td>\n",
       "      <td>0.000000</td>\n",
       "      <td>0.085659</td>\n",
       "      <td>0.129933</td>\n",
       "      <td>0.015399</td>\n",
       "      <td>0.022137</td>\n",
       "      <td>0.056785</td>\n",
       "      <td>0.123195</td>\n",
       "      <td>0.003850</td>\n",
       "      <td>0.179018</td>\n",
       "      <td>0.014437</td>\n",
       "      <td>0.103946</td>\n",
       "      <td>0.042348</td>\n",
       "      <td>0.026949</td>\n",
       "    </tr>\n",
       "    <tr>\n",
       "      <th>Black</th>\n",
       "      <td>0.068822</td>\n",
       "      <td>0.156850</td>\n",
       "      <td>0.000320</td>\n",
       "      <td>0.078105</td>\n",
       "      <td>0.078105</td>\n",
       "      <td>0.013444</td>\n",
       "      <td>0.057298</td>\n",
       "      <td>0.087708</td>\n",
       "      <td>0.182778</td>\n",
       "      <td>0.008963</td>\n",
       "      <td>0.076504</td>\n",
       "      <td>0.032650</td>\n",
       "      <td>0.081306</td>\n",
       "      <td>0.022727</td>\n",
       "      <td>0.054417</td>\n",
       "    </tr>\n",
       "    <tr>\n",
       "      <th>Other</th>\n",
       "      <td>0.084871</td>\n",
       "      <td>0.095941</td>\n",
       "      <td>0.000000</td>\n",
       "      <td>0.103321</td>\n",
       "      <td>0.040590</td>\n",
       "      <td>0.040590</td>\n",
       "      <td>0.044280</td>\n",
       "      <td>0.143911</td>\n",
       "      <td>0.147601</td>\n",
       "      <td>0.011070</td>\n",
       "      <td>0.114391</td>\n",
       "      <td>0.018450</td>\n",
       "      <td>0.092251</td>\n",
       "      <td>0.011070</td>\n",
       "      <td>0.051661</td>\n",
       "    </tr>\n",
       "    <tr>\n",
       "      <th>White</th>\n",
       "      <td>0.054465</td>\n",
       "      <td>0.110871</td>\n",
       "      <td>0.000252</td>\n",
       "      <td>0.132801</td>\n",
       "      <td>0.131076</td>\n",
       "      <td>0.032895</td>\n",
       "      <td>0.040768</td>\n",
       "      <td>0.057916</td>\n",
       "      <td>0.090703</td>\n",
       "      <td>0.004098</td>\n",
       "      <td>0.131255</td>\n",
       "      <td>0.018658</td>\n",
       "      <td>0.116372</td>\n",
       "      <td>0.028976</td>\n",
       "      <td>0.048893</td>\n",
       "    </tr>\n",
       "  </tbody>\n",
       "</table>\n",
       "</div>"
      ],
      "text/plain": [
       "occupation                  ?   Adm-clerical   Armed-Forces   Craft-repair  \\\n",
       "race                                                                         \n",
       " Amer-Indian-Eskimo  0.080386       0.099678       0.003215       0.141479   \n",
       " Asian-Pac-Islander  0.062560       0.133782       0.000000       0.085659   \n",
       " Black               0.068822       0.156850       0.000320       0.078105   \n",
       " Other               0.084871       0.095941       0.000000       0.103321   \n",
       " White               0.054465       0.110871       0.000252       0.132801   \n",
       "\n",
       "occupation            Exec-managerial   Farming-fishing   Handlers-cleaners  \\\n",
       "race                                                                          \n",
       " Amer-Indian-Eskimo          0.096463          0.032154            0.070740   \n",
       " Asian-Pac-Islander          0.129933          0.015399            0.022137   \n",
       " Black                       0.078105          0.013444            0.057298   \n",
       " Other                       0.040590          0.040590            0.044280   \n",
       " White                       0.131076          0.032895            0.040768   \n",
       "\n",
       "occupation            Machine-op-inspct   Other-service   Priv-house-serv  \\\n",
       "race                                                                        \n",
       " Amer-Indian-Eskimo            0.061093        0.106109          0.000000   \n",
       " Asian-Pac-Islander            0.056785        0.123195          0.003850   \n",
       " Black                         0.087708        0.182778          0.008963   \n",
       " Other                         0.143911        0.147601          0.011070   \n",
       " White                         0.057916        0.090703          0.004098   \n",
       "\n",
       "occupation            Prof-specialty   Protective-serv     Sales  \\\n",
       "race                                                               \n",
       " Amer-Indian-Eskimo         0.106109          0.025723  0.083601   \n",
       " Asian-Pac-Islander         0.179018          0.014437  0.103946   \n",
       " Black                      0.076504          0.032650  0.081306   \n",
       " Other                      0.114391          0.018450  0.092251   \n",
       " White                      0.131255          0.018658  0.116372   \n",
       "\n",
       "occupation            Tech-support   Transport-moving  \n",
       "race                                                   \n",
       " Amer-Indian-Eskimo       0.012862           0.080386  \n",
       " Asian-Pac-Islander       0.042348           0.026949  \n",
       " Black                    0.022727           0.054417  \n",
       " Other                    0.011070           0.051661  \n",
       " White                    0.028976           0.048893  "
      ]
     },
     "execution_count": 44,
     "metadata": {},
     "output_type": "execute_result"
    }
   ],
   "source": [
    "p_occupation_given_race = cond_prob(income, \"occupation\", \"race\")\n",
    "p_occupation_given_race"
   ]
  },
  {
   "cell_type": "code",
   "execution_count": 45,
   "metadata": {},
   "outputs": [
    {
     "data": {
      "text/plain": [
       "<matplotlib.axes._subplots.AxesSubplot at 0x78d19777cf70>"
      ]
     },
     "execution_count": 45,
     "metadata": {},
     "output_type": "execute_result"
    },
    {
     "data": {
      "image/png": "[encoded data removed]",
      "text/plain": [
       "<Figure size 1080x720 with 1 Axes>"
      ]
     },
     "metadata": {
      "needs_background": "light"
     },
     "output_type": "display_data"
    }
   ],
   "source": [
    "plot_cond_prob(p_occupation_given_race)"
   ]
  },
  {
   "cell_type": "markdown",
   "metadata": {},
   "source": [
    "The plot shows that while `Prof-specialty` and `Exec-managerial` are among two of the most populous jobs for white people, `Craft-repair`, `Sales`, and `Protective-serv` are also relatively well populated.\n",
    "\n",
    "The other part of our hypothesis is less correct. Indeed, `Prof-specialty` and `Exec-managerial` are two of the largest categories for Asian and Pacific Islanders."
   ]
  },
  {
   "cell_type": "markdown",
   "metadata": {},
   "source": [
    "## Naive Bayes Classifier\n",
    "\n",
    "Build a Naive Bayes Classifier $P(agi|age, sex, race, occupation, education\\_years)$. Make 5 predictions with it, after first making a hypothesis about the prediction. Import what you need."
   ]
  },
  {
   "cell_type": "code",
   "execution_count": 46,
   "metadata": {},
   "outputs": [],
   "source": [
    "from sklearn.naive_bayes import CategoricalNB\n",
    "from sklearn.preprocessing import OrdinalEncoder"
   ]
  },
  {
   "cell_type": "markdown",
   "metadata": {},
   "source": [
    "Our hypothesis is that AGI will be greater for:\n",
    " - people around age 50\n",
    " - men\n",
    " - white people\n",
    " - Executives and professionals\n",
    " - people with more years of education\n",
    " \n",
    "However, we have not yet looked at `education_years` yet. Let's do that"
   ]
  },
  {
   "cell_type": "code",
   "execution_count": 47,
   "metadata": {},
   "outputs": [
    {
     "data": {
      "text/plain": [
       "<matplotlib.axes._subplots.AxesSubplot at 0x78d1974c2fa0>"
      ]
     },
     "execution_count": 47,
     "metadata": {},
     "output_type": "execute_result"
    },
    {
     "data": {
      "image/png": "[encoded data removed]",
      "text/plain": [
       "<Figure size 1080x720 with 1 Axes>"
      ]
     },
     "metadata": {
      "needs_background": "light"
     },
     "output_type": "display_data"
    }
   ],
   "source": [
    "income.education_years.hist(figsize = (15,10))"
   ]
  },
  {
   "cell_type": "code",
   "execution_count": 48,
   "metadata": {},
   "outputs": [
    {
     "data": {
      "text/plain": [
       "9     10501\n",
       "10     7291\n",
       "13     5355\n",
       "14     1723\n",
       "11     1382\n",
       "Name: education_years, dtype: int64"
      ]
     },
     "execution_count": 48,
     "metadata": {},
     "output_type": "execute_result"
    }
   ],
   "source": [
    "income.education_years.value_counts().head()"
   ]
  },
  {
   "cell_type": "markdown",
   "metadata": {},
   "source": [
    "There are three clear peaks:\n",
    "1. 9 ears\n",
    "1. 10 years\n",
    "1. 13 years\n",
    "\n",
    "This suggests that most people finish high school and do not continue, or finish college and do not continue. It is also notable that there is a long tail to the left, suggesting that all throughout grade school and high school people are dropping out."
   ]
  },
  {
   "cell_type": "markdown",
   "metadata": {},
   "source": [
    "Because three of the five features (and what we wish to predict) are categorical, we'll use sklearn's `CategoricalNB`. Before we do that, many of the columns with strings have spaces at the front or end, so let's get rid of the extra spaces"
   ]
  },
  {
   "cell_type": "code",
   "execution_count": 49,
   "metadata": {},
   "outputs": [],
   "source": [
    "# Grab the string columns\n",
    "str_cols = {name:income[name] for name in income if income[name].dtype == 'object'}\n",
    "\n",
    "# Strip each one\n",
    "stripped_cols = {name: col.str.strip() for name, col in str_cols.items()}\n",
    "\n",
    "# Put them back in the dataframe\n",
    "for name, col in stripped_cols.items():\n",
    "    income[name] = col"
   ]
  },
  {
   "cell_type": "code",
   "execution_count": 50,
   "metadata": {},
   "outputs": [
    {
     "data": {
      "text/plain": [
       "OrdinalEncoder()"
      ]
     },
     "execution_count": 50,
     "metadata": {},
     "output_type": "execute_result"
    }
   ],
   "source": [
    "encoder = OrdinalEncoder()\n",
    "encoder.fit(income[[\"age\",\"race\",\"sex\",\"occupation\",\"education_years\"]])"
   ]
  },
  {
   "cell_type": "code",
   "execution_count": 51,
   "metadata": {},
   "outputs": [
    {
     "data": {
      "text/plain": [
       "[array([17, 18, 19, 20, 21, 22, 23, 24, 25, 26, 27, 28, 29, 30, 31, 32, 33,\n",
       "        34, 35, 36, 37, 38, 39, 40, 41, 42, 43, 44, 45, 46, 47, 48, 49, 50,\n",
       "        51, 52, 53, 54, 55, 56, 57, 58, 59, 60, 61, 62, 63, 64, 65, 66, 67,\n",
       "        68, 69, 70, 71, 72, 73, 74, 75, 76, 77, 78, 79, 80, 81, 82, 83, 84,\n",
       "        85, 86, 87, 88, 90]),\n",
       " array(['Amer-Indian-Eskimo', 'Asian-Pac-Islander', 'Black', 'Other',\n",
       "        'White'], dtype=object),\n",
       " array(['Female', 'Male'], dtype=object),\n",
       " array(['?', 'Adm-clerical', 'Armed-Forces', 'Craft-repair',\n",
       "        'Exec-managerial', 'Farming-fishing', 'Handlers-cleaners',\n",
       "        'Machine-op-inspct', 'Other-service', 'Priv-house-serv',\n",
       "        'Prof-specialty', 'Protective-serv', 'Sales', 'Tech-support',\n",
       "        'Transport-moving'], dtype=object),\n",
       " array([ 1,  2,  3,  4,  5,  6,  7,  8,  9, 10, 11, 12, 13, 14, 15, 16])]"
      ]
     },
     "execution_count": 51,
     "metadata": {},
     "output_type": "execute_result"
    }
   ],
   "source": [
    "encoder.categories_"
   ]
  },
  {
   "cell_type": "markdown",
   "metadata": {},
   "source": [
    "Now to fit the Naive Bayes classifier"
   ]
  },
  {
   "cell_type": "code",
   "execution_count": 52,
   "metadata": {},
   "outputs": [
    {
     "data": {
      "text/plain": [
       "array(['<=50K', '>50K'], dtype='<U5')"
      ]
     },
     "execution_count": 52,
     "metadata": {},
     "output_type": "execute_result"
    }
   ],
   "source": [
    "cnb = CategoricalNB()\n",
    "cnb.fit(encoder.transform(income[[\"age\",\"race\",\"sex\",\"occupation\",\"education_years\"]]), income.agi)\n",
    "cnb.classes_"
   ]
  },
  {
   "cell_type": "markdown",
   "metadata": {},
   "source": [
    "If we have a 20 year old, black, female, working in `Handlers-cleaners`, with 10 years of education, hypothesis is that her AGI is < 50k"
   ]
  },
  {
   "cell_type": "code",
   "execution_count": 53,
   "metadata": {},
   "outputs": [
    {
     "data": {
      "text/plain": [
       "array([[9.99964004e-01, 3.59959068e-05]])"
      ]
     },
     "execution_count": 53,
     "metadata": {},
     "output_type": "execute_result"
    }
   ],
   "source": [
    "cnb.predict_proba(encoder.transform([(20, \"Black\", \"Female\", \"Handlers-cleaners\", 10)]))"
   ]
  },
  {
   "cell_type": "markdown",
   "metadata": {},
   "source": [
    "While I am not sure what the labels are, I think we can safely say (unfortunately) than the first is <=50k and the second is >50k. If so, our hypothesis is correct"
   ]
  },
  {
   "cell_type": "markdown",
   "metadata": {},
   "source": [
    "For a 50 year old, White, male, working in `Exec-managerial` with 14 years of education, hypothesis is that his AGI is >50k"
   ]
  },
  {
   "cell_type": "code",
   "execution_count": 54,
   "metadata": {},
   "outputs": [
    {
     "data": {
      "text/plain": [
       "array([[0.06962482, 0.93037518]])"
      ]
     },
     "execution_count": 54,
     "metadata": {},
     "output_type": "execute_result"
    }
   ],
   "source": [
    "cnb.predict_proba(encoder.transform([(50, \"White\", \"Male\", \"Exec-managerial\", 14)]))"
   ]
  },
  {
   "cell_type": "markdown",
   "metadata": {},
   "source": [
    "The hypothesis was correct, there is a 93% chance that this person makes >50k\n",
    "\n",
    "For a 30 year old, White, female, working in `Prof-specialty`, with 14 years of education, hypothesis is that her AGI is <=50k"
   ]
  },
  {
   "cell_type": "code",
   "execution_count": 55,
   "metadata": {},
   "outputs": [
    {
     "data": {
      "text/plain": [
       "array([[0.48693507, 0.51306493]])"
      ]
     },
     "execution_count": 55,
     "metadata": {},
     "output_type": "execute_result"
    }
   ],
   "source": [
    "cnb.predict_proba(encoder.transform([(30, \"White\", \"Female\", \"Prof-specialty\", 14)]))"
   ]
  },
  {
   "cell_type": "markdown",
   "metadata": {},
   "source": [
    "As there is a 48.7% chance that this person will have an AGI <=50k, the hypothesis is incorrect.\n",
    "\n",
    "For a 70 year old, American Indian/Eskimo, working in `Sales`, with 10 years of education, hypothesis is that his AGI is <=50k"
   ]
  },
  {
   "cell_type": "code",
   "execution_count": 56,
   "metadata": {},
   "outputs": [
    {
     "data": {
      "text/plain": [
       "array([[0.87637127, 0.12362873]])"
      ]
     },
     "execution_count": 56,
     "metadata": {},
     "output_type": "execute_result"
    }
   ],
   "source": [
    "cnb.predict_proba(encoder.transform([(70, \"Amer-Indian-Eskimo\", \"Male\", \"Sales\", 10)]))"
   ]
  },
  {
   "cell_type": "markdown",
   "metadata": {},
   "source": [
    "Hypothesis is correct. \n",
    "\n",
    "Finally, a 35 year old, Asian/Pacific Islander, female, working in `Prof-specialty`, with 13 years of education, hypothesis is that her AGI is >50k"
   ]
  },
  {
   "cell_type": "code",
   "execution_count": 57,
   "metadata": {},
   "outputs": [
    {
     "data": {
      "text/plain": [
       "array([[0.54565997, 0.45434003]])"
      ]
     },
     "execution_count": 57,
     "metadata": {},
     "output_type": "execute_result"
    }
   ],
   "source": [
    "cnb.predict_proba(encoder.transform([(35, \"Asian-Pac-Islander\", \"Female\", \"Prof-specialty\", 13)]))"
   ]
  },
  {
   "cell_type": "markdown",
   "metadata": {},
   "source": [
    "Hypothesis is incorrect; they only have a 45.4% of having an AGI over 50k"
   ]
  }
 ],
 "metadata": {
  "colab": {
   "include_colab_link": true,
   "name": "Problem Set 1.ipynb",
   "provenance": []
  },
  "kernelspec": {
   "display_name": "Python 3",
   "language": "python",
   "name": "python3"
  },
  "language_info": {
   "codemirror_mode": {
    "name": "ipython",
    "version": 3
   },
   "file_extension": ".py",
   "mimetype": "text/x-python",
   "name": "python",
   "nbconvert_exporter": "python",
   "pygments_lexer": "ipython3",
   "version": "3.7.7"
  },
  "toc": {
   "colors": {
    "hover_highlight": "#DAA520",
    "navigate_num": "#000000",
    "navigate_text": "#333333",
    "running_highlight": "#FF0000",
    "selected_highlight": "#FFD700",
    "sidebar_border": "#EEEEEE",
    "wrapper_background": "#FFFFFF"
   },
   "moveMenuLeft": true,
   "nav_menu": {
    "height": "99px",
    "width": "252px"
   },
   "navigate_menu": true,
   "number_sections": true,
   "sideBar": true,
   "threshold": 4,
   "toc_cell": false,
   "toc_section_display": "block",
   "toc_window_display": false,
   "widenNotebook": false
  }
 },
 "nbformat": 4,
 "nbformat_minor": 4
}
