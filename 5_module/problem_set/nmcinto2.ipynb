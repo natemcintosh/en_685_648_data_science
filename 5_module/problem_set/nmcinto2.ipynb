{
 "cells": [
  {
   "cell_type": "code",
   "execution_count": 1,
   "metadata": {
    "colab": {},
    "colab_type": "code",
    "id": "gdLBgeQ1rCZD"
   },
   "outputs": [],
   "source": [
    "%matplotlib inline"
   ]
  },
  {
   "cell_type": "code",
   "execution_count": 2,
   "metadata": {
    "colab": {},
    "colab_type": "code",
    "id": "Sl1UT6CirCZN"
   },
   "outputs": [],
   "source": [
    "from IPython.display import YouTubeVideo, Image"
   ]
  },
  {
   "cell_type": "markdown",
   "metadata": {
    "colab_type": "text",
    "id": "UTb6dF2ZrCZW"
   },
   "source": [
    "# Problem Set 2\n",
    "\n",
    "## Directions\n",
    "\n",
    "1. Show all work/steps/calculations. Your submission should be a zip file named according to your JHED id ` <JHED>.zip` with the following contents:\n",
    "    1. the .ipynb version of the notebook.\n",
    "    2. the database, `contracts.db`\n",
    "    3. the DDL file, `contracts.sql`\n",
    "    3. your ETL code as `contracts.py`\n",
    "2. **All** work is to be your own. This is not a group project. You may, however, use code from the lectures and labs. Provide citations for any code that is not your own. You may also consult Stackoverflow, etc. This is not by any means \"closed book\" or anything like that. Basically, I need to see if *you* learned the concepts from the Labs.\n",
    "3. Add whatever markdown or code cells you need in each part to explain and calculate your answers. Don't just provide answers but explain them as well. **Explain and interpret your results. Explain your decisions.**\n",
    "4. Please level all the top level Markdown headers in place.\n",
    "\n",
    "\n",
    "---\n",
    "\n"
   ]
  },
  {
   "cell_type": "markdown",
   "metadata": {
    "colab_type": "text",
    "id": "GaTsi6XitKtL"
   },
   "source": [
    "## Section 1 - Bad Charts"
   ]
  },
  {
   "cell_type": "markdown",
   "metadata": {
    "colab_type": "text",
    "id": "w_iPdBBQrCZY"
   },
   "source": [
    "### Chart 1\n",
    "\n",
    "Based on the principles discussed in the Visualization Module and the Rules presented, answer each question regarding the following chart:\n",
    "\n",
    "![chart1](http://skepchick.org/wp-content/uploads/2015/06/CNN-weed-chart.jpg)"
   ]
  },
  {
   "cell_type": "markdown",
   "metadata": {
    "colab_type": "text",
    "id": "FZru2ZEKuJ6B"
   },
   "source": [
    "### Question 1.1 \n",
    "\n",
    "What do you think the main message or story of the chart is?"
   ]
  },
  {
   "cell_type": "markdown",
   "metadata": {
    "colab_type": "text",
    "id": "VVYW3Wpduppu"
   },
   "source": [
    "I think the main message of this chart is the percentage of americans who have tried weed in each age group. That is to say, 36% of americans between 18-29 have tried weed, and so on. "
   ]
  },
  {
   "cell_type": "markdown",
   "metadata": {
    "colab_type": "text",
    "id": "8BjuVmb3uqMi"
   },
   "source": [
    "### Question 1.2\n",
    "\n",
    "What are the chief problems with the following chart (what visualization principles does it violate)?"
   ]
  },
  {
   "cell_type": "markdown",
   "metadata": {
    "colab_type": "text",
    "id": "ik3SyueLusdt"
   },
   "source": [
    " - It attempts to use a version of a pie chart, which could be replaced by a bar chart\n",
    " - It does not follow the conventions of pie charts\n",
    " - The data it represents is not actually a whole, but four different distrubtions. We can tell this because the percentages do not add up to 100%.\n",
    " - It uses color unnecessarily"
   ]
  },
  {
   "cell_type": "markdown",
   "metadata": {
    "colab_type": "text",
    "id": "ouFcUNn_usz0"
   },
   "source": [
    "### Question 1.3\n",
    "\n",
    "Present an alternative and describe why it is better (what visualization principles does your version follow)?"
   ]
  },
  {
   "cell_type": "markdown",
   "metadata": {
    "colab_type": "text",
    "id": "ylSBR1qkrCZh"
   },
   "source": [
    "An alternative would be a simple, mono-color bar chart, with each age group along one axis, and the percent that have tried weed in that age group along the other axis. This follows the principle of not using pie charts, not using unnecessary colors, and it won't be misleading the reader in terms of what the data is actually saying. "
   ]
  },
  {
   "cell_type": "code",
   "execution_count": 3,
   "metadata": {
    "colab": {},
    "colab_type": "code",
    "id": "cAeixy7prCZh"
   },
   "outputs": [],
   "source": [
    "import pandas as pd"
   ]
  },
  {
   "cell_type": "code",
   "execution_count": 4,
   "metadata": {},
   "outputs": [
    {
     "data": {
      "text/html": [
       "<div>\n",
       "<style scoped>\n",
       "    .dataframe tbody tr th:only-of-type {\n",
       "        vertical-align: middle;\n",
       "    }\n",
       "\n",
       "    .dataframe tbody tr th {\n",
       "        vertical-align: top;\n",
       "    }\n",
       "\n",
       "    .dataframe thead th {\n",
       "        text-align: right;\n",
       "    }\n",
       "</style>\n",
       "<table border=\"1\" class=\"dataframe\">\n",
       "  <thead>\n",
       "    <tr style=\"text-align: right;\">\n",
       "      <th></th>\n",
       "      <th>Age_group</th>\n",
       "      <th>Percent</th>\n",
       "    </tr>\n",
       "  </thead>\n",
       "  <tbody>\n",
       "    <tr>\n",
       "      <th>0</th>\n",
       "      <td>18-29</td>\n",
       "      <td>36</td>\n",
       "    </tr>\n",
       "    <tr>\n",
       "      <th>1</th>\n",
       "      <td>30-49</td>\n",
       "      <td>49</td>\n",
       "    </tr>\n",
       "    <tr>\n",
       "      <th>2</th>\n",
       "      <td>50-64</td>\n",
       "      <td>44</td>\n",
       "    </tr>\n",
       "    <tr>\n",
       "      <th>3</th>\n",
       "      <td>65+</td>\n",
       "      <td>17</td>\n",
       "    </tr>\n",
       "  </tbody>\n",
       "</table>\n",
       "</div>"
      ],
      "text/plain": [
       "  Age_group  Percent\n",
       "0     18-29       36\n",
       "1     30-49       49\n",
       "2     50-64       44\n",
       "3       65+       17"
      ]
     },
     "execution_count": 4,
     "metadata": {},
     "output_type": "execute_result"
    }
   ],
   "source": [
    "weed = pd.DataFrame(\n",
    "    {\n",
    "        \"Age_group\":[\"18-29\",\"30-49\",\"50-64\",\"65+\"],\n",
    "        \"Percent\":[36,49,44,17]\n",
    "    }\n",
    ")\n",
    "weed"
   ]
  },
  {
   "cell_type": "code",
   "execution_count": 5,
   "metadata": {},
   "outputs": [
    {
     "data": {
      "image/png": "[encoded data removed]",
      "text/plain": [
       "<Figure size 720x432 with 1 Axes>"
      ]
     },
     "metadata": {
      "needs_background": "light"
     },
     "output_type": "display_data"
    }
   ],
   "source": [
    "ax = weed.plot.barh(x = \"Age_group\", figsize = (10,6))\n",
    "ax.set_xlabel(\"Percent\")\n",
    "ax.set_ylabel(\"Age Group\")\n",
    "ax.set_title(\"Percent of Americans Who Have Tried Weed\")\n",
    "ax.get_legend().remove()"
   ]
  },
  {
   "cell_type": "markdown",
   "metadata": {},
   "source": [
    "Now the chart tells the story much more clearly. Each bar clearly represents the percent of Americans in that bin who have tried weed. It is clear that the younger three age groups have all tried weed at at least double the rate of the 65+ group."
   ]
  },
  {
   "cell_type": "markdown",
   "metadata": {
    "colab_type": "text",
    "id": "BNz7APFgrCZm"
   },
   "source": [
    "\n",
    "---\n",
    "\n",
    "### Chart 2\n",
    "\n",
    "Based on the principles discussed in the Visualization Module and the Rules presented, answer each question regarding the following chart:\n",
    "\n",
    "![chart2](http://www.essexrecordofficeblog.co.uk/wp-content/uploads/2015/01/Death-pie-chart.jpg)"
   ]
  },
  {
   "cell_type": "markdown",
   "metadata": {
    "colab_type": "text",
    "id": "Vghcj6caviwE"
   },
   "source": [
    "### Question 1.4 \n",
    "\n",
    "What are the chief problems with the above chart (what visualization principles does it violate)?"
   ]
  },
  {
   "cell_type": "markdown",
   "metadata": {
    "colab_type": "text",
    "id": "jhMl_7PWv0ea"
   },
   "source": [
    "- It is a pie chart. A bar chart is always a better alternative\n",
    "- One of the numbers is -1%, which makes no sense at all\n",
    "- Some color blind issues with green and red next to each other"
   ]
  },
  {
   "cell_type": "markdown",
   "metadata": {
    "colab_type": "text",
    "id": "tP1r2VOgv2oJ"
   },
   "source": [
    "### Question 1.5\n",
    "\n",
    "Present an alternative(s). Make whatever assumptions you need to make but explain them."
   ]
  },
  {
   "cell_type": "markdown",
   "metadata": {
    "colab": {},
    "colab_type": "code",
    "id": "SbD-s89grCZw"
   },
   "source": [
    "A good alternative would be a bar chart. This would allow for a mono-colored chart, with easier to decode comparisons."
   ]
  },
  {
   "cell_type": "code",
   "execution_count": 6,
   "metadata": {
    "colab_type": "text",
    "id": "ErvVwXcYrCZu"
   },
   "outputs": [
    {
     "data": {
      "text/html": [
       "<div>\n",
       "<style scoped>\n",
       "    .dataframe tbody tr th:only-of-type {\n",
       "        vertical-align: middle;\n",
       "    }\n",
       "\n",
       "    .dataframe tbody tr th {\n",
       "        vertical-align: top;\n",
       "    }\n",
       "\n",
       "    .dataframe thead th {\n",
       "        text-align: right;\n",
       "    }\n",
       "</style>\n",
       "<table border=\"1\" class=\"dataframe\">\n",
       "  <thead>\n",
       "    <tr style=\"text-align: right;\">\n",
       "      <th></th>\n",
       "      <th>age_group</th>\n",
       "      <th>percent_of_deaths</th>\n",
       "    </tr>\n",
       "  </thead>\n",
       "  <tbody>\n",
       "    <tr>\n",
       "      <th>0</th>\n",
       "      <td>0-9</td>\n",
       "      <td>41</td>\n",
       "    </tr>\n",
       "    <tr>\n",
       "      <th>1</th>\n",
       "      <td>10-19</td>\n",
       "      <td>5</td>\n",
       "    </tr>\n",
       "    <tr>\n",
       "      <th>2</th>\n",
       "      <td>20-29</td>\n",
       "      <td>13</td>\n",
       "    </tr>\n",
       "    <tr>\n",
       "      <th>3</th>\n",
       "      <td>30-39</td>\n",
       "      <td>8</td>\n",
       "    </tr>\n",
       "    <tr>\n",
       "      <th>4</th>\n",
       "      <td>40-49</td>\n",
       "      <td>4</td>\n",
       "    </tr>\n",
       "    <tr>\n",
       "      <th>5</th>\n",
       "      <td>50-59</td>\n",
       "      <td>6</td>\n",
       "    </tr>\n",
       "    <tr>\n",
       "      <th>6</th>\n",
       "      <td>60-69</td>\n",
       "      <td>5</td>\n",
       "    </tr>\n",
       "    <tr>\n",
       "      <th>7</th>\n",
       "      <td>70-79</td>\n",
       "      <td>10</td>\n",
       "    </tr>\n",
       "    <tr>\n",
       "      <th>8</th>\n",
       "      <td>80-89</td>\n",
       "      <td>8</td>\n",
       "    </tr>\n",
       "    <tr>\n",
       "      <th>9</th>\n",
       "      <td>90-99</td>\n",
       "      <td>1</td>\n",
       "    </tr>\n",
       "  </tbody>\n",
       "</table>\n",
       "</div>"
      ],
      "text/plain": [
       "  age_group  percent_of_deaths\n",
       "0       0-9                 41\n",
       "1     10-19                  5\n",
       "2     20-29                 13\n",
       "3     30-39                  8\n",
       "4     40-49                  4\n",
       "5     50-59                  6\n",
       "6     60-69                  5\n",
       "7     70-79                 10\n",
       "8     80-89                  8\n",
       "9     90-99                  1"
      ]
     },
     "execution_count": 6,
     "metadata": {},
     "output_type": "execute_result"
    }
   ],
   "source": [
    "ages_dict = {\n",
    "    \"0-9\":41, \n",
    "    \"10-19\":5,\n",
    "    \"20-29\":13,\n",
    "    \"30-39\":8,\n",
    "    \"40-49\":4,\n",
    "    \"50-59\":6,\n",
    "    \"60-69\":5,\n",
    "    \"70-79\":10,\n",
    "    \"80-89\":8,\n",
    "    \"90-99\":1,\n",
    "}\n",
    "ages = pd.DataFrame(\n",
    "    {\n",
    "        \"age_group\":list(ages_dict.keys()),\n",
    "        \"percent_of_deaths\":list(ages_dict.values()),\n",
    "    }\n",
    ")\n",
    "ages"
   ]
  },
  {
   "cell_type": "code",
   "execution_count": 7,
   "metadata": {},
   "outputs": [
    {
     "data": {
      "image/png": "[encoded data removed]",
      "text/plain": [
       "<Figure size 720x432 with 1 Axes>"
      ]
     },
     "metadata": {
      "needs_background": "light"
     },
     "output_type": "display_data"
    }
   ],
   "source": [
    "ax = ages.plot.barh(x = \"age_group\", figsize = (10, 6))\n",
    "ax.set_xlabel(\"Percent\")\n",
    "ax.set_ylabel(\"Age Group\")\n",
    "ax.set_title(\"Age at Death in Hatfield Broad Oak 1827-1832\")\n",
    "ax.get_legend().remove()"
   ]
  },
  {
   "cell_type": "markdown",
   "metadata": {},
   "source": [
    "This chart shows the distrubtion of deaths by age group much more clearly. But we can add another plot to make this chart even more informative."
   ]
  },
  {
   "cell_type": "code",
   "execution_count": 8,
   "metadata": {},
   "outputs": [],
   "source": [
    "import matplotlib.pyplot as plt"
   ]
  },
  {
   "cell_type": "code",
   "execution_count": 9,
   "metadata": {},
   "outputs": [
    {
     "data": {
      "text/plain": [
       "Text(0.5, 1.0, 'By Percent of Deaths')"
      ]
     },
     "execution_count": 9,
     "metadata": {},
     "output_type": "execute_result"
    },
    {
     "data": {
      "image/png": "[encoded data removed]",
      "text/plain": [
       "<Figure size 1296x432 with 2 Axes>"
      ]
     },
     "metadata": {
      "needs_background": "light"
     },
     "output_type": "display_data"
    }
   ],
   "source": [
    "fig, (ax1, ax2) = plt.subplots(nrows=1, ncols=2, figsize=(18, 6))\n",
    "fig.suptitle(\"Age at Death in Hatfield Broad Oak 1827-1832\")\n",
    "\n",
    "ax1.barh(ages.age_group, ages.percent_of_deaths)\n",
    "ax1.set_xlabel(\"Percent of Deaths\")\n",
    "ax1.set_ylabel(\"Age Group\")\n",
    "ax1.set_title(\"By Age\")\n",
    "\n",
    "by_pct = ages.sort_values(\"percent_of_deaths\")\n",
    "ax2.barh(by_pct.age_group, by_pct.percent_of_deaths)\n",
    "ax2.set_xlabel(\"Percent of Deaths\")\n",
    "ax2.set_ylabel(\"Age Group\")\n",
    "ax2.set_title(\"By Percent of Deaths\")"
   ]
  },
  {
   "cell_type": "markdown",
   "metadata": {},
   "source": [
    "This set of two subplots gives us two ways of viewing the data:\n",
    "1. Percent of deaths from youngest to oldest\n",
    "1. Percent of deaths by largest percent to smallest\n",
    "\n",
    "One thing that might be an issue, is the potential to accidentally interpret these probabilities incorrectly. These are the probabilities of being in a given age group, given that the person is dead. However, they might be interpreted as a person's probability of dying given their age group, or the joint probability: being in a certain age group and being dead. To properly clarify this, an explanation could be given (as is given here), or by writing $P(age|dead)$ on the plots themselves."
   ]
  },
  {
   "cell_type": "markdown",
   "metadata": {
    "colab_type": "text",
    "id": "q4mZxOJMrCZ0"
   },
   "source": [
    "\n",
    "\n",
    "---\n",
    "\n",
    "\n",
    "\n",
    "## Section 2 - Obtaining and Querying Data\n",
    "\n",
    "In Lab 4, we obtained data from a Wikipedia page. This time we're going to start with a Wikipedia page but obtain and transform the supporting data.\n",
    "\n",
    "**DIRECTIONS:**\n",
    "\n",
    "1. View [Top 100 Contractors of the U.S. federal government](https://en.wikipedia.org/wiki/Top_100_Contractors_of_the_U.S._federal_government).\n",
    "2. If you follow footnote 6, you can obtain the raw data for FY2015 which is an Excel file. The Excel file is divided into tabs. The first tab covers all the Federal government while the remaining tabs cover departments and sub-departments. **We are only interested in departments** which means we don't want spending from the first tab (although you may want the contractor information) and we don't want sub-departments. A department will have a code that ends with \"00\". For example, \"9700\" is the Defense Department but \"9761\" is \"Defense Threat Reduction\". We're not interested in the latter.\n",
    "3. Create a SQLite3 database, `contracts.db`, of the department specific actions (contracts) and dollar amounts. It should have **two** tables. The first, `contractors`, should have an id (as a primary key) and a global_vendor_name (as a varchar). The second, `actions`, should include an id (primary key), department, actions (number of actions), dollars (dollars obligated) and contractor_id as a foreign key to the contractors table. Follow the same pattern as in the Lab. All your database and table creation (DDL) commands will be in `contracts.sql`.\n",
    "4. Reading the Excel file and creating the database should be automated with no cutting and pasting so that you could regenerate the database for a corrected file or for FY2016 (assuming it had the same format). Both `xlrd` and `openpyxl` are included in Anaconda. (Translating the file from .xls to .xlsx *is* permitted but may not be required). Place this \"ETL\" code in a separate `contracts.py` file and include it with your submission.\n",
    "5. After generating the database, connect to it and answer the 3 questions:"
   ]
  },
  {
   "cell_type": "code",
   "execution_count": 10,
   "metadata": {
    "colab": {},
    "colab_type": "code",
    "id": "Sl8Rc5WHrCZ1"
   },
   "outputs": [],
   "source": [
    "import sqlite3"
   ]
  },
  {
   "cell_type": "code",
   "execution_count": 11,
   "metadata": {},
   "outputs": [],
   "source": [
    "conn = sqlite3.connect(\"contracts.db\")\n",
    "cursor = conn.cursor()"
   ]
  },
  {
   "cell_type": "markdown",
   "metadata": {
    "colab_type": "text",
    "id": "5KUq3HfNsCNZ"
   },
   "source": [
    "### Question 2.1\n",
    "\n",
    "What are the total actions and dollars obligated by department?\n",
    "\n"
   ]
  },
  {
   "cell_type": "code",
   "execution_count": 12,
   "metadata": {
    "colab": {},
    "colab_type": "code",
    "id": "SnIBclOltnAF"
   },
   "outputs": [
    {
     "data": {
      "text/html": [
       "<div>\n",
       "<style scoped>\n",
       "    .dataframe tbody tr th:only-of-type {\n",
       "        vertical-align: middle;\n",
       "    }\n",
       "\n",
       "    .dataframe tbody tr th {\n",
       "        vertical-align: top;\n",
       "    }\n",
       "\n",
       "    .dataframe thead th {\n",
       "        text-align: right;\n",
       "    }\n",
       "</style>\n",
       "<table border=\"1\" class=\"dataframe\">\n",
       "  <thead>\n",
       "    <tr style=\"text-align: right;\">\n",
       "      <th></th>\n",
       "      <th>department</th>\n",
       "      <th>actions</th>\n",
       "      <th>dollars</th>\n",
       "    </tr>\n",
       "  </thead>\n",
       "  <tbody>\n",
       "    <tr>\n",
       "      <th>0</th>\n",
       "      <td>EPA (6800)</td>\n",
       "      <td>9115</td>\n",
       "      <td>1.128402e+09</td>\n",
       "    </tr>\n",
       "    <tr>\n",
       "      <th>1</th>\n",
       "      <td>Interior (1400)</td>\n",
       "      <td>8420</td>\n",
       "      <td>2.100327e+09</td>\n",
       "    </tr>\n",
       "    <tr>\n",
       "      <th>2</th>\n",
       "      <td>Housing &amp; Urban Dev (8600)</td>\n",
       "      <td>1084</td>\n",
       "      <td>1.204730e+09</td>\n",
       "    </tr>\n",
       "    <tr>\n",
       "      <th>3</th>\n",
       "      <td>Commerce (1300)</td>\n",
       "      <td>5857</td>\n",
       "      <td>2.115698e+09</td>\n",
       "    </tr>\n",
       "    <tr>\n",
       "      <th>4</th>\n",
       "      <td>Education (9100)</td>\n",
       "      <td>1844</td>\n",
       "      <td>2.567376e+09</td>\n",
       "    </tr>\n",
       "    <tr>\n",
       "      <th>5</th>\n",
       "      <td>Labor (1600)</td>\n",
       "      <td>2429</td>\n",
       "      <td>1.755931e+09</td>\n",
       "    </tr>\n",
       "    <tr>\n",
       "      <th>6</th>\n",
       "      <td>Agriculture (1200)</td>\n",
       "      <td>9621</td>\n",
       "      <td>3.652094e+09</td>\n",
       "    </tr>\n",
       "    <tr>\n",
       "      <th>7</th>\n",
       "      <td>Justice (1500)</td>\n",
       "      <td>47224</td>\n",
       "      <td>5.053252e+09</td>\n",
       "    </tr>\n",
       "    <tr>\n",
       "      <th>8</th>\n",
       "      <td>State (1900)</td>\n",
       "      <td>10355</td>\n",
       "      <td>6.216252e+09</td>\n",
       "    </tr>\n",
       "    <tr>\n",
       "      <th>9</th>\n",
       "      <td>(GSA) 4700</td>\n",
       "      <td>47825</td>\n",
       "      <td>5.961147e+09</td>\n",
       "    </tr>\n",
       "    <tr>\n",
       "      <th>10</th>\n",
       "      <td>Transportation (6900)</td>\n",
       "      <td>8313</td>\n",
       "      <td>4.363787e+09</td>\n",
       "    </tr>\n",
       "    <tr>\n",
       "      <th>11</th>\n",
       "      <td>Treasury (2000)</td>\n",
       "      <td>6171</td>\n",
       "      <td>4.822987e+09</td>\n",
       "    </tr>\n",
       "    <tr>\n",
       "      <th>12</th>\n",
       "      <td>Homeland Security (7000)</td>\n",
       "      <td>13383</td>\n",
       "      <td>8.907804e+09</td>\n",
       "    </tr>\n",
       "    <tr>\n",
       "      <th>13</th>\n",
       "      <td>Health &amp; Human Services (7500)</td>\n",
       "      <td>14107</td>\n",
       "      <td>1.494809e+10</td>\n",
       "    </tr>\n",
       "    <tr>\n",
       "      <th>14</th>\n",
       "      <td>NASA (8000)</td>\n",
       "      <td>15509</td>\n",
       "      <td>1.498400e+10</td>\n",
       "    </tr>\n",
       "    <tr>\n",
       "      <th>15</th>\n",
       "      <td>Energy (8900)</td>\n",
       "      <td>4335</td>\n",
       "      <td>2.394702e+10</td>\n",
       "    </tr>\n",
       "    <tr>\n",
       "      <th>16</th>\n",
       "      <td>Army (2100)</td>\n",
       "      <td>43827</td>\n",
       "      <td>4.491044e+10</td>\n",
       "    </tr>\n",
       "    <tr>\n",
       "      <th>17</th>\n",
       "      <td>Veterans Affairs (3600)</td>\n",
       "      <td>3234826</td>\n",
       "      <td>1.310769e+10</td>\n",
       "    </tr>\n",
       "    <tr>\n",
       "      <th>18</th>\n",
       "      <td>Air Force (5700)</td>\n",
       "      <td>42409</td>\n",
       "      <td>4.218775e+10</td>\n",
       "    </tr>\n",
       "    <tr>\n",
       "      <th>19</th>\n",
       "      <td>Navy (1700)</td>\n",
       "      <td>71527</td>\n",
       "      <td>6.477660e+10</td>\n",
       "    </tr>\n",
       "    <tr>\n",
       "      <th>20</th>\n",
       "      <td>DoD (9700)</td>\n",
       "      <td>7139909</td>\n",
       "      <td>1.751856e+11</td>\n",
       "    </tr>\n",
       "  </tbody>\n",
       "</table>\n",
       "</div>"
      ],
      "text/plain": [
       "                        department  actions       dollars\n",
       "0                       EPA (6800)     9115  1.128402e+09\n",
       "1                  Interior (1400)     8420  2.100327e+09\n",
       "2       Housing & Urban Dev (8600)     1084  1.204730e+09\n",
       "3                  Commerce (1300)     5857  2.115698e+09\n",
       "4                 Education (9100)     1844  2.567376e+09\n",
       "5                     Labor (1600)     2429  1.755931e+09\n",
       "6               Agriculture (1200)     9621  3.652094e+09\n",
       "7                   Justice (1500)    47224  5.053252e+09\n",
       "8                     State (1900)    10355  6.216252e+09\n",
       "9                       (GSA) 4700    47825  5.961147e+09\n",
       "10           Transportation (6900)     8313  4.363787e+09\n",
       "11                 Treasury (2000)     6171  4.822987e+09\n",
       "12        Homeland Security (7000)    13383  8.907804e+09\n",
       "13  Health & Human Services (7500)    14107  1.494809e+10\n",
       "14                     NASA (8000)    15509  1.498400e+10\n",
       "15                   Energy (8900)     4335  2.394702e+10\n",
       "16                     Army (2100)    43827  4.491044e+10\n",
       "17         Veterans Affairs (3600)  3234826  1.310769e+10\n",
       "18                Air Force (5700)    42409  4.218775e+10\n",
       "19                     Navy (1700)    71527  6.477660e+10\n",
       "20                      DoD (9700)  7139909  1.751856e+11"
      ]
     },
     "execution_count": 12,
     "metadata": {},
     "output_type": "execute_result"
    }
   ],
   "source": [
    "cursor.execute(\"SELECT department, sum(actions), sum(dollars) FROM actions GROUP BY department ORDER BY dollars, actions\")\n",
    "totals_by_deparment = cursor.fetchall()\n",
    "totals_by_deparment = pd.DataFrame(totals_by_deparment, columns=[\"department\", \"actions\",\"dollars\"])\n",
    "totals_by_deparment"
   ]
  },
  {
   "cell_type": "code",
   "execution_count": 13,
   "metadata": {},
   "outputs": [
    {
     "data": {
      "text/plain": [
       "Text(0.5, 1.0, 'Total Actions')"
      ]
     },
     "execution_count": 13,
     "metadata": {},
     "output_type": "execute_result"
    },
    {
     "data": {
      "image/png": "[encoded data removed]",
      "text/plain": [
       "<Figure size 720x1080 with 2 Axes>"
      ]
     },
     "metadata": {
      "needs_background": "light"
     },
     "output_type": "display_data"
    }
   ],
   "source": [
    "by_money = totals_by_deparment.sort_values(\"dollars\")\n",
    "by_actions = totals_by_deparment.sort_values(\"actions\")\n",
    "\n",
    "fig, (ax1, ax2) = plt.subplots(nrows=2, ncols=1, figsize=(10, 15))\n",
    "fig.suptitle(\"Department Actions and Dollars Contracted\")\n",
    "\n",
    "ax1.barh(by_money.department, by_money.dollars)\n",
    "ax1.set_xlabel(\"$\")\n",
    "ax1.set_ylabel(\"Department\")\n",
    "ax1.set_title(\"Total Dollars Contracted\")\n",
    "\n",
    "by_pct = ages.sort_values(\"percent_of_deaths\")\n",
    "ax2.barh(by_actions.department, by_actions.actions)\n",
    "ax2.set_xlabel(\"Number of Actions\")\n",
    "ax2.set_ylabel(\"Department\")\n",
    "ax2.set_title(\"Total Actions\")"
   ]
  },
  {
   "cell_type": "markdown",
   "metadata": {},
   "source": [
    "Clearly, the US spends much more on the military than on any other department."
   ]
  },
  {
   "cell_type": "markdown",
   "metadata": {
    "colab_type": "text",
    "id": "AcGvKYYksEaS"
   },
   "source": [
    "### Question 2.2\n",
    "\n",
    "What is Johns Hopkins University's number of actions and dollars by department?"
   ]
  },
  {
   "cell_type": "code",
   "execution_count": 14,
   "metadata": {
    "colab": {},
    "colab_type": "code",
    "id": "QhmDo8NFtn55"
   },
   "outputs": [
    {
     "data": {
      "text/plain": [
       "(663,)"
      ]
     },
     "execution_count": 14,
     "metadata": {},
     "output_type": "execute_result"
    }
   ],
   "source": [
    "# Get JHU's contractor_id from the contractors table\n",
    "cursor.execute(\"SELECT contractor_id FROM contractors WHERE global_vendor_name='JOHNS HOPKINS UNIVERSITY'\")\n",
    "jhu_id = cursor.fetchall()[0]\n",
    "jhu_id"
   ]
  },
  {
   "cell_type": "code",
   "execution_count": 15,
   "metadata": {},
   "outputs": [
    {
     "data": {
      "text/html": [
       "<div>\n",
       "<style scoped>\n",
       "    .dataframe tbody tr th:only-of-type {\n",
       "        vertical-align: middle;\n",
       "    }\n",
       "\n",
       "    .dataframe tbody tr th {\n",
       "        vertical-align: top;\n",
       "    }\n",
       "\n",
       "    .dataframe thead th {\n",
       "        text-align: right;\n",
       "    }\n",
       "</style>\n",
       "<table border=\"1\" class=\"dataframe\">\n",
       "  <thead>\n",
       "    <tr style=\"text-align: right;\">\n",
       "      <th></th>\n",
       "      <th>department</th>\n",
       "      <th>actions</th>\n",
       "      <th>dollars</th>\n",
       "    </tr>\n",
       "  </thead>\n",
       "  <tbody>\n",
       "    <tr>\n",
       "      <th>3</th>\n",
       "      <td>DoD (9700)</td>\n",
       "      <td>1536</td>\n",
       "      <td>7.610237e+08</td>\n",
       "    </tr>\n",
       "    <tr>\n",
       "      <th>0</th>\n",
       "      <td>Navy (1700)</td>\n",
       "      <td>959</td>\n",
       "      <td>5.494998e+08</td>\n",
       "    </tr>\n",
       "    <tr>\n",
       "      <th>2</th>\n",
       "      <td>NASA (8000)</td>\n",
       "      <td>425</td>\n",
       "      <td>2.140475e+08</td>\n",
       "    </tr>\n",
       "    <tr>\n",
       "      <th>1</th>\n",
       "      <td>Health &amp; Human Services (7500)</td>\n",
       "      <td>238</td>\n",
       "      <td>3.896801e+07</td>\n",
       "    </tr>\n",
       "  </tbody>\n",
       "</table>\n",
       "</div>"
      ],
      "text/plain": [
       "                       department  actions       dollars\n",
       "3                      DoD (9700)     1536  7.610237e+08\n",
       "0                     Navy (1700)      959  5.494998e+08\n",
       "2                     NASA (8000)      425  2.140475e+08\n",
       "1  Health & Human Services (7500)      238  3.896801e+07"
      ]
     },
     "execution_count": 15,
     "metadata": {},
     "output_type": "execute_result"
    }
   ],
   "source": [
    "# Get JHU's actions and dollars by department\n",
    "cursor.execute(\"SELECT department, actions, dollars FROM actions WHERE contractor_id=?\", jhu_id)\n",
    "jhu_contracts = cursor.fetchall()\n",
    "jhu_contracts = pd.DataFrame(\n",
    "    jhu_contracts, columns=[\"department\", \"actions\", \"dollars\"]\n",
    ").sort_values([\"dollars\", \"actions\"], ascending=False)\n",
    "jhu_contracts"
   ]
  },
  {
   "cell_type": "code",
   "execution_count": 16,
   "metadata": {},
   "outputs": [
    {
     "data": {
      "text/plain": [
       "Text(0.5, 1.0, 'Total Actions')"
      ]
     },
     "execution_count": 16,
     "metadata": {},
     "output_type": "execute_result"
    },
    {
     "data": {
      "image/png": "[encoded data removed]",
      "text/plain": [
       "<Figure size 720x1080 with 2 Axes>"
      ]
     },
     "metadata": {
      "needs_background": "light"
     },
     "output_type": "display_data"
    }
   ],
   "source": [
    "by_money = jhu_contracts.sort_values(\"dollars\")\n",
    "by_actions = jhu_contracts.sort_values(\"actions\")\n",
    "\n",
    "fig, (ax1, ax2) = plt.subplots(nrows=2, ncols=1, figsize=(10, 15))\n",
    "fig.suptitle(\"Johns Hopkins University Contracts\")\n",
    "\n",
    "ax1.barh(by_money.department, by_money.dollars)\n",
    "ax1.set_xlabel(\"$\")\n",
    "ax1.set_ylabel(\"Department\")\n",
    "ax1.set_title(\"Total Dollars Contracted\")\n",
    "\n",
    "by_pct = ages.sort_values(\"percent_of_deaths\")\n",
    "ax2.barh(by_actions.department, by_actions.actions)\n",
    "ax2.set_xlabel(\"Number of Actions\")\n",
    "ax2.set_ylabel(\"Department\")\n",
    "ax2.set_title(\"Total Actions\")"
   ]
  },
  {
   "cell_type": "markdown",
   "metadata": {
    "colab_type": "text",
    "id": "NyU_5WfCtogR"
   },
   "source": [
    "From these graphs, it is very clear that JHU does a huge amount of work for the Federal US Government, and in particular for the DoD and the Navy. "
   ]
  },
  {
   "cell_type": "markdown",
   "metadata": {
    "colab_type": "text",
    "id": "VhiGBnHLrCZ5"
   },
   "source": [
    "\n",
    "### Question 2.3\n",
    "\n",
    "Determine how many vendors received contracts from 1 department, 2 departments, etc. In other words, I want a table that looks like the following (numbers are absolutely made up):\n",
    "\n",
    "| # Departments | Vendors |\n",
    "|-------------|-----------|\n",
    "| 1           | 1238      |\n",
    "| 2           | 525       |\n",
    "| 3           | 275       |\n",
    "| ...         |           |\n",
    "| n           | 2         |\n",
    "\n",
    "Interpret the first two rows in words. What is the overall story? Now, using *percentages* (instead of these raw counts), make a chart that shows this story using the principles explored in class."
   ]
  },
  {
   "cell_type": "code",
   "execution_count": 17,
   "metadata": {
    "colab": {},
    "colab_type": "code",
    "id": "tKYAFF88rCZ6"
   },
   "outputs": [
    {
     "data": {
      "text/html": [
       "<div>\n",
       "<style scoped>\n",
       "    .dataframe tbody tr th:only-of-type {\n",
       "        vertical-align: middle;\n",
       "    }\n",
       "\n",
       "    .dataframe tbody tr th {\n",
       "        vertical-align: top;\n",
       "    }\n",
       "\n",
       "    .dataframe thead th {\n",
       "        text-align: right;\n",
       "    }\n",
       "</style>\n",
       "<table border=\"1\" class=\"dataframe\">\n",
       "  <thead>\n",
       "    <tr style=\"text-align: right;\">\n",
       "      <th></th>\n",
       "      <th>num_departments</th>\n",
       "    </tr>\n",
       "  </thead>\n",
       "  <tbody>\n",
       "    <tr>\n",
       "      <th>0</th>\n",
       "      <td>1</td>\n",
       "    </tr>\n",
       "    <tr>\n",
       "      <th>1</th>\n",
       "      <td>1</td>\n",
       "    </tr>\n",
       "    <tr>\n",
       "      <th>2</th>\n",
       "      <td>1</td>\n",
       "    </tr>\n",
       "    <tr>\n",
       "      <th>3</th>\n",
       "      <td>1</td>\n",
       "    </tr>\n",
       "    <tr>\n",
       "      <th>4</th>\n",
       "      <td>4</td>\n",
       "    </tr>\n",
       "    <tr>\n",
       "      <th>...</th>\n",
       "      <td>...</td>\n",
       "    </tr>\n",
       "    <tr>\n",
       "      <th>1367</th>\n",
       "      <td>1</td>\n",
       "    </tr>\n",
       "    <tr>\n",
       "      <th>1368</th>\n",
       "      <td>1</td>\n",
       "    </tr>\n",
       "    <tr>\n",
       "      <th>1369</th>\n",
       "      <td>1</td>\n",
       "    </tr>\n",
       "    <tr>\n",
       "      <th>1370</th>\n",
       "      <td>1</td>\n",
       "    </tr>\n",
       "    <tr>\n",
       "      <th>1371</th>\n",
       "      <td>1</td>\n",
       "    </tr>\n",
       "  </tbody>\n",
       "</table>\n",
       "<p>1372 rows × 1 columns</p>\n",
       "</div>"
      ],
      "text/plain": [
       "      num_departments\n",
       "0                   1\n",
       "1                   1\n",
       "2                   1\n",
       "3                   1\n",
       "4                   4\n",
       "...               ...\n",
       "1367                1\n",
       "1368                1\n",
       "1369                1\n",
       "1370                1\n",
       "1371                1\n",
       "\n",
       "[1372 rows x 1 columns]"
      ]
     },
     "execution_count": 17,
     "metadata": {},
     "output_type": "execute_result"
    }
   ],
   "source": [
    "cursor.execute(\"SELECT count(department) FROM actions GROUP BY contractor_id\")\n",
    "num_dep_count = cursor.fetchall()\n",
    "num_dep_count = pd.DataFrame(num_dep_count, columns=[\"num_departments\"])\n",
    "num_dep_count"
   ]
  },
  {
   "cell_type": "code",
   "execution_count": 18,
   "metadata": {},
   "outputs": [
    {
     "data": {
      "text/html": [
       "<div>\n",
       "<style scoped>\n",
       "    .dataframe tbody tr th:only-of-type {\n",
       "        vertical-align: middle;\n",
       "    }\n",
       "\n",
       "    .dataframe tbody tr th {\n",
       "        vertical-align: top;\n",
       "    }\n",
       "\n",
       "    .dataframe thead th {\n",
       "        text-align: right;\n",
       "    }\n",
       "</style>\n",
       "<table border=\"1\" class=\"dataframe\">\n",
       "  <thead>\n",
       "    <tr style=\"text-align: right;\">\n",
       "      <th></th>\n",
       "      <th># Departments</th>\n",
       "      <th>Vendors</th>\n",
       "    </tr>\n",
       "  </thead>\n",
       "  <tbody>\n",
       "    <tr>\n",
       "      <th>0</th>\n",
       "      <td>1</td>\n",
       "      <td>1120</td>\n",
       "    </tr>\n",
       "    <tr>\n",
       "      <th>1</th>\n",
       "      <td>2</td>\n",
       "      <td>122</td>\n",
       "    </tr>\n",
       "    <tr>\n",
       "      <th>2</th>\n",
       "      <td>3</td>\n",
       "      <td>44</td>\n",
       "    </tr>\n",
       "    <tr>\n",
       "      <th>3</th>\n",
       "      <td>4</td>\n",
       "      <td>26</td>\n",
       "    </tr>\n",
       "    <tr>\n",
       "      <th>4</th>\n",
       "      <td>5</td>\n",
       "      <td>13</td>\n",
       "    </tr>\n",
       "    <tr>\n",
       "      <th>5</th>\n",
       "      <td>6</td>\n",
       "      <td>11</td>\n",
       "    </tr>\n",
       "    <tr>\n",
       "      <th>7</th>\n",
       "      <td>7</td>\n",
       "      <td>8</td>\n",
       "    </tr>\n",
       "    <tr>\n",
       "      <th>6</th>\n",
       "      <td>8</td>\n",
       "      <td>9</td>\n",
       "    </tr>\n",
       "    <tr>\n",
       "      <th>11</th>\n",
       "      <td>9</td>\n",
       "      <td>2</td>\n",
       "    </tr>\n",
       "    <tr>\n",
       "      <th>8</th>\n",
       "      <td>10</td>\n",
       "      <td>4</td>\n",
       "    </tr>\n",
       "    <tr>\n",
       "      <th>10</th>\n",
       "      <td>11</td>\n",
       "      <td>3</td>\n",
       "    </tr>\n",
       "    <tr>\n",
       "      <th>12</th>\n",
       "      <td>12</td>\n",
       "      <td>2</td>\n",
       "    </tr>\n",
       "    <tr>\n",
       "      <th>15</th>\n",
       "      <td>13</td>\n",
       "      <td>1</td>\n",
       "    </tr>\n",
       "    <tr>\n",
       "      <th>9</th>\n",
       "      <td>15</td>\n",
       "      <td>3</td>\n",
       "    </tr>\n",
       "    <tr>\n",
       "      <th>13</th>\n",
       "      <td>16</td>\n",
       "      <td>2</td>\n",
       "    </tr>\n",
       "    <tr>\n",
       "      <th>14</th>\n",
       "      <td>17</td>\n",
       "      <td>1</td>\n",
       "    </tr>\n",
       "    <tr>\n",
       "      <th>16</th>\n",
       "      <td>19</td>\n",
       "      <td>1</td>\n",
       "    </tr>\n",
       "  </tbody>\n",
       "</table>\n",
       "</div>"
      ],
      "text/plain": [
       "    # Departments  Vendors\n",
       "0               1     1120\n",
       "1               2      122\n",
       "2               3       44\n",
       "3               4       26\n",
       "4               5       13\n",
       "5               6       11\n",
       "7               7        8\n",
       "6               8        9\n",
       "11              9        2\n",
       "8              10        4\n",
       "10             11        3\n",
       "12             12        2\n",
       "15             13        1\n",
       "9              15        3\n",
       "13             16        2\n",
       "14             17        1\n",
       "16             19        1"
      ]
     },
     "execution_count": 18,
     "metadata": {},
     "output_type": "execute_result"
    }
   ],
   "source": [
    "(\n",
    "    num_dep_count.num_departments.value_counts()\n",
    "    .reset_index()\n",
    "    .rename(columns={\"index\": \"# Departments\", \"num_departments\": \"Vendors\"})\n",
    "    .sort_values(\"# Departments\")\n",
    ")"
   ]
  },
  {
   "cell_type": "markdown",
   "metadata": {
    "colab_type": "text",
    "id": "Gnm6bm85tvjM"
   },
   "source": [
    "The first two rows of the table tell us that by far, the vast majority of vendors only contract with for one department."
   ]
  },
  {
   "cell_type": "code",
   "execution_count": 19,
   "metadata": {},
   "outputs": [],
   "source": [
    "dep_count_final = (\n",
    "    num_dep_count.num_departments.value_counts(normalize=True)\n",
    "    .reset_index()\n",
    "    .rename(columns={\"index\": \"# Departments\", \"num_departments\": \"Vendors\"})\n",
    "    .sort_values(\"# Departments\")\n",
    ")"
   ]
  },
  {
   "cell_type": "code",
   "execution_count": 20,
   "metadata": {},
   "outputs": [
    {
     "data": {
      "image/png": "[encoded data removed]",
      "text/plain": [
       "<Figure size 1296x432 with 1 Axes>"
      ]
     },
     "metadata": {
      "needs_background": "light"
     },
     "output_type": "display_data"
    }
   ],
   "source": [
    "ax = dep_count_final.plot.bar(x = \"# Departments\", figsize = (18, 6), rot=0)\n",
    "ax.set_ylabel(\"Percent of Vendors\")\n",
    "ax.set_title(\"Number of Departments Vendors Contract With\")\n",
    "ax.get_legend().remove()"
   ]
  },
  {
   "cell_type": "markdown",
   "metadata": {},
   "source": [
    "This chart tells a very clear story: the vast majority of vendors only contract with a single department of the federal government. "
   ]
  },
  {
   "cell_type": "markdown",
   "metadata": {
    "colab_type": "text",
    "id": "x6duTZH7xnCE"
   },
   "source": [
    "\n",
    "\n",
    "---\n",
    "\n",
    "**CHECK LIST**\n",
    "\n",
    "Before you submit this assignent, go back and review the directions to ensure that you have followed each instruction.\n",
    "\n",
    "\n",
    "\n",
    "*   Have you completed every section and answered every question asked?\n",
    "*   For every question, have you described your approach and explained your results?\n",
    "*   Have you checked for spelling and grammar errors?\n",
    "*   Are your code blocks free of any errors?\n",
    "*   Have you *SAVED* your notebook?\n",
    "\n"
   ]
  }
 ],
 "metadata": {
  "colab": {
   "name": "Problem Set 2.ipynb",
   "provenance": [],
   "toc_visible": true
  },
  "kernelspec": {
   "display_name": "Python (en685648)",
   "language": "python",
   "name": "en685648"
  },
  "language_info": {
   "codemirror_mode": {
    "name": "ipython",
    "version": 3
   },
   "file_extension": ".py",
   "mimetype": "text/x-python",
   "name": "python",
   "nbconvert_exporter": "python",
   "pygments_lexer": "ipython3",
   "version": "3.7.7"
  },
  "toc": {
   "colors": {
    "hover_highlight": "#DAA520",
    "navigate_num": "#000000",
    "navigate_text": "#333333",
    "running_highlight": "#FF0000",
    "selected_highlight": "#FFD700",
    "sidebar_border": "#EEEEEE",
    "wrapper_background": "#FFFFFF"
   },
   "moveMenuLeft": true,
   "nav_menu": {
    "height": "99px",
    "width": "252px"
   },
   "navigate_menu": true,
   "number_sections": true,
   "sideBar": true,
   "threshold": 4,
   "toc_cell": false,
   "toc_section_display": "block",
   "toc_window_display": false,
   "widenNotebook": false
  }
 },
 "nbformat": 4,
 "nbformat_minor": 4
}
