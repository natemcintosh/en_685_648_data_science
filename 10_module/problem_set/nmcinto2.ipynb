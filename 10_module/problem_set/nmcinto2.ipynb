{
 "cells": [
  {
   "cell_type": "code",
   "execution_count": 1,
   "metadata": {
    "colab": {},
    "colab_type": "code",
    "id": "HBi9tJ7G5d5S"
   },
   "outputs": [],
   "source": [
    "%matplotlib inline"
   ]
  },
  {
   "cell_type": "code",
   "execution_count": 2,
   "metadata": {
    "colab": {},
    "colab_type": "code",
    "id": "IxKx8NRG5d5h"
   },
   "outputs": [],
   "source": [
    "import numpy as np\n",
    "import time\n",
    "import seaborn as sns\n",
    "import matplotlib.pyplot as plt\n",
    "import scipy.stats as stats\n",
    "\n",
    "sns.set(style=\"whitegrid\")\n",
    "np.set_printoptions(precision=4)"
   ]
  },
  {
   "cell_type": "markdown",
   "metadata": {
    "colab_type": "text",
    "id": "iCsKNn1J5d5v"
   },
   "source": [
    "# Problem Set 4\n",
    "\n",
    "## Directions\n",
    "\n",
    "1. Show all work/steps/calculations using a combination of code and Markdown. You will submit only this notebook named: [jhed_id].ipynb back to Blackboard from whence you downloaded it. Do not return the data to me.\n",
    "2. **All** work is to be your own. This is not a group project. You may, however, use code from the lectures and labs. Provide citations for any code that is not your own. You may also consult Stackoverflow, etc. This is not by any means \"closed book\" or anything like that. Basically, I need to see if *you* learned the concepts from the Lectures, *Fundamentals*, and Labs.\n",
    "3. Add whatever markdown or code cells you need in each part to explain and calculate your answers. Don't just provide answers but explain them as well. **Explain and interpret your results.**"
   ]
  },
  {
   "cell_type": "markdown",
   "metadata": {
    "colab_type": "text",
    "id": "_Wq-7RA05d5x"
   },
   "source": [
    "## Introduction\n",
    "\n",
    "Lab 7 was all about statistical inference, specifically, Bayesian statistical inference. \n",
    "\n",
    "**You *must* use Bayesian inference on four  problems for this Problem Set. Specifically, you must use the Non-Parametric Bootstrap to estimate posterior distributions.** We do not want to see p-values or confidence intervals **at all.** No Frequentist inference.\n",
    "\n",
    "The problems are designed to get progressively more difficult.\n",
    "\n",
    "* <a href=\"#q1\">Problem 1<a>\n",
    "* <a href=\"#q2\">Problem 2<a>\n",
    "* <a href=\"#q3\">Problem 3<a>\n",
    "* <a href=\"#q4\">Problem 4<a> \n",
    "  \n",
    "You can add more cells (markdown/code) but do not change the labeling or ordering of the existing cells."
   ]
  },
  {
   "cell_type": "markdown",
   "metadata": {
    "colab_type": "text",
    "id": "QgjG4ntn5d6Q"
   },
   "source": [
    "<a id=\"q1\"></a>\n",
    "## Problem 1\n",
    "---\n",
    "\n",
    "\n",
    "You recently surveyed your customers in a marketing campaign to determine if they would be willing to switch from emails to text alerts. You have previously broken your customers into two groups \"Beer\" lovers and \"Wine\" lovers.\n",
    "\n",
    "The results are below:\n",
    "\n",
    "```\n",
    "                        Response\n",
    "                        No   Yes  Total\n",
    "       Segments    Wine  18  82  100\n",
    "                   Beer  53  47  100\n",
    "                   Total 71 129  200\n",
    "```\n",
    "As you analyze the data, you note that the overall percentage of customers who would be willing to get text messages instead of 64.5% (129/200). Engineering and Marketing have established that in order for the switch (from email to SMS texts) to be cost effective, the proportion of customers will to switch had to be at least 60%.\n",
    "\n",
    "Because 64.5% is greater than 60.0%, the results of the survey are interesting (\"meaningful\") but how believable are they?\n"
   ]
  },
  {
   "cell_type": "markdown",
   "metadata": {
    "colab_type": "text",
    "id": "qj3OvlLc79EE"
   },
   "source": [
    "### Problem 1.1\n",
    "\n",
    "Let $\\theta$ be the percent of the total that responded yes, estimate the posterior distribution of P($\\theta$|Data)."
   ]
  },
  {
   "cell_type": "markdown",
   "metadata": {
    "colab": {},
    "colab_type": "code",
    "id": "K9bVo09R5d6R"
   },
   "source": [
    "We can bootstrap this data by modeling it as a Bernoulli process. As Lab 7 says:\n",
    "\n",
    "> We want to know all the values that are supported by the data we collected and the degree to which they are supported...how confident we are in them. This is basically what we get when we calculate a posterior distribution over $\\theta$ based on the data.\n",
    "\n",
    "To do this, we will create the data seen in the table above, and carry out non-parametric bootstrap to estimate the posterior of $P(\\theta | data)$.\n",
    "\n",
    "1. Create the data seen in the table"
   ]
  },
  {
   "cell_type": "code",
   "execution_count": 3,
   "metadata": {},
   "outputs": [],
   "source": [
    "drinkers = np.array(([0]*18 + [0]*53 + [1]*82 + [1]*47))"
   ]
  },
  {
   "cell_type": "markdown",
   "metadata": {},
   "source": [
    "2. Set up and run a bootstrap"
   ]
  },
  {
   "cell_type": "code",
   "execution_count": 4,
   "metadata": {},
   "outputs": [],
   "source": [
    "def bootstrap_sample(data, f, n=100):\n",
    "    m = len(data)\n",
    "    return np.array(\n",
    "        [f(np.random.choice(data, len(data), replace=True)) for _ in range(n)]\n",
    "    )"
   ]
  },
  {
   "cell_type": "code",
   "execution_count": 5,
   "metadata": {},
   "outputs": [],
   "source": [
    "np.random.seed(100)\n",
    "drinkers_posterior = bootstrap_sample(drinkers, np.mean, 500)"
   ]
  },
  {
   "cell_type": "markdown",
   "metadata": {},
   "source": [
    "We have now estimated the posterior distribution; let's plot it."
   ]
  },
  {
   "cell_type": "code",
   "execution_count": 6,
   "metadata": {},
   "outputs": [],
   "source": [
    "def plot_posterior(posterior):\n",
    "    figure = plt.figure(figsize=(10, 6)) # first element is width, second is height.\n",
    "\n",
    "    axes = figure.add_subplot(1, 1, 1)\n",
    "\n",
    "    axes.hist( posterior, density = True)\n",
    "    axes.set_ylabel( \"Density\")\n",
    "    axes.set_xlabel( \"$\\hat{\\\\theta}$\")\n",
    "    axes.set_title( \"Posterior Distribution of $\\hat{\\\\theta}$\")\n",
    "\n",
    "    plt.show()\n",
    "    plt.close()"
   ]
  },
  {
   "cell_type": "code",
   "execution_count": 7,
   "metadata": {},
   "outputs": [
    {
     "data": {
      "image/png": "[encoded data removed]",
      "text/plain": [
       "<Figure size 720x432 with 1 Axes>"
      ]
     },
     "metadata": {},
     "output_type": "display_data"
    }
   ],
   "source": [
    "plot_posterior(drinkers_posterior)"
   ]
  },
  {
   "cell_type": "markdown",
   "metadata": {},
   "source": [
    "This posterior certainly has a normal shape. It extends from about 0.575 to 0.75. Let's get some more information from it."
   ]
  },
  {
   "cell_type": "markdown",
   "metadata": {
    "colab_type": "text",
    "id": "8Pn2gdi58F33"
   },
   "source": [
    "### Problem 1.2\n",
    "\n",
    "What is the 95% credible interval for $\\theta$? Interpret it."
   ]
  },
  {
   "cell_type": "markdown",
   "metadata": {},
   "source": [
    "To calculate the 95% Bayesian Credible Interval (BCI), we can go straight to the data"
   ]
  },
  {
   "cell_type": "code",
   "execution_count": 8,
   "metadata": {},
   "outputs": [
    {
     "data": {
      "text/plain": [
       "array([0.5795, 0.7105])"
      ]
     },
     "execution_count": 8,
     "metadata": {},
     "output_type": "execute_result"
    }
   ],
   "source": [
    "stats.mstats.mquantiles(drinkers_posterior, [0.025, 0.975])"
   ]
  },
  {
   "cell_type": "markdown",
   "metadata": {},
   "source": [
    "There is a 95% percent chance that the proportion of customers who are willing to switch to text messages, $\\theta$, is between 57.95% and 71.05%"
   ]
  },
  {
   "cell_type": "markdown",
   "metadata": {},
   "source": [
    "### Problem 1.3\n",
    "\n",
    "Because the threshold was set at 60%, any percentage 60% or greater is \"practically equivalent\" (we don't care how far above 60% it is as long as it's at least 60%). What is the probability of this ROPE? Interpret your result."
   ]
  },
  {
   "cell_type": "code",
   "execution_count": 9,
   "metadata": {},
   "outputs": [
    {
     "data": {
      "text/plain": [
       "0.898"
      ]
     },
     "execution_count": 9,
     "metadata": {},
     "output_type": "execute_result"
    }
   ],
   "source": [
    "(drinkers_posterior > 0.60).mean()"
   ]
  },
  {
   "cell_type": "markdown",
   "metadata": {},
   "source": [
    "The probability that the data supports this ROPE (60% or greater) is 89.8%. "
   ]
  },
  {
   "cell_type": "markdown",
   "metadata": {},
   "source": [
    "### Problem 1.4\n",
    "\n",
    "Even though the overall results appear to be satisfactory, Marketing is concerned we may lose Beer drinkers (ie, they believe the 53% \"no\" is meaningful). To what degree is the result believable for Beer drinkers. Discuss your results."
   ]
  },
  {
   "cell_type": "markdown",
   "metadata": {},
   "source": [
    "We are being asked to look more specifically at the beer drinkers, so let's create a dataset just for them."
   ]
  },
  {
   "cell_type": "code",
   "execution_count": 10,
   "metadata": {},
   "outputs": [],
   "source": [
    "beer_drinkers = np.array(([0]*53 + [1]*47))"
   ]
  },
  {
   "cell_type": "markdown",
   "metadata": {},
   "source": [
    "Now, we can carry out non-parametric bootstrapping to estimate the posterior, and decide to what degree the result for beer drinkers is believable."
   ]
  },
  {
   "cell_type": "code",
   "execution_count": 11,
   "metadata": {},
   "outputs": [],
   "source": [
    "np.random.seed(100)\n",
    "beer_posterior = bootstrap_sample(beer_drinkers, np.mean, 500)"
   ]
  },
  {
   "cell_type": "code",
   "execution_count": 12,
   "metadata": {},
   "outputs": [
    {
     "data": {
      "image/png": "[encoded data removed]",
      "text/plain": [
       "<Figure size 720x432 with 1 Axes>"
      ]
     },
     "metadata": {},
     "output_type": "display_data"
    }
   ],
   "source": [
    "plot_posterior(beer_posterior)"
   ]
  },
  {
   "cell_type": "markdown",
   "metadata": {},
   "source": [
    "We now have an estimated posterior of responses from the beer drinkers, and can start asking questions. For instance, what is the 95% percent BCI for this data?"
   ]
  },
  {
   "cell_type": "code",
   "execution_count": 13,
   "metadata": {},
   "outputs": [
    {
     "data": {
      "text/plain": [
       "array([0.37, 0.57])"
      ]
     },
     "execution_count": 13,
     "metadata": {},
     "output_type": "execute_result"
    }
   ],
   "source": [
    "stats.mstats.mquantiles(beer_posterior, [0.025, 0.975])"
   ]
  },
  {
   "cell_type": "markdown",
   "metadata": {},
   "source": [
    "There is a 95% probability that the true \"yes\" rate for beer drinkers is between 37% and 57%. \n",
    "\n",
    "Let's also calculate it in terms of our ROPE of 60% or higher"
   ]
  },
  {
   "cell_type": "code",
   "execution_count": 14,
   "metadata": {},
   "outputs": [
    {
     "data": {
      "text/plain": [
       "0.002"
      ]
     },
     "execution_count": 14,
     "metadata": {},
     "output_type": "execute_result"
    }
   ],
   "source": [
    "(beer_posterior > 0.60).mean()"
   ]
  },
  {
   "cell_type": "markdown",
   "metadata": {},
   "source": [
    "There is only a 0.2% probability that the beer drinkers actually have a \"yes\" rate of $\\ge$60%, so Marketing probably should be concerned about losing beer drinkers."
   ]
  },
  {
   "cell_type": "markdown",
   "metadata": {
    "colab_type": "text",
    "id": "LiL5IHrB5d58"
   },
   "source": [
    "<a id=\"q2\"></a>\n",
    "## Problem 2\n",
    "\n",
    "---\n",
    "\n",
    "Fifteen volunteers were put on the Supper Dooper Human Kibble Diet(tm) for a month. They were weighed at the start and again after 30 days. Thus you can take `data1[\"start\"][0]` and `data1[\"end\"][0]` to be the weight of the same person with the first measurement at the start and the second measurement at the end of 30 days, etc. Thus, the people in \"start\" and the people in \"end\" *are* the same.\n",
    "\n",
    "The makers of The Super Dooper Human Kibble Diet(tm) are anxious to see the results of this study because they are planning to offer a money back guarantee of \"Lose at least 10 Pounds in 30 days or your money back!\"\n",
    "\n",
    "First, make very sure you're clear on what this question is really asking...there's two ways to interpret it and only one is right. \n",
    "\n",
    "Based on the data, answer the following questions:"
   ]
  },
  {
   "cell_type": "code",
   "execution_count": 15,
   "metadata": {
    "colab": {},
    "colab_type": "code",
    "id": "Bh0ty81u5d5-"
   },
   "outputs": [],
   "source": [
    "data2 = {}\n",
    "data2[\"start\"] = [129, 174, 200, 229, 205, 133, 143, 222, 161, 201, 194, 181, 185, 126, 212]\n",
    "data2[\"end\"]   = [134, 171, 190, 227, 206, 130, 129, 218, 138, 187, 191, 177, 183, 124, 205]"
   ]
  },
  {
   "cell_type": "markdown",
   "metadata": {
    "colab_type": "text",
    "id": "ydBnQj_Z6ull"
   },
   "source": [
    "### Problem 2.1\n",
    "\n",
    "What is the probability that Super Dooper Human Kibble can make this claim (ie, how believable is it)?"
   ]
  },
  {
   "cell_type": "markdown",
   "metadata": {
    "colab": {},
    "colab_type": "code",
    "id": "onuEkkBX7Dnc"
   },
   "source": [
    "Super Dooper Human Kibble Diet wants to claim that you will lose at least 10 pounds in 30 days. Hence, to carry out bootstraping on this data, what we need to do is first take the difference, and then bootstrap the differences. If we bootstrap the before and after weights, someone who satrted at 200lbs might be matched with someone who started at 110lbs, and the difference would make no sense. What we're really interested in is the differences. "
   ]
  },
  {
   "cell_type": "code",
   "execution_count": 16,
   "metadata": {
    "colab_type": "text",
    "id": "JeON0Rkr7EBc"
   },
   "outputs": [],
   "source": [
    "weights_diff = np.array(data2[\"start\"]) - np.array(data2[\"end\"])"
   ]
  },
  {
   "cell_type": "code",
   "execution_count": 17,
   "metadata": {},
   "outputs": [],
   "source": [
    "weights_posterior = bootstrap_sample(weights_diff, np.mean, n = 1_000)"
   ]
  },
  {
   "cell_type": "code",
   "execution_count": 18,
   "metadata": {},
   "outputs": [
    {
     "data": {
      "image/png": "[encoded data removed]",
      "text/plain": [
       "<Figure size 720x432 with 1 Axes>"
      ]
     },
     "metadata": {},
     "output_type": "display_data"
    }
   ],
   "source": [
    "plot_posterior(weights_posterior)"
   ]
  },
  {
   "cell_type": "markdown",
   "metadata": {},
   "source": [
    "We have now generated a posterior of the weight differences. Now that we have this data, we can start to answer more detailed questions, like what is the probability that they can make this claim?"
   ]
  },
  {
   "cell_type": "code",
   "execution_count": 19,
   "metadata": {},
   "outputs": [
    {
     "data": {
      "text/plain": [
       "0.014"
      ]
     },
     "execution_count": 19,
     "metadata": {},
     "output_type": "execute_result"
    }
   ],
   "source": [
    "(weights_posterior >= 10).mean()"
   ]
  },
  {
   "cell_type": "markdown",
   "metadata": {},
   "source": [
    "There is a 1.4% probability that the Super Dooper Human Kibble Diet (TM) will make you lose 10 pounds in 30 days. In other words, it is not a very believable claim."
   ]
  },
  {
   "cell_type": "markdown",
   "metadata": {
    "colab_type": "text",
    "id": "pEqdEI486woa"
   },
   "source": [
    "### Problem 2.2\n",
    "\n",
    "How likely is it that the diet doesn't work at all (zero weight loss? How would you define that? Assume that your weight fluctuates about 5 pounds around your \"true\" weight."
   ]
  },
  {
   "cell_type": "markdown",
   "metadata": {
    "colab": {},
    "colab_type": "code",
    "id": "geEuuGZz7FwX"
   },
   "source": [
    "Assuming that the phrase \"fluctuates about 5 pounds around your true weight\" means true weight plus or minus 2.5 pounds. This means that zero weight loss means that the difference has an absolute value of 2.5. Hence, we can see what percent of cases there are with an absolute difference within 2.5 pounds."
   ]
  },
  {
   "cell_type": "code",
   "execution_count": 20,
   "metadata": {},
   "outputs": [
    {
     "data": {
      "text/plain": [
       "0.023"
      ]
     },
     "execution_count": 20,
     "metadata": {},
     "output_type": "execute_result"
    }
   ],
   "source": [
    "(np.abs(weights_posterior) <= 2.5).mean()"
   ]
  },
  {
   "cell_type": "markdown",
   "metadata": {
    "colab_type": "text",
    "id": "jiC8ZcoO7GAZ"
   },
   "source": [
    "Assuming that measured weight is true weight plus or minus 2.5 pounds pounds (for a total of 5 pound fluctuation), there is a 2.3% chance that the diet causes no weight loss."
   ]
  },
  {
   "cell_type": "markdown",
   "metadata": {},
   "source": [
    "### Problem 2.3\n",
    "\n",
    "How likely is it that you actually gain weight under the diet? Again, assume that your weight fluctuates about 5 pounds around your your \"true\" weight (both over and under, evenly)."
   ]
  },
  {
   "cell_type": "markdown",
   "metadata": {},
   "source": [
    "Using the same definition as in 2.2, we want to know what is the probability that the difference is $\\le -2.5$ pounds"
   ]
  },
  {
   "cell_type": "code",
   "execution_count": 21,
   "metadata": {},
   "outputs": [
    {
     "data": {
      "text/plain": [
       "0.0"
      ]
     },
     "execution_count": 21,
     "metadata": {},
     "output_type": "execute_result"
    }
   ],
   "source": [
    "(weights_posterior <= -2.5).mean()"
   ]
  },
  {
   "cell_type": "markdown",
   "metadata": {},
   "source": [
    "The probability that the diet causes you to gain weight is negligibly small. "
   ]
  },
  {
   "cell_type": "markdown",
   "metadata": {
    "colab_type": "text",
    "id": "-rVM2R3b6yx7"
   },
   "source": [
    "### Problem 2.4\n",
    "\n",
    "The Lawyers and Accountants have re-crunched the numbers and the legal terms. If the diet doesn't \"work\" for 10 pounds, what value (threshold) will the diet work for at least 66% of the time? That is, what value can we substitute for \"10 pounds\" in our money back guarantee that will be true at least 66% of the time?"
   ]
  },
  {
   "cell_type": "markdown",
   "metadata": {},
   "source": [
    "To answer this question, let's look at the distribution of our posterior again"
   ]
  },
  {
   "cell_type": "code",
   "execution_count": 22,
   "metadata": {},
   "outputs": [
    {
     "data": {
      "image/png": "[encoded data removed]",
      "text/plain": [
       "<Figure size 720x432 with 1 Axes>"
      ]
     },
     "metadata": {},
     "output_type": "display_data"
    }
   ],
   "source": [
    "plot_posterior(weights_posterior)"
   ]
  },
  {
   "cell_type": "markdown",
   "metadata": {},
   "source": [
    "The definition of \"work\" for a diet means losing at *least* X amount. So in this case, we want the value and everything to the right to make up 66%. To get this, we ask for the 34th percentile, which gives us 66% of the data to the right."
   ]
  },
  {
   "cell_type": "code",
   "execution_count": 23,
   "metadata": {
    "colab": {},
    "colab_type": "code",
    "id": "y3W2M-wO7Hys"
   },
   "outputs": [
    {
     "data": {
      "text/plain": [
       "array([4.8667])"
      ]
     },
     "execution_count": 23,
     "metadata": {},
     "output_type": "execute_result"
    }
   ],
   "source": [
    "stats.mstats.mquantiles(weights_posterior, [0.34])"
   ]
  },
  {
   "cell_type": "markdown",
   "metadata": {
    "colab_type": "text",
    "id": "V3Dz7NYk7IKb"
   },
   "source": [
    "We should substitue 4.87 pounds as the new money back guarantee. The diet should cause you to lose at least 4.87 pounds, 66% of the time. "
   ]
  },
  {
   "cell_type": "markdown",
   "metadata": {
    "colab_type": "text",
    "id": "CPgOzkuR5d6H"
   },
   "source": [
    "<a id=\"q3\"></a>\n",
    "## Problem 3\n",
    "\n",
    "---\n",
    "\n",
    "The Data Science Team at Acme Company has developed a new engagement algorithm they believe will be more effective than the current one. To test the new algorithm they conducted an A/B test for two groups of 100 users each, selected at random, over a week. \n",
    "\n",
    "In order for the change to be cost effective, visitors need to spend at least 5 minutes more per week on the website under the new algorithm.\n",
    "\n",
    "The data is provided below (the people in \"old\" and the people in \"new\" are *not* the same)."
   ]
  },
  {
   "cell_type": "code",
   "execution_count": 24,
   "metadata": {
    "colab": {},
    "colab_type": "code",
    "id": "QOg3cLjl5d6I"
   },
   "outputs": [],
   "source": [
    "data3 = {}\n",
    "data3[\"old\"] = [161, 184, 138, 178, 188, 175, 195, 214, 183, 184, 195, 196, 150, 206, 185, 202, 216, 186, 153, 174, 217, 217, 178, 172, 205, 192, 172, 222, 197, 174, 163, 206, 176, 176, 230, 202, 267, 186, 190, 200, 182, 160, 225, 185, 205, 213, 189, 171, 166, 239, 170, 198, 198, 198, 211, 194, 197, 212, 194, 236, 163, 218, 221, 189, 182, 182, 202, 172, 165, 180, 214, 186, 191, 179, 191, 204, 209, 212, 141, 188, 193, 192, 185, 199, 144, 146, 231, 201, 177, 191, 197, 182, 174, 231, 202, 195, 161, 187, 181, 186]\n",
    "data3[\"new\"] = [196, 245, 196, 243, 181, 161, 173, 151, 148, 195, 247, 164, 167, 234, 200, 215, 204, 190, 148, 127, 174, 135, 231, 199, 125, 138, 140, 206, 139, 177, 260, 231, 173, 172, 178, 224, 186, 115, 144, 222, 189, 107, 239, 124, 216, 169, 212, 262, 145, 221, 179, 192, 142, 232, 171, 233, 287, 216, 188, 156, 169, 238, 128, 155, 202, 174, 229, 198, 192, 169, 156, 238, 178, 220, 177, 191, 234, 251, 166, 123, 144, 127, 203, 230, 203, 188, 185, 255, 239, 227, 173, 196, 208, 236, 194, 204, 217, 252, 169, 166]"
   ]
  },
  {
   "cell_type": "markdown",
   "metadata": {
    "colab_type": "text",
    "id": "u0Z4fHQ_7Z8s"
   },
   "source": [
    "Based on the data, fully analyze the A/B test. You will be graded on the completeness and thoroughness of your analysis. You should make sure you include:\n",
    "\n",
    "1. BCI\n",
    "2. ROPE\n",
    "3. ?"
   ]
  },
  {
   "cell_type": "markdown",
   "metadata": {
    "colab_type": "text",
    "id": "Ho9Ex5-z7jXn"
   },
   "source": [
    "### Problem 3.1\n",
    "\n",
    "Calculate the 95% BCI and interpret it."
   ]
  },
  {
   "cell_type": "markdown",
   "metadata": {
    "colab": {},
    "colab_type": "code",
    "id": "ArMhVBx67lOi"
   },
   "source": [
    "To begin, we need to create a posterior estimate. We will do this with the non-paramentric bootstrap"
   ]
  },
  {
   "cell_type": "code",
   "execution_count": 25,
   "metadata": {},
   "outputs": [],
   "source": [
    "old_posterior = bootstrap_sample(data3[\"old\"], np.mean, 1_000)\n",
    "new_posterior = bootstrap_sample(data3[\"new\"], np.mean, 1_000)\n",
    "difference_posterior = old_posterior - new_posterior"
   ]
  },
  {
   "cell_type": "code",
   "execution_count": 26,
   "metadata": {},
   "outputs": [
    {
     "data": {
      "image/png": "[encoded data removed]",
      "text/plain": [
       "<Figure size 1440x432 with 3 Axes>"
      ]
     },
     "metadata": {},
     "output_type": "display_data"
    }
   ],
   "source": [
    "figure = plt.figure(figsize=(20, 6)) # first element is width, second is height.\n",
    "\n",
    "ax1 = figure.add_subplot(1, 3, 1)\n",
    "\n",
    "ax1.hist( old_posterior, density=True)\n",
    "ax1.set_ylabel( \"Density\")\n",
    "ax1.set_xlabel( \"$\\hat{\\\\theta}_{old}$\")\n",
    "ax1.set_title( \"Posterior Distribution of Time Spent on Website - $\\hat{\\\\theta}_{old}$ \")\n",
    "\n",
    "ax2 = figure.add_subplot(1, 3, 2, sharex = ax1, sharey = ax1)\n",
    "ax2.hist( new_posterior, density=True)\n",
    "ax2.set_ylabel( \"Density\")\n",
    "ax2.set_xlabel( \"$\\hat{\\\\theta}_{new}$\")\n",
    "ax2.set_title( \"Posterior Distribution of Time Spent on Website - $\\hat{\\\\theta}_{new}$\")\n",
    "\n",
    "ax3 = figure.add_subplot(1, 3, 3, sharey = ax1)\n",
    "ax3.hist( difference_posterior, density=True)\n",
    "ax3.set_ylabel( \"Density\")\n",
    "ax3.set_xlabel( \"difference in $\\hat{\\\\theta}$\")\n",
    "ax3.set_title( \"Posterior Distribution of Difference in $\\hat{\\\\theta}$s\")\n",
    "\n",
    "plt.show()\n",
    "plt.close()"
   ]
  },
  {
   "cell_type": "markdown",
   "metadata": {},
   "source": [
    "From the plots here, we can start to get some idea of how the two posteriors interact. The two seem to have similar means. However, the new algorithm seems to have a greater spread of data than the old algorithm. This does not bode well, since the whole point of the new algorithm is to get more people to spend more time on the website. \n",
    "\n",
    "Now let's investigate the 95% BCIs for all three distributions"
   ]
  },
  {
   "cell_type": "code",
   "execution_count": 27,
   "metadata": {},
   "outputs": [
    {
     "name": "stdout",
     "output_type": "stream",
     "text": [
      "95% BCI for old alorithm's theta: [186.4862 195.45  ]\n",
      "95% BCI for new alorithm's theta: [183.1645 197.8995]\n",
      "95% BCI for difference: [-7.8176  9.6879]\n"
     ]
    }
   ],
   "source": [
    "print(\"95% BCI for old alorithm's theta:\", stats.mstats.mquantiles(old_posterior       , [0.025, 0.975]))\n",
    "print(\"95% BCI for new alorithm's theta:\", stats.mstats.mquantiles(new_posterior       , [0.025, 0.975]))\n",
    "print(\"95% BCI for difference:\"          , stats.mstats.mquantiles(difference_posterior, [0.025, 0.975]))"
   ]
  },
  {
   "cell_type": "markdown",
   "metadata": {},
   "source": [
    "This tells us the following:\n",
    "\n",
    "- With the old algorithm, there is a 95% chance a visitor spends between 186.4 and 195.4 minutes per week on the website\n",
    "- With the new algorithm, there is a 95% chance a visitor spends between 182.9 and 197.2 minutes per week on the website\n",
    "- There is a 95% probability that the difference between the time spent per week with the old and new algorithm is between -7.6 minutes and 9.5 minutes"
   ]
  },
  {
   "cell_type": "markdown",
   "metadata": {
    "colab_type": "text",
    "id": "Z0oEGU9C7lnj"
   },
   "source": [
    "### Problem 3.2\n",
    "\n",
    "Calculate the ROPE and interpret it."
   ]
  },
  {
   "cell_type": "markdown",
   "metadata": {},
   "source": [
    "With the requirement of\n",
    "\n",
    "> In order for the change to be cost effective, visitors need to spend at least 5 minutes more per week on the website under the new algorithm.\n",
    "\n",
    "I would say that a reasonable ROPE is the region of five or more minutes spent on the site. Since our difference is old - new, we are actually looking for times of -5 or less"
   ]
  },
  {
   "cell_type": "code",
   "execution_count": 28,
   "metadata": {},
   "outputs": [
    {
     "data": {
      "text/plain": [
       "0.116"
      ]
     },
     "execution_count": 28,
     "metadata": {},
     "output_type": "execute_result"
    }
   ],
   "source": [
    "(difference_posterior <= -5).mean()"
   ]
  },
  {
   "cell_type": "markdown",
   "metadata": {},
   "source": [
    "There is only an 11% probability that the new algorithm leads to 5 minutes or more per week on the website. This is not a great result. I would not suggest putting the new algorithm into use"
   ]
  },
  {
   "cell_type": "markdown",
   "metadata": {},
   "source": [
    "### Problem 3.3\n",
    "\n",
    "Pick an interesting inferential question for the data and answer it."
   ]
  },
  {
   "cell_type": "markdown",
   "metadata": {},
   "source": [
    "We have looked at 95% BCIs, and the probability that the new algorithm is cost effective. Now, let's look at how likely a user is to spend *any* more time on the website becuase of the new algorithm, and the opposite: how likely is a user to spend *less* time on the website due to the new algorithm.\n",
    "\n",
    "Let's start with probability of spending more time. Remember that because our difference was calculated as old - new, more time means a negative difference"
   ]
  },
  {
   "cell_type": "code",
   "execution_count": 29,
   "metadata": {},
   "outputs": [
    {
     "data": {
      "text/plain": [
       "0.443"
      ]
     },
     "execution_count": 29,
     "metadata": {},
     "output_type": "execute_result"
    }
   ],
   "source": [
    "(difference_posterior < 0).mean()"
   ]
  },
  {
   "cell_type": "markdown",
   "metadata": {},
   "source": [
    "There is a 45.2% probability that a visitor will spend *more* time on the website with the new algorithm; definitely not a good result.\n",
    "\n",
    "Now let's see probability of spending less time:"
   ]
  },
  {
   "cell_type": "code",
   "execution_count": 30,
   "metadata": {},
   "outputs": [
    {
     "data": {
      "text/plain": [
       "0.556"
      ]
     },
     "execution_count": 30,
     "metadata": {},
     "output_type": "execute_result"
    }
   ],
   "source": [
    "(difference_posterior > 0).mean()"
   ]
  },
  {
   "cell_type": "markdown",
   "metadata": {},
   "source": [
    "There is a 54.8% probability that a visitor will spend *less* time on the website with the new algorithm. These three sets of numbers:\n",
    "- 95% BCIs\n",
    "- ROPE calculation\n",
    "- Probability of spending more or less time\n",
    "\n",
    "paint a fairly clear picture of the effects of the new algorithm: *it increases the variability in user's time on the site, and generally decreases their probability of staying for longer*."
   ]
  },
  {
   "cell_type": "markdown",
   "metadata": {
    "colab_type": "text",
    "id": "F4F64zmn5d6X"
   },
   "source": [
    "<a id=\"q4\"></a>\n",
    "## Problem 4\n",
    "---\n",
    "\n",
    "So far we have talked about the Non-Parametric Bootstrap. In this question, you will use the Parametric Bootstrap to solve a problem in Bayesian inference when you don't have the original data.\n",
    "\n",
    "We could use the Normal Distribution for this problem because test scores are likely normally distributed. However, we run into a problem when doing simulations because we're likely to generate test scores outside the range 0-100.\n",
    "\n",
    "We can use the Truncated Normal Distribution (`truncnorm`) instead. From the scipy docs truncnorm page: https://docs.scipy.org/doc/scipy/reference/generated/scipy.stats.truncnorm.html\n",
    "\n",
    "\"The standard form of this distribution is a standard normal truncated to the range [a, b] — notice that a and b are defined over the domain of the standard normal. To convert clip values for a specific mean and standard deviation, use:\n",
    "\n",
    "a, b = (myclip_a - my_mean) / my_std, (myclip_b - my_mean) / my_std\n",
    "\n",
    "\"\n",
    "\n",
    "Plus further clarification on a and b from https://stackoverflow.com/questions/18441779/how-to-specify-upper-and-lower-limits-when-using-numpy-random-normal\n",
    "\n",
    "a, b = (lower - mu) / sigma, (upper - mu) / sigma\n",
    "\n",
    "> \"Within a school district, students were randomly assigned to one of two Math teachers - Mrs. Smith and Mrs. Jones. After the assignment, Mrs. Smith had 30 students, and Mrs. Jones had 25 students.\n",
    ">\n",
    "> At the end of the year, each class took the same standardized test. Mrs. Smith's students had an average test score of 78, with a standard deviation of 10; and Mrs. Jones' students had an average test score of 85, with a standard deviation of 15.\n",
    ">\n",
    "> What is the probability that Mrs. Smith and Mrs. Jones are equally effective teachers.\"\n",
    "\n",
    "The method is to take M random samples of size N from the parameterized distribution. Use M=100 and the respective class sizes as N."
   ]
  },
  {
   "cell_type": "markdown",
   "metadata": {
    "colab_type": "text",
    "id": "OIQO_jJt8r4N"
   },
   "source": [
    "### Problem 4.1\n",
    "\n",
    "Define what \"equally effective might mean\". This circumscribes what is \"meaningful\"."
   ]
  },
  {
   "cell_type": "markdown",
   "metadata": {
    "colab_type": "text",
    "id": "2to5PF_985yC"
   },
   "source": [
    "\"Equally effective\" is a rather subjective metric, only made harder to define by the fact that a truncated normal distribution has both a \"location\" and a \"scale\". Is a teacher with a higher \"location\" but larger \"scale\", better than one with a lower \"location\" and smaller \"scale\"? There isn't a single obvious answer that comes to mind; it's not that different from asking \"how do we, as a society, want our children to learn and move forward in school?\". \n",
    "\n",
    "Despite this ambiguity, let's measure a teacher's \"effectiveness\" by the percent of students that \"pass\" the test. We could define \"passing\" as having a score equal to or greater than some predetermined number. Another method of saying which students passed is by saying something like \"the bottom 10% have failed\". (This is certainly a method that I favored when class averages were below 50). However, in the interest of making this problem easier for myself, I will choose the first method, and imagine that the teachers have defined the following:\n",
    "\n",
    "- $\\ge 90$: A\n",
    "- $\\ge 80$: B\n",
    "- $\\ge 70$: C\n",
    "- $\\ge 60$: D\n",
    "- $< 60$: FAIL\n",
    "\n",
    "With this definition, **two teachers that are \"equally effective\" means approximately the same percent of their students do not fail.** We will say that \"approximately the same percent\" means within 5% of eachother. \n",
    "\n",
    "Hence, **two teachers that are \"equally effective\" means that the difference of the percent of students who pass is less than or equal to 5%.**"
   ]
  },
  {
   "cell_type": "markdown",
   "metadata": {
    "colab_type": "text",
    "id": "LKempVu286cq"
   },
   "source": [
    "### Problem 4.2\n",
    "\n",
    "Now determine if it is *believable*."
   ]
  },
  {
   "cell_type": "markdown",
   "metadata": {},
   "source": [
    "To parameterize a truncated normal distribution, we need the following:\n",
    "\n",
    "- upper bound: 100\n",
    "- lower bound: 0\n",
    "- location: $\\mu$\n",
    "- scale: $\\sigma$\n",
    "- $a = \\frac{lower\\_bound - \\mu}{\\sigma}$\n",
    "- $b = \\frac{upper\\_bound - \\mu}{\\sigma}$\n",
    "\n",
    "where $\\mu_{smith} = 78$, $\\sigma_{smith} = 10$, and $\\mu_{jones} = 85$, $\\sigma_{jones} = 15$"
   ]
  },
  {
   "cell_type": "code",
   "execution_count": 31,
   "metadata": {},
   "outputs": [],
   "source": [
    "lower  , upper   = 0 , 100\n",
    "μ_smith, σ_smith = 78, 10\n",
    "μ_jones, σ_jones = 85, 15\n",
    "\n",
    "smith_class_size = 30\n",
    "jones_class_size = 25"
   ]
  },
  {
   "cell_type": "markdown",
   "metadata": {},
   "source": [
    "We've defined all the parameters we need. Now it's time to define the bootstrapping process"
   ]
  },
  {
   "cell_type": "code",
   "execution_count": 32,
   "metadata": {},
   "outputs": [],
   "source": [
    "def trunc_norm_bootstrap(lower, upper, loc, scale, N, M, reducing_function):\n",
    "    a = (lower - loc) / scale\n",
    "    b = (upper - loc) / scale\n",
    "    trunc_norm = stats.truncnorm(a, b, loc = loc, scale = scale)\n",
    "    samples = np.array([reducing_function(trunc_norm.rvs(N)) for _ in range(M)])\n",
    "    return samples"
   ]
  },
  {
   "cell_type": "code",
   "execution_count": 33,
   "metadata": {},
   "outputs": [],
   "source": [
    "def percent_who_pass(scores):\n",
    "    return (scores >= 60).mean()"
   ]
  },
  {
   "cell_type": "markdown",
   "metadata": {},
   "source": [
    "Let's try out our parametric bootstrapping process!"
   ]
  },
  {
   "cell_type": "code",
   "execution_count": 34,
   "metadata": {},
   "outputs": [],
   "source": [
    "np.random.seed(42)\n",
    "smith_pct_pass_posterior = trunc_norm_bootstrap(\n",
    "    lower = 0, \n",
    "    upper = 100, \n",
    "    loc = μ_smith, \n",
    "    scale = σ_smith, \n",
    "    N = smith_class_size, \n",
    "    M = 100, \n",
    "    reducing_function = percent_who_pass\n",
    ")\n",
    "\n",
    "jones_pct_pass_posterior = trunc_norm_bootstrap(\n",
    "    lower = 0, \n",
    "    upper = 100, \n",
    "    loc = μ_jones, \n",
    "    scale = σ_jones, \n",
    "    N = jones_class_size, \n",
    "    M = 100, \n",
    "    reducing_function = percent_who_pass\n",
    ")\n",
    "\n",
    "difference_posterior = smith_pct_pass_posterior - jones_pct_pass_posterior"
   ]
  },
  {
   "cell_type": "markdown",
   "metadata": {},
   "source": [
    "Now that we have estimated posteriors for both teachers, and the difference, let's plot them"
   ]
  },
  {
   "cell_type": "code",
   "execution_count": 35,
   "metadata": {},
   "outputs": [
    {
     "data": {
      "image/png": "[encoded data removed]",
      "text/plain": [
       "<Figure size 1440x432 with 3 Axes>"
      ]
     },
     "metadata": {},
     "output_type": "display_data"
    }
   ],
   "source": [
    "figure = plt.figure(figsize=(20, 6)) # first element is width, second is height.\n",
    "\n",
    "ax1 = figure.add_subplot(1, 3, 1)\n",
    "\n",
    "ax1.hist( smith_pct_pass_posterior, density=True)\n",
    "ax1.set_xlim(0.7, 1.0)\n",
    "ax1.set_ylabel( \"Density\")\n",
    "ax1.set_xlabel( \"$\\hat{\\\\theta}_{smith}$\")\n",
    "ax1.set_title( \"Posterior Distribution of Smith's Percent of Passing Students - $\\hat{\\\\theta}_{smith}$\")\n",
    "\n",
    "ax2 = figure.add_subplot(1, 3, 2, sharex = ax1, sharey = ax1)\n",
    "ax2.hist( jones_pct_pass_posterior, density=True)\n",
    "ax2.set_ylabel( \"Density\")\n",
    "ax2.set_xlabel( \"$\\hat{\\\\theta}_{jones}$\")\n",
    "ax2.set_title( \"Posterior Distribution of Jones' Percent of Passing Students - $\\hat{\\\\theta}_{jones}$\")\n",
    "\n",
    "ax3 = figure.add_subplot(1, 3, 3, sharey = ax1)\n",
    "ax3.hist( difference_posterior, density=True)\n",
    "ax3.set_ylabel( \"Density\")\n",
    "ax3.set_xlabel( \"difference in $\\hat{\\\\theta}$\")\n",
    "ax3.set_title( \"Posterior Distribution of Difference in $\\hat{\\\\theta}$s\")\n",
    "\n",
    "plt.show()\n",
    "plt.close()"
   ]
  },
  {
   "cell_type": "markdown",
   "metadata": {},
   "source": [
    "Before we interperet these plots, let's remember exactly what these $\\hat{\\theta}$s represent. They are the estimates of what percent of the class passes.\n",
    "\n",
    "Now, we can say that it looks as if Mrs. Smith has a higher probability of all of the class passing, and at least 85% of her class will almost always pass. Whereas at least 75% of Mrs. Jones' class will almost always pass. \n",
    "\n",
    "Let's now use our definition of \"equally effective\""
   ]
  },
  {
   "cell_type": "code",
   "execution_count": 36,
   "metadata": {},
   "outputs": [
    {
     "data": {
      "text/plain": [
       "0.64"
      ]
     },
     "execution_count": 36,
     "metadata": {},
     "output_type": "execute_result"
    }
   ],
   "source": [
    "(np.abs(difference_posterior) <= 0.05).mean()"
   ]
  },
  {
   "cell_type": "markdown",
   "metadata": {},
   "source": [
    "Using the definition from Problem 4.1, there is a 64% probability that Mrs. Smith and Mrs. Jones are equally effective teachers."
   ]
  },
  {
   "cell_type": "markdown",
   "metadata": {},
   "source": [
    "### Problem 4.3\n",
    "\n",
    "Answer one additional question of inference using the posterior distribution."
   ]
  },
  {
   "cell_type": "markdown",
   "metadata": {
    "colab": {},
    "colab_type": "code",
    "id": "kZr6SQ_e5d6Y"
   },
   "source": [
    "I'd like to know the probability that one teacher is better than the other, where \"better\" means \"not-equal\" using the equality definition from Problem 4.1."
   ]
  },
  {
   "cell_type": "code",
   "execution_count": 37,
   "metadata": {},
   "outputs": [
    {
     "name": "stdout",
     "output_type": "stream",
     "text": [
      "The probability that Mrs. Smith is the better teacher is 22.0%\n",
      "The probability that Mrs. Jones is the better teacher is 14.0%\n"
     ]
    }
   ],
   "source": [
    "smith_better = (difference_posterior > 0.05).mean()\n",
    "jones_better = (difference_posterior < -0.05).mean()\n",
    "\n",
    "print(f\"The probability that Mrs. Smith is the better teacher is {100*smith_better:.1f}%\")\n",
    "print(f\"The probability that Mrs. Jones is the better teacher is {100*jones_better:.1f}%\")"
   ]
  },
  {
   "cell_type": "markdown",
   "metadata": {
    "colab_type": "text",
    "id": "MX9sjc3h97FY"
   },
   "source": [
    "\n",
    "\n",
    "---\n",
    "\n",
    "**CHECK LIST**\n",
    "\n",
    "Before you submit this assignent, go back and review the directions to ensure that you have followed each instruction.\n",
    "\n",
    "\n",
    "\n",
    "*   Have you completed every section and answered every question asked?\n",
    "*   For every question, have you described your approach and explained your results?\n",
    "*   Have you checked for spelling and grammar errors?\n",
    "*   Are your code blocks free of any errors?\n",
    "*   Have you *SAVED* your notebook?\n",
    "\n"
   ]
  }
 ],
 "metadata": {
  "colab": {
   "collapsed_sections": [],
   "name": "Problem Set 4.ipynb",
   "provenance": [],
   "toc_visible": true
  },
  "kernelspec": {
   "display_name": "Python 3",
   "language": "python",
   "name": "python3"
  },
  "language_info": {
   "codemirror_mode": {
    "name": "ipython",
    "version": 3
   },
   "file_extension": ".py",
   "mimetype": "text/x-python",
   "name": "python",
   "nbconvert_exporter": "python",
   "pygments_lexer": "ipython3",
   "version": "3.7.7"
  },
  "toc": {
   "colors": {
    "hover_highlight": "#DAA520",
    "navigate_num": "#000000",
    "navigate_text": "#333333",
    "running_highlight": "#FF0000",
    "selected_highlight": "#FFD700",
    "sidebar_border": "#EEEEEE",
    "wrapper_background": "#FFFFFF"
   },
   "moveMenuLeft": true,
   "nav_menu": {
    "height": "66px",
    "width": "252px"
   },
   "navigate_menu": true,
   "number_sections": true,
   "sideBar": true,
   "threshold": 4,
   "toc_cell": false,
   "toc_section_display": "block",
   "toc_window_display": false,
   "widenNotebook": false
  }
 },
 "nbformat": 4,
 "nbformat_minor": 4
}
